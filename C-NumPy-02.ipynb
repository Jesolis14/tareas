{
 "cells": [
  {
   "cell_type": "markdown",
   "id": "b7f59f84-4505-4276-9ef0-9a11ab113139",
   "metadata": {},
   "source": [
    "# Biblioteca NumPy\n",
    "\n",
    "NumPy es una biblioteca para el lenguaje de programación Python que da soporte para crear vectores y matrices grandes multidimensionales, junto con una gran colección de funciones matemáticas de alto nivel para operar con ellas.\n",
    "\n",
    "Sus características principales son:\n",
    "- **Matrices N-dimensionales potentes:** Rápidas y versátiles, los conceptos de vectorización, indexación y broadcasting de NumPy son los estándares de facto de la informática matricial actual.\n",
    "- **Herramientas de cómputo numérico:** NumPy ofrece funciones matemáticas completas, generadores de números aleatorios, rutinas de álgebra lineal, transformadas de Fourier y más.\n",
    "- **Interoperable:** NumPy es compatible con una amplia gama de plataformas de hardware y computación, y funciona bien con bibliotecas distribuidas, de GPU y de matrices dispersas.\n",
    "- **Alto rendimiento:** El núcleo de NumPy es un código C bien optimizado.\n",
    "- **Fácil de usar:** La sintaxis de alto nivel de NumPy lo hace accesible y productivo para programadores de cualquier nivel de formación o experiencia.\n",
    "\n",
    "Instala la biblioteca `numpy`...\n",
    "\n",
    "Esta libreta consiste principalmente de código. Agrega tus notas y observaciones en celdas con formato Markdown."
   ]
  },
  {
   "cell_type": "code",
   "execution_count": 1,
   "id": "d4b95bf8-9ee6-412a-b94b-932f81008fd9",
   "metadata": {},
   "outputs": [],
   "source": [
    "import numpy as np"
   ]
  },
  {
   "cell_type": "markdown",
   "id": "8436e487-07e6-4171-bd8c-3e6fac292d64",
   "metadata": {},
   "source": [
    "## Manipulación de arreglos"
   ]
  },
  {
   "cell_type": "code",
   "execution_count": 2,
   "id": "6b1a53ad-0302-4bc4-bf64-ac1d0dd881a5",
   "metadata": {},
   "outputs": [],
   "source": [
    "np.random.seed(0)\n",
    "x1 = np.random.randint(10, size=6)\n",
    "x2 = np.random.randint(10, size=(3, 4))\n",
    "x3 = np.random.randint(10, size=(3, 4, 5))"
   ]
  },
  {
   "cell_type": "code",
   "execution_count": 3,
   "id": "42b1595c-ca44-469b-bc74-3cb24c4de94e",
   "metadata": {},
   "outputs": [
    {
     "data": {
      "text/plain": [
       "array([5, 0, 3, 3, 7, 9])"
      ]
     },
     "execution_count": 3,
     "metadata": {},
     "output_type": "execute_result"
    }
   ],
   "source": [
    "x1"
   ]
  },
  {
   "cell_type": "code",
   "execution_count": 4,
   "id": "52707134-fcc9-4ddd-a54e-630a7dbd5da4",
   "metadata": {},
   "outputs": [
    {
     "data": {
      "text/plain": [
       "(dtype('int64'), dtype('int64'), dtype('int64'))"
      ]
     },
     "execution_count": 4,
     "metadata": {},
     "output_type": "execute_result"
    }
   ],
   "source": [
    "x1.dtype, x2.dtype, x3.dtype"
   ]
  },
  {
   "cell_type": "code",
   "execution_count": 5,
   "id": "b91b26ca-319a-433c-9cae-c164c826e99b",
   "metadata": {},
   "outputs": [
    {
     "data": {
      "text/plain": [
       "(8, 8, 8)"
      ]
     },
     "execution_count": 5,
     "metadata": {},
     "output_type": "execute_result"
    }
   ],
   "source": [
    "x1.itemsize, x2.itemsize, x3.itemsize"
   ]
  },
  {
   "cell_type": "code",
   "execution_count": 6,
   "id": "c8af52cc-be6e-4e8a-8905-4b9bd5a20ee9",
   "metadata": {},
   "outputs": [
    {
     "data": {
      "text/plain": [
       "(1, 2, 3)"
      ]
     },
     "execution_count": 6,
     "metadata": {},
     "output_type": "execute_result"
    }
   ],
   "source": [
    "x1.ndim, x2.ndim, x3.ndim"
   ]
  },
  {
   "cell_type": "code",
   "execution_count": 7,
   "id": "fb535633-7c55-4067-a941-b60a3d0c01c9",
   "metadata": {},
   "outputs": [
    {
     "data": {
      "text/plain": [
       "((6,), (3, 4), (3, 4, 5))"
      ]
     },
     "execution_count": 7,
     "metadata": {},
     "output_type": "execute_result"
    }
   ],
   "source": [
    "x1.shape, x2.shape, x3.shape"
   ]
  },
  {
   "cell_type": "code",
   "execution_count": 8,
   "id": "bece55f0-8776-49e1-844a-32c09d8167cf",
   "metadata": {},
   "outputs": [
    {
     "data": {
      "text/plain": [
       "(6, 12, 60)"
      ]
     },
     "execution_count": 8,
     "metadata": {},
     "output_type": "execute_result"
    }
   ],
   "source": [
    "x1.size, x2.size, x3.size"
   ]
  },
  {
   "cell_type": "code",
   "execution_count": 9,
   "id": "15680aa3-1c04-40c8-a336-0bf48950aeda",
   "metadata": {},
   "outputs": [
    {
     "ename": "AttributeError",
     "evalue": "attribute 'ndim' of 'numpy.ndarray' objects is not writable",
     "output_type": "error",
     "traceback": [
      "\u001b[0;31m---------------------------------------------------------------------------\u001b[0m",
      "\u001b[0;31mAttributeError\u001b[0m                            Traceback (most recent call last)",
      "Cell \u001b[0;32mIn[9], line 1\u001b[0m\n\u001b[0;32m----> 1\u001b[0m \u001b[43mx3\u001b[49m\u001b[38;5;241;43m.\u001b[39;49m\u001b[43mndim\u001b[49m \u001b[38;5;241m=\u001b[39m \u001b[38;5;241m8\u001b[39m\n",
      "\u001b[0;31mAttributeError\u001b[0m: attribute 'ndim' of 'numpy.ndarray' objects is not writable"
     ]
    }
   ],
   "source": [
    "x3.ndim = 8"
   ]
  },
  {
   "cell_type": "code",
   "execution_count": 10,
   "id": "72605170-08ef-431f-adec-282e910cc4a8",
   "metadata": {},
   "outputs": [
    {
     "data": {
      "text/plain": [
       "(48, 96, 480)"
      ]
     },
     "execution_count": 10,
     "metadata": {},
     "output_type": "execute_result"
    }
   ],
   "source": [
    "x1.nbytes, x2.nbytes, x3.nbytes"
   ]
  },
  {
   "cell_type": "markdown",
   "id": "2bb673ea-213c-4ef5-9396-67cf26ad53ba",
   "metadata": {},
   "source": [
    "## Acceso a los elementos"
   ]
  },
  {
   "cell_type": "code",
   "execution_count": 11,
   "id": "bd8034ce-3f43-4624-b8bf-faafc3baeaeb",
   "metadata": {},
   "outputs": [
    {
     "data": {
      "text/plain": [
       "array([5, 0, 3, 3, 7, 9])"
      ]
     },
     "execution_count": 11,
     "metadata": {},
     "output_type": "execute_result"
    }
   ],
   "source": [
    "x1"
   ]
  },
  {
   "cell_type": "code",
   "execution_count": 12,
   "id": "7de8fcab-44d0-4cb3-8932-555cb561f5b8",
   "metadata": {},
   "outputs": [
    {
     "data": {
      "text/plain": [
       "np.int64(5)"
      ]
     },
     "execution_count": 12,
     "metadata": {},
     "output_type": "execute_result"
    }
   ],
   "source": [
    "x1[0]"
   ]
  },
  {
   "cell_type": "code",
   "execution_count": 13,
   "id": "36666472-5af4-4fe7-94cb-fc9b05894258",
   "metadata": {},
   "outputs": [
    {
     "data": {
      "text/plain": [
       "np.int64(0)"
      ]
     },
     "execution_count": 13,
     "metadata": {},
     "output_type": "execute_result"
    }
   ],
   "source": [
    "x1[1]"
   ]
  },
  {
   "cell_type": "code",
   "execution_count": 14,
   "id": "919dd514-6521-4140-8c10-aebc679f1f18",
   "metadata": {},
   "outputs": [
    {
     "data": {
      "text/plain": [
       "np.int64(3)"
      ]
     },
     "execution_count": 14,
     "metadata": {},
     "output_type": "execute_result"
    }
   ],
   "source": [
    "x1[2]"
   ]
  },
  {
   "cell_type": "code",
   "execution_count": 15,
   "id": "25f39819-a94b-4ce8-ac22-99da957c9b86",
   "metadata": {},
   "outputs": [
    {
     "data": {
      "text/plain": [
       "np.int64(9)"
      ]
     },
     "execution_count": 15,
     "metadata": {},
     "output_type": "execute_result"
    }
   ],
   "source": [
    "x1[-1]"
   ]
  },
  {
   "cell_type": "code",
   "execution_count": 16,
   "id": "c50126ca-b7b6-4f67-84d9-83e2f309f2ba",
   "metadata": {},
   "outputs": [
    {
     "data": {
      "text/plain": [
       "np.int64(7)"
      ]
     },
     "execution_count": 16,
     "metadata": {},
     "output_type": "execute_result"
    }
   ],
   "source": [
    "x1[-2]"
   ]
  },
  {
   "cell_type": "code",
   "execution_count": 17,
   "id": "13ace8c4-1c8c-49bc-bb36-20779b204c32",
   "metadata": {},
   "outputs": [
    {
     "data": {
      "text/plain": [
       "array([[3, 5, 2, 4],\n",
       "       [7, 6, 8, 8],\n",
       "       [1, 6, 7, 7]])"
      ]
     },
     "execution_count": 17,
     "metadata": {},
     "output_type": "execute_result"
    }
   ],
   "source": [
    "x2"
   ]
  },
  {
   "cell_type": "code",
   "execution_count": 18,
   "id": "3c19b320-af2f-49af-9f0d-8f10d1388cfe",
   "metadata": {},
   "outputs": [
    {
     "data": {
      "text/plain": [
       "np.int64(3)"
      ]
     },
     "execution_count": 18,
     "metadata": {},
     "output_type": "execute_result"
    }
   ],
   "source": [
    "x2[0,0]"
   ]
  },
  {
   "cell_type": "code",
   "execution_count": 19,
   "id": "342ba769-8ac4-42b1-b01f-31afff04d728",
   "metadata": {},
   "outputs": [
    {
     "data": {
      "text/plain": [
       "np.int64(5)"
      ]
     },
     "execution_count": 19,
     "metadata": {},
     "output_type": "execute_result"
    }
   ],
   "source": [
    "x2[0,1]"
   ]
  },
  {
   "cell_type": "code",
   "execution_count": 20,
   "id": "82dc17a7-6cc7-461a-8131-a802f2621fa9",
   "metadata": {},
   "outputs": [
    {
     "data": {
      "text/plain": [
       "np.int64(7)"
      ]
     },
     "execution_count": 20,
     "metadata": {},
     "output_type": "execute_result"
    }
   ],
   "source": [
    "x2[1,0]"
   ]
  },
  {
   "cell_type": "code",
   "execution_count": 21,
   "id": "eabd208a-a3bd-4f8b-b1e8-ab9d2f3b6c1d",
   "metadata": {},
   "outputs": [],
   "source": [
    "x2[0,0] = 12"
   ]
  },
  {
   "cell_type": "code",
   "execution_count": 22,
   "id": "d424fbd7-0348-429d-972b-791554a340c8",
   "metadata": {},
   "outputs": [
    {
     "data": {
      "text/plain": [
       "array([[12,  5,  2,  4],\n",
       "       [ 7,  6,  8,  8],\n",
       "       [ 1,  6,  7,  7]])"
      ]
     },
     "execution_count": 22,
     "metadata": {},
     "output_type": "execute_result"
    }
   ],
   "source": [
    "x2"
   ]
  },
  {
   "cell_type": "code",
   "execution_count": 23,
   "id": "671fd8e6-ed58-4bd2-a44c-b8c9af682d89",
   "metadata": {},
   "outputs": [],
   "source": [
    "class ObjetoRaro:\n",
    "    def __init__(self, x):\n",
    "        self.x = x\n",
    "    def __int__(self):\n",
    "        return len(self.x)\n",
    "    def __contains__(self, y):\n",
    "        return y in self.x\n",
    "    def __getitem__(self, i):\n",
    "        return False"
   ]
  },
  {
   "cell_type": "code",
   "execution_count": 24,
   "id": "ac1b3667-fc6a-4dc8-a105-906cab048425",
   "metadata": {},
   "outputs": [
    {
     "data": {
      "text/plain": [
       "array([5, 0, 3, 3, 7, 9])"
      ]
     },
     "execution_count": 24,
     "metadata": {},
     "output_type": "execute_result"
    }
   ],
   "source": [
    "x1"
   ]
  },
  {
   "cell_type": "code",
   "execution_count": 25,
   "id": "86f15891-f685-49c7-b112-46a86cee90d3",
   "metadata": {},
   "outputs": [],
   "source": [
    "x1[0] = ObjetoRaro(\"hola!\")"
   ]
  },
  {
   "cell_type": "code",
   "execution_count": 26,
   "id": "d7660496-d969-4ff9-9712-3ffe1807a7d8",
   "metadata": {},
   "outputs": [
    {
     "data": {
      "text/plain": [
       "array([5, 0, 3, 3, 7, 9])"
      ]
     },
     "execution_count": 26,
     "metadata": {},
     "output_type": "execute_result"
    }
   ],
   "source": [
    "x1"
   ]
  },
  {
   "cell_type": "code",
   "execution_count": 27,
   "id": "f1ff3834-1b15-40ea-97d2-4a3760cc73dd",
   "metadata": {},
   "outputs": [],
   "source": [
    "x1 = np.random.random(6)"
   ]
  },
  {
   "cell_type": "code",
   "execution_count": 28,
   "id": "accea941-40a2-4fea-800b-adf0cfc1fd60",
   "metadata": {},
   "outputs": [
    {
     "data": {
      "text/plain": [
       "array([0.65279032, 0.63505887, 0.99529957, 0.58185033, 0.41436859,\n",
       "       0.4746975 ])"
      ]
     },
     "execution_count": 28,
     "metadata": {},
     "output_type": "execute_result"
    }
   ],
   "source": [
    "x1"
   ]
  },
  {
   "cell_type": "code",
   "execution_count": 29,
   "id": "19ceec5a-b75d-45b6-b48b-883bc900e22b",
   "metadata": {},
   "outputs": [
    {
     "ename": "ValueError",
     "evalue": "setting an array element with a sequence.",
     "output_type": "error",
     "traceback": [
      "\u001b[0;31m---------------------------------------------------------------------------\u001b[0m",
      "\u001b[0;31mTypeError\u001b[0m                                 Traceback (most recent call last)",
      "\u001b[0;31mTypeError\u001b[0m: float() argument must be a string or a real number, not 'ObjetoRaro'",
      "\nThe above exception was the direct cause of the following exception:\n",
      "\u001b[0;31mValueError\u001b[0m                                Traceback (most recent call last)",
      "Cell \u001b[0;32mIn[29], line 1\u001b[0m\n\u001b[0;32m----> 1\u001b[0m \u001b[43mx1\u001b[49m\u001b[43m[\u001b[49m\u001b[38;5;241;43m0\u001b[39;49m\u001b[43m]\u001b[49m \u001b[38;5;241m=\u001b[39m ObjetoRaro(\u001b[38;5;124m\"\u001b[39m\u001b[38;5;124mhola!\u001b[39m\u001b[38;5;124m\"\u001b[39m)\n",
      "\u001b[0;31mValueError\u001b[0m: setting an array element with a sequence."
     ]
    }
   ],
   "source": [
    "x1[0] = ObjetoRaro(\"hola!\")"
   ]
  },
  {
   "cell_type": "code",
   "execution_count": 30,
   "id": "5e69d8b6-b27d-4cf2-afce-c0796eee9f31",
   "metadata": {},
   "outputs": [],
   "source": [
    "class ObjetoRarito(ObjetoRaro):\n",
    "    def __init__(self, x):\n",
    "        super().__init__(x)\n",
    "    def __float__(self):\n",
    "        return float(len(self.x))"
   ]
  },
  {
   "cell_type": "code",
   "execution_count": 31,
   "id": "b8608b3d-4ef7-458e-8593-6d870b740f51",
   "metadata": {},
   "outputs": [],
   "source": [
    "x1[0] = ObjetoRarito(\"hola!\")"
   ]
  },
  {
   "cell_type": "code",
   "execution_count": 32,
   "id": "8ed0f408-afcb-4bdd-85c3-a93112de6ed4",
   "metadata": {},
   "outputs": [
    {
     "data": {
      "text/plain": [
       "array([5.        , 0.63505887, 0.99529957, 0.58185033, 0.41436859,\n",
       "       0.4746975 ])"
      ]
     },
     "execution_count": 32,
     "metadata": {},
     "output_type": "execute_result"
    }
   ],
   "source": [
    "x1"
   ]
  },
  {
   "cell_type": "markdown",
   "id": "8aa8ba0a-2584-44f4-8610-e1033cb4941c",
   "metadata": {},
   "source": [
    "## Rebanadas"
   ]
  },
  {
   "cell_type": "code",
   "execution_count": 33,
   "id": "52557ec2-a650-4689-9b1b-e0929f9ba9c6",
   "metadata": {},
   "outputs": [],
   "source": [
    "x = np.arange(10)"
   ]
  },
  {
   "cell_type": "code",
   "execution_count": 34,
   "id": "42f0d83c-749a-4223-8711-ef059c3a8008",
   "metadata": {},
   "outputs": [
    {
     "data": {
      "text/plain": [
       "array([0, 1, 2, 3, 4, 5, 6, 7, 8, 9])"
      ]
     },
     "execution_count": 34,
     "metadata": {},
     "output_type": "execute_result"
    }
   ],
   "source": [
    "x"
   ]
  },
  {
   "cell_type": "code",
   "execution_count": 35,
   "id": "6068149a-8d3f-472b-ab6c-9af82ef4e7c1",
   "metadata": {},
   "outputs": [
    {
     "data": {
      "text/plain": [
       "array([0, 1, 2, 3, 4])"
      ]
     },
     "execution_count": 35,
     "metadata": {},
     "output_type": "execute_result"
    }
   ],
   "source": [
    "x[:5]"
   ]
  },
  {
   "cell_type": "code",
   "execution_count": 36,
   "id": "bb1b5ba1-7659-4671-a043-5dfebbdd678a",
   "metadata": {},
   "outputs": [
    {
     "data": {
      "text/plain": [
       "array([5, 6, 7, 8, 9])"
      ]
     },
     "execution_count": 36,
     "metadata": {},
     "output_type": "execute_result"
    }
   ],
   "source": [
    "x[5:]"
   ]
  },
  {
   "cell_type": "code",
   "execution_count": 37,
   "id": "c7d9a7fd-af37-450f-8dfc-5f8b09510790",
   "metadata": {},
   "outputs": [
    {
     "data": {
      "text/plain": [
       "array([4, 5, 6])"
      ]
     },
     "execution_count": 37,
     "metadata": {},
     "output_type": "execute_result"
    }
   ],
   "source": [
    "x[4:7]"
   ]
  },
  {
   "cell_type": "code",
   "execution_count": 38,
   "id": "c2daa396-7948-48f1-9e8b-16a9be924229",
   "metadata": {},
   "outputs": [
    {
     "data": {
      "text/plain": [
       "array([0, 2, 4, 6, 8])"
      ]
     },
     "execution_count": 38,
     "metadata": {},
     "output_type": "execute_result"
    }
   ],
   "source": [
    "x[::2]"
   ]
  },
  {
   "cell_type": "code",
   "execution_count": 39,
   "id": "f059f764-1b55-40c4-8c66-e712575d4a07",
   "metadata": {},
   "outputs": [
    {
     "data": {
      "text/plain": [
       "array([1, 3, 5, 7, 9])"
      ]
     },
     "execution_count": 39,
     "metadata": {},
     "output_type": "execute_result"
    }
   ],
   "source": [
    "x[1::2]"
   ]
  },
  {
   "cell_type": "code",
   "execution_count": 40,
   "id": "c9ada4c6-4abb-45f7-8f15-cf967beefc1a",
   "metadata": {},
   "outputs": [
    {
     "data": {
      "text/plain": [
       "array([9, 8, 7, 6, 5, 4, 3, 2, 1, 0])"
      ]
     },
     "execution_count": 40,
     "metadata": {},
     "output_type": "execute_result"
    }
   ],
   "source": [
    "x[::-1]"
   ]
  },
  {
   "cell_type": "code",
   "execution_count": 41,
   "id": "2561f702-a684-4ea4-85e3-390a7949d310",
   "metadata": {},
   "outputs": [
    {
     "data": {
      "text/plain": [
       "array([5, 3, 1])"
      ]
     },
     "execution_count": 41,
     "metadata": {},
     "output_type": "execute_result"
    }
   ],
   "source": [
    "x[5::-2]"
   ]
  },
  {
   "cell_type": "code",
   "execution_count": 42,
   "id": "12484ad8-9101-4b52-a7e1-808cf6b7c241",
   "metadata": {},
   "outputs": [
    {
     "data": {
      "text/plain": [
       "array([[12,  5,  2,  4],\n",
       "       [ 7,  6,  8,  8],\n",
       "       [ 1,  6,  7,  7]])"
      ]
     },
     "execution_count": 42,
     "metadata": {},
     "output_type": "execute_result"
    }
   ],
   "source": [
    "x2"
   ]
  },
  {
   "cell_type": "code",
   "execution_count": 43,
   "id": "5c495392-d1cb-4f69-ad28-f267debcf2be",
   "metadata": {},
   "outputs": [
    {
     "data": {
      "text/plain": [
       "array([[12,  5,  2],\n",
       "       [ 7,  6,  8]])"
      ]
     },
     "execution_count": 43,
     "metadata": {},
     "output_type": "execute_result"
    }
   ],
   "source": [
    "x2[:2, :3]"
   ]
  },
  {
   "cell_type": "code",
   "execution_count": 44,
   "id": "6ad45dff-ffcd-4896-833f-e6dd198e2822",
   "metadata": {},
   "outputs": [
    {
     "data": {
      "text/plain": [
       "array([[12,  2],\n",
       "       [ 7,  8],\n",
       "       [ 1,  7]])"
      ]
     },
     "execution_count": 44,
     "metadata": {},
     "output_type": "execute_result"
    }
   ],
   "source": [
    "x2[:3, ::2]"
   ]
  },
  {
   "cell_type": "code",
   "execution_count": 45,
   "id": "297e6fca-2c58-4894-971b-d627f11869ca",
   "metadata": {},
   "outputs": [
    {
     "data": {
      "text/plain": [
       "array([[ 7,  7,  6,  1],\n",
       "       [ 8,  8,  6,  7],\n",
       "       [ 4,  2,  5, 12]])"
      ]
     },
     "execution_count": 45,
     "metadata": {},
     "output_type": "execute_result"
    }
   ],
   "source": [
    "x2[::-1, ::-1]"
   ]
  },
  {
   "cell_type": "code",
   "execution_count": 46,
   "id": "c3be2215-9e4c-4c3f-a918-d2a462f6585e",
   "metadata": {},
   "outputs": [
    {
     "data": {
      "text/plain": [
       "array([[5, 2],\n",
       "       [6, 8],\n",
       "       [6, 7]])"
      ]
     },
     "execution_count": 46,
     "metadata": {},
     "output_type": "execute_result"
    }
   ],
   "source": [
    "x2[:, 1:3]"
   ]
  },
  {
   "cell_type": "code",
   "execution_count": 47,
   "id": "77a90bc0-6fbf-46a7-95c5-0693c60f06eb",
   "metadata": {},
   "outputs": [],
   "source": [
    "x2_sub = x2[:, 1:3]"
   ]
  },
  {
   "cell_type": "code",
   "execution_count": 48,
   "id": "49eb54b9-9788-4684-bab8-9ce7e38920a0",
   "metadata": {},
   "outputs": [
    {
     "data": {
      "text/plain": [
       "array([[5, 2],\n",
       "       [6, 8],\n",
       "       [6, 7]])"
      ]
     },
     "execution_count": 48,
     "metadata": {},
     "output_type": "execute_result"
    }
   ],
   "source": [
    "x2_sub"
   ]
  },
  {
   "cell_type": "code",
   "execution_count": 49,
   "id": "0e3addc7-536a-4e2f-82c9-f6daa7c0e663",
   "metadata": {},
   "outputs": [],
   "source": [
    "x2_sub[0,0] = 666"
   ]
  },
  {
   "cell_type": "code",
   "execution_count": 50,
   "id": "51ee9840-4843-439f-807c-20b522e9fdd1",
   "metadata": {},
   "outputs": [
    {
     "data": {
      "text/plain": [
       "array([[666,   2],\n",
       "       [  6,   8],\n",
       "       [  6,   7]])"
      ]
     },
     "execution_count": 50,
     "metadata": {},
     "output_type": "execute_result"
    }
   ],
   "source": [
    "x2_sub"
   ]
  },
  {
   "cell_type": "code",
   "execution_count": 51,
   "id": "2dbc1cf1-be7f-49c3-8895-0263cbb0a4d8",
   "metadata": {},
   "outputs": [
    {
     "data": {
      "text/plain": [
       "array([[ 12, 666,   2,   4],\n",
       "       [  7,   6,   8,   8],\n",
       "       [  1,   6,   7,   7]])"
      ]
     },
     "execution_count": 51,
     "metadata": {},
     "output_type": "execute_result"
    }
   ],
   "source": [
    "x2"
   ]
  },
  {
   "cell_type": "code",
   "execution_count": 52,
   "id": "951fc1d6-2558-4cfa-a5c6-60f934a9eaeb",
   "metadata": {},
   "outputs": [],
   "source": [
    "x2_sub = x2[:, 1:3].copy()"
   ]
  },
  {
   "cell_type": "code",
   "execution_count": 53,
   "id": "84c11c87-6186-4fa5-8c45-ff10bfc43760",
   "metadata": {},
   "outputs": [
    {
     "data": {
      "text/plain": [
       "array([[666,   2],\n",
       "       [  6,   8],\n",
       "       [  6,   7]])"
      ]
     },
     "execution_count": 53,
     "metadata": {},
     "output_type": "execute_result"
    }
   ],
   "source": [
    "x2_sub"
   ]
  },
  {
   "cell_type": "code",
   "execution_count": 54,
   "id": "9ba25c24-2799-48a2-92a8-9f39e0e626b1",
   "metadata": {},
   "outputs": [],
   "source": [
    "x2_sub[0,0] = 42"
   ]
  },
  {
   "cell_type": "code",
   "execution_count": 55,
   "id": "c826a947-26c9-4d1f-a3ad-4cba78802a4d",
   "metadata": {},
   "outputs": [
    {
     "data": {
      "text/plain": [
       "array([[42,  2],\n",
       "       [ 6,  8],\n",
       "       [ 6,  7]])"
      ]
     },
     "execution_count": 55,
     "metadata": {},
     "output_type": "execute_result"
    }
   ],
   "source": [
    "x2_sub"
   ]
  },
  {
   "cell_type": "code",
   "execution_count": 56,
   "id": "c710dd5b-f475-4e36-8fb3-7be2ba949e15",
   "metadata": {},
   "outputs": [
    {
     "data": {
      "text/plain": [
       "array([[ 12, 666,   2,   4],\n",
       "       [  7,   6,   8,   8],\n",
       "       [  1,   6,   7,   7]])"
      ]
     },
     "execution_count": 56,
     "metadata": {},
     "output_type": "execute_result"
    }
   ],
   "source": [
    "x2"
   ]
  },
  {
   "cell_type": "markdown",
   "id": "1db19d9a-f6e2-4084-9cad-1fc53ac9c3b5",
   "metadata": {},
   "source": [
    "## Cambiando la forma de los arreglos"
   ]
  },
  {
   "cell_type": "code",
   "execution_count": 57,
   "id": "21d98b05-af39-4780-93aa-c8818dd6b630",
   "metadata": {},
   "outputs": [],
   "source": [
    "grid = np.arange(1,10).reshape((3,3))"
   ]
  },
  {
   "cell_type": "code",
   "execution_count": 58,
   "id": "0b21d55c-8faf-4e70-8ff7-9d270ffc82a3",
   "metadata": {},
   "outputs": [
    {
     "data": {
      "text/plain": [
       "array([[1, 2, 3],\n",
       "       [4, 5, 6],\n",
       "       [7, 8, 9]])"
      ]
     },
     "execution_count": 58,
     "metadata": {},
     "output_type": "execute_result"
    }
   ],
   "source": [
    "grid"
   ]
  },
  {
   "cell_type": "code",
   "execution_count": 59,
   "id": "08fcf1d0-70d2-41d1-93dc-e60f96e49c5e",
   "metadata": {},
   "outputs": [
    {
     "data": {
      "text/plain": [
       "array([[1, 4, 7],\n",
       "       [2, 5, 8],\n",
       "       [3, 6, 9]])"
      ]
     },
     "execution_count": 59,
     "metadata": {},
     "output_type": "execute_result"
    }
   ],
   "source": [
    "grid.T"
   ]
  },
  {
   "cell_type": "code",
   "execution_count": 60,
   "id": "55a61b0a-c5cb-4f77-b6f5-256f70b96380",
   "metadata": {},
   "outputs": [
    {
     "data": {
      "text/plain": [
       "array([1, 2, 3])"
      ]
     },
     "execution_count": 60,
     "metadata": {},
     "output_type": "execute_result"
    }
   ],
   "source": [
    "np.array([1, 2, 3])"
   ]
  },
  {
   "cell_type": "code",
   "execution_count": 61,
   "id": "d439ffee-5d2c-437a-b76f-8fe1affe9743",
   "metadata": {},
   "outputs": [
    {
     "data": {
      "text/plain": [
       "array([[1, 2, 3]])"
      ]
     },
     "execution_count": 61,
     "metadata": {},
     "output_type": "execute_result"
    }
   ],
   "source": [
    "np.array([1, 2, 3]).reshape((1, 3))"
   ]
  },
  {
   "cell_type": "code",
   "execution_count": 62,
   "id": "d648c912-337c-45e9-9277-8c6243b5fd55",
   "metadata": {},
   "outputs": [
    {
     "data": {
      "text/plain": [
       "array([[1],\n",
       "       [2],\n",
       "       [3]])"
      ]
     },
     "execution_count": 62,
     "metadata": {},
     "output_type": "execute_result"
    }
   ],
   "source": [
    "np.array([1, 2, 3]).reshape((3, 1))"
   ]
  },
  {
   "cell_type": "markdown",
   "id": "ca34ed85-6ef5-49cc-b92e-1ebc783c3a78",
   "metadata": {},
   "source": [
    "## Concatenando y partiendo arreglos"
   ]
  },
  {
   "cell_type": "code",
   "execution_count": 63,
   "id": "168fe3e5-749e-4b8d-9a44-a49a59382aba",
   "metadata": {},
   "outputs": [],
   "source": [
    "x = np.array([1, 2, 3])\n",
    "y = np.array([4, 5, 6])"
   ]
  },
  {
   "cell_type": "code",
   "execution_count": 64,
   "id": "5542fb6e-2e24-4d2a-bf87-0b61c3bdb484",
   "metadata": {},
   "outputs": [
    {
     "data": {
      "text/plain": [
       "array([1, 2, 3, 4, 5, 6])"
      ]
     },
     "execution_count": 64,
     "metadata": {},
     "output_type": "execute_result"
    }
   ],
   "source": [
    "np.concatenate([x, y])"
   ]
  },
  {
   "cell_type": "code",
   "execution_count": 65,
   "id": "55866af0-15e2-4b44-b2d1-6e25402c6949",
   "metadata": {},
   "outputs": [
    {
     "data": {
      "text/plain": [
       "array([666,   2,   3,   4,   5,   6])"
      ]
     },
     "execution_count": 65,
     "metadata": {},
     "output_type": "execute_result"
    }
   ],
   "source": [
    "xy = np.concatenate([x, y])\n",
    "xy[0] = 666\n",
    "xy"
   ]
  },
  {
   "cell_type": "code",
   "execution_count": 66,
   "id": "87dddaac-8de1-4cf6-b654-e5c42eba0d19",
   "metadata": {},
   "outputs": [
    {
     "data": {
      "text/plain": [
       "array([1, 2, 3])"
      ]
     },
     "execution_count": 66,
     "metadata": {},
     "output_type": "execute_result"
    }
   ],
   "source": [
    "x"
   ]
  },
  {
   "cell_type": "code",
   "execution_count": 67,
   "id": "4c9a5c09-9b51-437c-9c6c-97cec3586118",
   "metadata": {},
   "outputs": [
    {
     "data": {
      "text/plain": [
       "array([[1, 2, 3],\n",
       "       [4, 5, 6]])"
      ]
     },
     "execution_count": 67,
     "metadata": {},
     "output_type": "execute_result"
    }
   ],
   "source": [
    "grid = np.arange(1, 7).reshape((2, 3))\n",
    "grid"
   ]
  },
  {
   "cell_type": "code",
   "execution_count": 68,
   "id": "1f047234-1392-4118-a72d-e7488bbe7c59",
   "metadata": {},
   "outputs": [
    {
     "data": {
      "text/plain": [
       "array([[1, 2, 3],\n",
       "       [4, 5, 6],\n",
       "       [1, 2, 3],\n",
       "       [4, 5, 6]])"
      ]
     },
     "execution_count": 68,
     "metadata": {},
     "output_type": "execute_result"
    }
   ],
   "source": [
    "np.concatenate([grid, grid])"
   ]
  },
  {
   "cell_type": "code",
   "execution_count": 69,
   "id": "115e52d1-b8a6-468f-b125-27d9e5276640",
   "metadata": {},
   "outputs": [
    {
     "data": {
      "text/plain": [
       "array([[1, 2, 3],\n",
       "       [4, 5, 6],\n",
       "       [1, 2, 3],\n",
       "       [4, 5, 6]])"
      ]
     },
     "execution_count": 69,
     "metadata": {},
     "output_type": "execute_result"
    }
   ],
   "source": [
    "np.concatenate([grid, grid], axis=0)"
   ]
  },
  {
   "cell_type": "code",
   "execution_count": 70,
   "id": "9a5073fe-a12c-47a7-bf83-6bee3ce24e98",
   "metadata": {},
   "outputs": [
    {
     "data": {
      "text/plain": [
       "array([[1, 2, 3, 1, 2, 3],\n",
       "       [4, 5, 6, 4, 5, 6]])"
      ]
     },
     "execution_count": 70,
     "metadata": {},
     "output_type": "execute_result"
    }
   ],
   "source": [
    "np.concatenate([grid, grid], axis=1)"
   ]
  },
  {
   "cell_type": "code",
   "execution_count": 71,
   "id": "3f8b9175-2645-4309-8eaa-f0edc1a0ad72",
   "metadata": {},
   "outputs": [
    {
     "ename": "AxisError",
     "evalue": "axis 2 is out of bounds for array of dimension 2",
     "output_type": "error",
     "traceback": [
      "\u001b[0;31m---------------------------------------------------------------------------\u001b[0m",
      "\u001b[0;31mAxisError\u001b[0m                                 Traceback (most recent call last)",
      "Cell \u001b[0;32mIn[71], line 1\u001b[0m\n\u001b[0;32m----> 1\u001b[0m \u001b[43mnp\u001b[49m\u001b[38;5;241;43m.\u001b[39;49m\u001b[43mconcatenate\u001b[49m\u001b[43m(\u001b[49m\u001b[43m[\u001b[49m\u001b[43mgrid\u001b[49m\u001b[43m,\u001b[49m\u001b[43m \u001b[49m\u001b[43mgrid\u001b[49m\u001b[43m]\u001b[49m\u001b[43m,\u001b[49m\u001b[43m \u001b[49m\u001b[43maxis\u001b[49m\u001b[38;5;241;43m=\u001b[39;49m\u001b[38;5;241;43m2\u001b[39;49m\u001b[43m)\u001b[49m\n",
      "\u001b[0;31mAxisError\u001b[0m: axis 2 is out of bounds for array of dimension 2"
     ]
    }
   ],
   "source": [
    "np.concatenate([grid, grid], axis=2)"
   ]
  },
  {
   "cell_type": "code",
   "execution_count": 72,
   "id": "7b9dec4a-7b7b-4c30-ae91-efc2d8a97aa3",
   "metadata": {},
   "outputs": [],
   "source": [
    "x = np.array([1, 2, 3])\n",
    "grid = np.arange(4, 10).reshape((2, 3))"
   ]
  },
  {
   "cell_type": "code",
   "execution_count": 73,
   "id": "f81e41cd-9e7d-4964-a119-4f725fabc3e3",
   "metadata": {},
   "outputs": [
    {
     "ename": "ValueError",
     "evalue": "all the input arrays must have same number of dimensions, but the array at index 0 has 1 dimension(s) and the array at index 1 has 2 dimension(s)",
     "output_type": "error",
     "traceback": [
      "\u001b[0;31m---------------------------------------------------------------------------\u001b[0m",
      "\u001b[0;31mValueError\u001b[0m                                Traceback (most recent call last)",
      "Cell \u001b[0;32mIn[73], line 1\u001b[0m\n\u001b[0;32m----> 1\u001b[0m \u001b[43mnp\u001b[49m\u001b[38;5;241;43m.\u001b[39;49m\u001b[43mconcatenate\u001b[49m\u001b[43m(\u001b[49m\u001b[43m[\u001b[49m\u001b[43mx\u001b[49m\u001b[43m,\u001b[49m\u001b[43m \u001b[49m\u001b[43mgrid\u001b[49m\u001b[43m]\u001b[49m\u001b[43m)\u001b[49m\n",
      "\u001b[0;31mValueError\u001b[0m: all the input arrays must have same number of dimensions, but the array at index 0 has 1 dimension(s) and the array at index 1 has 2 dimension(s)"
     ]
    }
   ],
   "source": [
    "np.concatenate([x, grid])"
   ]
  },
  {
   "cell_type": "code",
   "execution_count": 74,
   "id": "fb8c3a77-47f2-4e56-98be-2b0cf90fcb86",
   "metadata": {},
   "outputs": [
    {
     "data": {
      "text/plain": [
       "array([[1, 2, 3],\n",
       "       [4, 5, 6],\n",
       "       [7, 8, 9]])"
      ]
     },
     "execution_count": 74,
     "metadata": {},
     "output_type": "execute_result"
    }
   ],
   "source": [
    "np.concatenate([x.reshape((1,3)), grid])"
   ]
  },
  {
   "cell_type": "code",
   "execution_count": 75,
   "id": "10e49db9-efdc-493a-bd9a-0cd5ab8628f5",
   "metadata": {},
   "outputs": [
    {
     "data": {
      "text/plain": [
       "array([[1, 2, 3],\n",
       "       [4, 5, 6],\n",
       "       [7, 8, 9]])"
      ]
     },
     "execution_count": 75,
     "metadata": {},
     "output_type": "execute_result"
    }
   ],
   "source": [
    "np.vstack([x, grid])"
   ]
  },
  {
   "cell_type": "code",
   "execution_count": 76,
   "id": "8d7fc4b0-335d-4bc8-ad28-070b67afab97",
   "metadata": {},
   "outputs": [
    {
     "data": {
      "text/plain": [
       "array([[1, 4, 7],\n",
       "       [2, 5, 8],\n",
       "       [3, 6, 9]])"
      ]
     },
     "execution_count": 76,
     "metadata": {},
     "output_type": "execute_result"
    }
   ],
   "source": [
    "np.hstack([x.reshape((3,1)), grid.T])"
   ]
  },
  {
   "cell_type": "code",
   "execution_count": 77,
   "id": "a20ea1f8-e736-47a0-8e49-385337f4855c",
   "metadata": {},
   "outputs": [],
   "source": [
    "x = np.array([1, 2, 3, 99, 99, 3, 2, 1])"
   ]
  },
  {
   "cell_type": "code",
   "execution_count": 78,
   "id": "ab04681b-6fbe-4d7c-8510-e25775be8a1a",
   "metadata": {},
   "outputs": [
    {
     "data": {
      "text/plain": [
       "array([ 1,  2,  3, 99, 99,  3,  2,  1])"
      ]
     },
     "execution_count": 78,
     "metadata": {},
     "output_type": "execute_result"
    }
   ],
   "source": [
    "x"
   ]
  },
  {
   "cell_type": "code",
   "execution_count": 79,
   "id": "ab92767b-3669-42ef-8df2-93dad4757b28",
   "metadata": {},
   "outputs": [],
   "source": [
    "x1, x2, x3 = np.split(x, [3, 5])"
   ]
  },
  {
   "cell_type": "code",
   "execution_count": 80,
   "id": "fb6065cd-22d4-4859-a485-9c51052fa4a4",
   "metadata": {},
   "outputs": [
    {
     "data": {
      "text/plain": [
       "array([1, 2, 3])"
      ]
     },
     "execution_count": 80,
     "metadata": {},
     "output_type": "execute_result"
    }
   ],
   "source": [
    "x1"
   ]
  },
  {
   "cell_type": "code",
   "execution_count": 81,
   "id": "d6f0ecef-da73-47c8-b3b9-befbe5073f54",
   "metadata": {},
   "outputs": [
    {
     "data": {
      "text/plain": [
       "array([99, 99])"
      ]
     },
     "execution_count": 81,
     "metadata": {},
     "output_type": "execute_result"
    }
   ],
   "source": [
    "x2"
   ]
  },
  {
   "cell_type": "code",
   "execution_count": 82,
   "id": "8ba87d0f-e77f-4fab-90cf-90e463b50dde",
   "metadata": {},
   "outputs": [
    {
     "data": {
      "text/plain": [
       "array([3, 2, 1])"
      ]
     },
     "execution_count": 82,
     "metadata": {},
     "output_type": "execute_result"
    }
   ],
   "source": [
    "x3"
   ]
  },
  {
   "cell_type": "code",
   "execution_count": 83,
   "id": "4f726caa-5a45-4f3d-a1a2-c034da4af842",
   "metadata": {},
   "outputs": [],
   "source": [
    "grid = np.arange(16).reshape((4, 4))"
   ]
  },
  {
   "cell_type": "code",
   "execution_count": 84,
   "id": "39794dd4-64fb-4419-833f-0b510459cc03",
   "metadata": {},
   "outputs": [
    {
     "data": {
      "text/plain": [
       "array([[ 0,  1,  2,  3],\n",
       "       [ 4,  5,  6,  7],\n",
       "       [ 8,  9, 10, 11],\n",
       "       [12, 13, 14, 15]])"
      ]
     },
     "execution_count": 84,
     "metadata": {},
     "output_type": "execute_result"
    }
   ],
   "source": [
    "grid"
   ]
  },
  {
   "cell_type": "code",
   "execution_count": 85,
   "id": "f983389a-2ed5-4e5f-92a8-007351248c6b",
   "metadata": {},
   "outputs": [],
   "source": [
    "grid1, grid2 = np.vsplit(grid, [2])"
   ]
  },
  {
   "cell_type": "code",
   "execution_count": 86,
   "id": "1c0236c3-d49e-4e88-8bc6-015d22f30e63",
   "metadata": {},
   "outputs": [
    {
     "data": {
      "text/plain": [
       "array([[0, 1, 2, 3],\n",
       "       [4, 5, 6, 7]])"
      ]
     },
     "execution_count": 86,
     "metadata": {},
     "output_type": "execute_result"
    }
   ],
   "source": [
    "grid1"
   ]
  },
  {
   "cell_type": "code",
   "execution_count": 87,
   "id": "f73f5c46-5aff-4951-a3e7-e97be1901185",
   "metadata": {},
   "outputs": [
    {
     "data": {
      "text/plain": [
       "array([[ 8,  9, 10, 11],\n",
       "       [12, 13, 14, 15]])"
      ]
     },
     "execution_count": 87,
     "metadata": {},
     "output_type": "execute_result"
    }
   ],
   "source": [
    "grid2"
   ]
  },
  {
   "cell_type": "code",
   "execution_count": 88,
   "id": "2922ca7e-3858-4562-b0e2-85dc6c1c77f2",
   "metadata": {},
   "outputs": [],
   "source": [
    "left, right = np.hsplit(grid, [2])"
   ]
  },
  {
   "cell_type": "code",
   "execution_count": 89,
   "id": "5ad4d3f4-2b30-4b30-a5de-0fe12fcf1081",
   "metadata": {},
   "outputs": [
    {
     "data": {
      "text/plain": [
       "array([[ 0,  1],\n",
       "       [ 4,  5],\n",
       "       [ 8,  9],\n",
       "       [12, 13]])"
      ]
     },
     "execution_count": 89,
     "metadata": {},
     "output_type": "execute_result"
    }
   ],
   "source": [
    "left"
   ]
  },
  {
   "cell_type": "code",
   "execution_count": 90,
   "id": "487865d8-39ef-4e92-bd8d-2c41a266af05",
   "metadata": {},
   "outputs": [
    {
     "data": {
      "text/plain": [
       "array([[ 2,  3],\n",
       "       [ 6,  7],\n",
       "       [10, 11],\n",
       "       [14, 15]])"
      ]
     },
     "execution_count": 90,
     "metadata": {},
     "output_type": "execute_result"
    }
   ],
   "source": [
    "right"
   ]
  },
  {
   "cell_type": "code",
   "execution_count": 91,
   "id": "d6282f33-6821-4dd0-94d4-e4b5f9bb3631",
   "metadata": {},
   "outputs": [],
   "source": [
    "left[0,0] = 666"
   ]
  },
  {
   "cell_type": "code",
   "execution_count": 92,
   "id": "0dacf61c-e239-4a1b-b314-3c0c29a2b778",
   "metadata": {},
   "outputs": [
    {
     "data": {
      "text/plain": [
       "array([[666,   1,   2,   3],\n",
       "       [  4,   5,   6,   7],\n",
       "       [  8,   9,  10,  11],\n",
       "       [ 12,  13,  14,  15]])"
      ]
     },
     "execution_count": 92,
     "metadata": {},
     "output_type": "execute_result"
    }
   ],
   "source": [
    "grid"
   ]
  },
  {
   "cell_type": "markdown",
   "id": "32e17617-b60c-4e5f-9cd0-c30a07db03d1",
   "metadata": {},
   "source": [
    "## Funciones universales"
   ]
  },
  {
   "cell_type": "code",
   "execution_count": 93,
   "id": "026ec949-b267-4c54-9759-32c3625e8253",
   "metadata": {},
   "outputs": [],
   "source": [
    "np.random.seed(0)"
   ]
  },
  {
   "cell_type": "code",
   "execution_count": 94,
   "id": "6e19ab01-c63d-46a5-b530-bb7711c65f76",
   "metadata": {},
   "outputs": [],
   "source": [
    "def reciprocos(valores):\n",
    "    recs = np.empty(len(valores))\n",
    "    for i in range(len(valores)):\n",
    "        recs[i] = 1.0 / valores[i]\n",
    "    return recs"
   ]
  },
  {
   "cell_type": "code",
   "execution_count": 95,
   "id": "b226ff84-d9fd-4141-9503-9ceeb5c30e71",
   "metadata": {},
   "outputs": [
    {
     "data": {
      "text/plain": [
       "array([6, 1, 4, 4, 8])"
      ]
     },
     "execution_count": 95,
     "metadata": {},
     "output_type": "execute_result"
    }
   ],
   "source": [
    "x = np.random.randint(1, 10, 5)\n",
    "x"
   ]
  },
  {
   "cell_type": "code",
   "execution_count": 96,
   "id": "56bb337b-0d34-4b4c-8fd5-57b91a71379b",
   "metadata": {},
   "outputs": [
    {
     "data": {
      "text/plain": [
       "array([0.16666667, 1.        , 0.25      , 0.25      , 0.125     ])"
      ]
     },
     "execution_count": 96,
     "metadata": {},
     "output_type": "execute_result"
    }
   ],
   "source": [
    "reciprocos(x)"
   ]
  },
  {
   "cell_type": "code",
   "execution_count": 97,
   "id": "91c0e585-d3be-43d5-aff1-705b7946d54a",
   "metadata": {},
   "outputs": [
    {
     "data": {
      "text/plain": [
       "array([0.16666667, 1.        , 0.25      , 0.25      , 0.125     ])"
      ]
     },
     "execution_count": 97,
     "metadata": {},
     "output_type": "execute_result"
    }
   ],
   "source": [
    "1.0 / x"
   ]
  },
  {
   "cell_type": "code",
   "execution_count": 98,
   "id": "e6b3b8f1-cd87-424b-8be2-7ae0fe8554a6",
   "metadata": {},
   "outputs": [
    {
     "data": {
      "text/plain": [
       "array([10, 84, 22, ..., 34, 55, 34])"
      ]
     },
     "execution_count": 98,
     "metadata": {},
     "output_type": "execute_result"
    }
   ],
   "source": [
    "x = np.random.randint(1, 100, 10000000)\n",
    "x"
   ]
  },
  {
   "cell_type": "code",
   "execution_count": 99,
   "id": "900ffbf1-3782-4451-b24a-c99027af94cf",
   "metadata": {},
   "outputs": [
    {
     "name": "stdout",
     "output_type": "stream",
     "text": [
      "CPU times: user 11.8 s, sys: 79.2 ms, total: 11.9 s\n",
      "Wall time: 11.9 s\n"
     ]
    },
    {
     "data": {
      "text/plain": [
       "array([0.1       , 0.01190476, 0.04545455, ..., 0.02941176, 0.01818182,\n",
       "       0.02941176])"
      ]
     },
     "execution_count": 99,
     "metadata": {},
     "output_type": "execute_result"
    }
   ],
   "source": [
    "%%time\n",
    "reciprocos(x)"
   ]
  },
  {
   "cell_type": "code",
   "execution_count": 100,
   "id": "e9c0ce42-27ec-4337-8f00-b9e31c911453",
   "metadata": {},
   "outputs": [
    {
     "name": "stdout",
     "output_type": "stream",
     "text": [
      "CPU times: user 28.7 ms, sys: 97 ms, total: 126 ms\n",
      "Wall time: 130 ms\n"
     ]
    },
    {
     "data": {
      "text/plain": [
       "array([0.1       , 0.01190476, 0.04545455, ..., 0.02941176, 0.01818182,\n",
       "       0.02941176])"
      ]
     },
     "execution_count": 100,
     "metadata": {},
     "output_type": "execute_result"
    }
   ],
   "source": [
    "%%time\n",
    "1 / x"
   ]
  },
  {
   "cell_type": "code",
   "execution_count": 101,
   "id": "68d421b2-6719-4d09-b219-0d79ff0a328a",
   "metadata": {},
   "outputs": [
    {
     "data": {
      "text/plain": [
       "array([[1, 2, 3],\n",
       "       [4, 5, 6],\n",
       "       [7, 8, 9]])"
      ]
     },
     "execution_count": 101,
     "metadata": {},
     "output_type": "execute_result"
    }
   ],
   "source": [
    "x = np.arange(1,10).reshape((3,3))\n",
    "x"
   ]
  },
  {
   "cell_type": "code",
   "execution_count": 102,
   "id": "e0337093-ef51-4251-a739-1ce13c7e46cf",
   "metadata": {},
   "outputs": [
    {
     "data": {
      "text/plain": [
       "array([[  2,   4,   8],\n",
       "       [ 16,  32,  64],\n",
       "       [128, 256, 512]])"
      ]
     },
     "execution_count": 102,
     "metadata": {},
     "output_type": "execute_result"
    }
   ],
   "source": [
    "2 ** x"
   ]
  },
  {
   "cell_type": "code",
   "execution_count": 103,
   "id": "77c37ffb-a79e-4851-a4e0-25d9863458be",
   "metadata": {},
   "outputs": [
    {
     "data": {
      "text/plain": [
       "array([[ 6,  7,  8],\n",
       "       [ 9, 10, 11],\n",
       "       [12, 13, 14]])"
      ]
     },
     "execution_count": 103,
     "metadata": {},
     "output_type": "execute_result"
    }
   ],
   "source": [
    "x + 5"
   ]
  },
  {
   "cell_type": "code",
   "execution_count": 104,
   "id": "900e33dc-2538-4eb3-8b97-34ec56d0ce37",
   "metadata": {},
   "outputs": [
    {
     "data": {
      "text/plain": [
       "array([[-4, -3, -2],\n",
       "       [-1,  0,  1],\n",
       "       [ 2,  3,  4]])"
      ]
     },
     "execution_count": 104,
     "metadata": {},
     "output_type": "execute_result"
    }
   ],
   "source": [
    "x - 5"
   ]
  },
  {
   "cell_type": "code",
   "execution_count": 105,
   "id": "d32457db-7b0e-4a85-8ec4-ccfc21a65466",
   "metadata": {},
   "outputs": [
    {
     "data": {
      "text/plain": [
       "array([[ 5, 10, 15],\n",
       "       [20, 25, 30],\n",
       "       [35, 40, 45]])"
      ]
     },
     "execution_count": 105,
     "metadata": {},
     "output_type": "execute_result"
    }
   ],
   "source": [
    "x * 5"
   ]
  },
  {
   "cell_type": "code",
   "execution_count": 106,
   "id": "af67d2a7-098f-45d7-8b9d-093aa1cc0c42",
   "metadata": {},
   "outputs": [
    {
     "data": {
      "text/plain": [
       "array([[0.5, 1. , 1.5],\n",
       "       [2. , 2.5, 3. ],\n",
       "       [3.5, 4. , 4.5]])"
      ]
     },
     "execution_count": 106,
     "metadata": {},
     "output_type": "execute_result"
    }
   ],
   "source": [
    "x / 2"
   ]
  },
  {
   "cell_type": "code",
   "execution_count": 107,
   "id": "09c7f7da-17b0-482b-9550-6fda251ab140",
   "metadata": {},
   "outputs": [
    {
     "data": {
      "text/plain": [
       "array([[0, 1, 1],\n",
       "       [2, 2, 3],\n",
       "       [3, 4, 4]])"
      ]
     },
     "execution_count": 107,
     "metadata": {},
     "output_type": "execute_result"
    }
   ],
   "source": [
    "x // 2"
   ]
  },
  {
   "cell_type": "code",
   "execution_count": 108,
   "id": "7804d6cf-8d27-4ab5-8790-646e3fc9aee5",
   "metadata": {},
   "outputs": [
    {
     "data": {
      "text/plain": [
       "array([[-1, -2, -3],\n",
       "       [-4, -5, -6],\n",
       "       [-7, -8, -9]])"
      ]
     },
     "execution_count": 108,
     "metadata": {},
     "output_type": "execute_result"
    }
   ],
   "source": [
    "-x"
   ]
  },
  {
   "cell_type": "code",
   "execution_count": 109,
   "id": "36b4e276-2d1c-473e-85db-b92a6c405e49",
   "metadata": {},
   "outputs": [
    {
     "data": {
      "text/plain": [
       "array([[ 1,  4,  9],\n",
       "       [16, 25, 36],\n",
       "       [49, 64, 81]])"
      ]
     },
     "execution_count": 109,
     "metadata": {},
     "output_type": "execute_result"
    }
   ],
   "source": [
    "x ** 2"
   ]
  },
  {
   "cell_type": "code",
   "execution_count": 110,
   "id": "9611bc76-f6e4-4a1f-a92b-f5225419570f",
   "metadata": {},
   "outputs": [
    {
     "data": {
      "text/plain": [
       "array([[1, 0, 1],\n",
       "       [0, 1, 0],\n",
       "       [1, 0, 1]])"
      ]
     },
     "execution_count": 110,
     "metadata": {},
     "output_type": "execute_result"
    }
   ],
   "source": [
    "x % 2"
   ]
  },
  {
   "cell_type": "code",
   "execution_count": 111,
   "id": "b6a95bd1-dd6c-4f31-8248-e116da340327",
   "metadata": {},
   "outputs": [
    {
     "data": {
      "text/plain": [
       "array([[ -2.25,  -4.  ,  -6.25],\n",
       "       [ -9.  , -12.25, -16.  ],\n",
       "       [-20.25, -25.  , -30.25]])"
      ]
     },
     "execution_count": 111,
     "metadata": {},
     "output_type": "execute_result"
    }
   ],
   "source": [
    "-(0.5*x + 1) ** 2"
   ]
  },
  {
   "cell_type": "code",
   "execution_count": 112,
   "id": "2b793fd6-5ec7-464a-8633-cce9c4edc9ad",
   "metadata": {},
   "outputs": [
    {
     "data": {
      "text/plain": [
       "array([[ 0.84147098,  0.90929743,  0.14112001],\n",
       "       [-0.7568025 , -0.95892427, -0.2794155 ],\n",
       "       [ 0.6569866 ,  0.98935825,  0.41211849]])"
      ]
     },
     "execution_count": 112,
     "metadata": {},
     "output_type": "execute_result"
    }
   ],
   "source": [
    "np.sin(x)"
   ]
  },
  {
   "cell_type": "code",
   "execution_count": 113,
   "id": "8ef3146f-67c0-44a5-a84d-054f8e2cdc3c",
   "metadata": {},
   "outputs": [
    {
     "data": {
      "text/plain": [
       "array([[ 2,  4,  6],\n",
       "       [ 8, 10, 12],\n",
       "       [14, 16, 18]])"
      ]
     },
     "execution_count": 113,
     "metadata": {},
     "output_type": "execute_result"
    }
   ],
   "source": [
    "x + x"
   ]
  },
  {
   "cell_type": "code",
   "execution_count": 114,
   "id": "9e060723-488a-4d79-9e75-a7aa82cc6c2f",
   "metadata": {},
   "outputs": [
    {
     "data": {
      "text/plain": [
       "array([[ 2,  4,  6],\n",
       "       [ 8, 10, 12],\n",
       "       [14, 16, 18]])"
      ]
     },
     "execution_count": 114,
     "metadata": {},
     "output_type": "execute_result"
    }
   ],
   "source": [
    "np.add(x, x)"
   ]
  },
  {
   "cell_type": "code",
   "execution_count": 115,
   "id": "f9909330-8269-43a1-bb28-233a65c5aca7",
   "metadata": {},
   "outputs": [
    {
     "data": {
      "text/plain": [
       "<ufunc 'add'>"
      ]
     },
     "execution_count": 115,
     "metadata": {},
     "output_type": "execute_result"
    }
   ],
   "source": [
    "np.add"
   ]
  },
  {
   "cell_type": "code",
   "execution_count": 116,
   "id": "8c859c15-0b1e-4119-9402-f92b3ac9f779",
   "metadata": {},
   "outputs": [
    {
     "data": {
      "text/plain": [
       "<ufunc 'subtract'>"
      ]
     },
     "execution_count": 116,
     "metadata": {},
     "output_type": "execute_result"
    }
   ],
   "source": [
    "np.subtract"
   ]
  },
  {
   "cell_type": "code",
   "execution_count": 117,
   "id": "a238770c-c103-443a-9a9e-5319def1d6ef",
   "metadata": {},
   "outputs": [
    {
     "data": {
      "text/plain": [
       "<ufunc 'negative'>"
      ]
     },
     "execution_count": 117,
     "metadata": {},
     "output_type": "execute_result"
    }
   ],
   "source": [
    "np.negative"
   ]
  },
  {
   "cell_type": "code",
   "execution_count": 118,
   "id": "3c457fa5-3efd-448e-8a6a-d07765e10f05",
   "metadata": {},
   "outputs": [
    {
     "data": {
      "text/plain": [
       "<ufunc 'multiply'>"
      ]
     },
     "execution_count": 118,
     "metadata": {},
     "output_type": "execute_result"
    }
   ],
   "source": [
    "np.multiply"
   ]
  },
  {
   "cell_type": "code",
   "execution_count": 119,
   "id": "731705f8-fc2c-4f53-b301-e8478dc05c5b",
   "metadata": {},
   "outputs": [
    {
     "data": {
      "text/plain": [
       "<ufunc 'divide'>"
      ]
     },
     "execution_count": 119,
     "metadata": {},
     "output_type": "execute_result"
    }
   ],
   "source": [
    "np.divide"
   ]
  },
  {
   "cell_type": "code",
   "execution_count": 120,
   "id": "50fe765f-58bd-43c7-827b-8b75cdc02eb2",
   "metadata": {},
   "outputs": [
    {
     "data": {
      "text/plain": [
       "<ufunc 'floor_divide'>"
      ]
     },
     "execution_count": 120,
     "metadata": {},
     "output_type": "execute_result"
    }
   ],
   "source": [
    "np.floor_divide"
   ]
  },
  {
   "cell_type": "code",
   "execution_count": 121,
   "id": "3e036770-1d92-4c5d-9e0d-d4dc0c1217a6",
   "metadata": {},
   "outputs": [
    {
     "data": {
      "text/plain": [
       "<ufunc 'power'>"
      ]
     },
     "execution_count": 121,
     "metadata": {},
     "output_type": "execute_result"
    }
   ],
   "source": [
    "np.power"
   ]
  },
  {
   "cell_type": "code",
   "execution_count": 122,
   "id": "5106f001-02bf-4411-8dba-03b35f6c65fd",
   "metadata": {},
   "outputs": [
    {
     "data": {
      "text/plain": [
       "<ufunc 'remainder'>"
      ]
     },
     "execution_count": 122,
     "metadata": {},
     "output_type": "execute_result"
    }
   ],
   "source": [
    "np.mod"
   ]
  },
  {
   "cell_type": "code",
   "execution_count": 123,
   "id": "b6785ec0-084d-4673-9cbf-dfdf22f8d0fe",
   "metadata": {},
   "outputs": [
    {
     "data": {
      "text/plain": [
       "<ufunc 'absolute'>"
      ]
     },
     "execution_count": 123,
     "metadata": {},
     "output_type": "execute_result"
    }
   ],
   "source": [
    "np.abs"
   ]
  },
  {
   "cell_type": "code",
   "execution_count": 124,
   "id": "200c64b1-0ffb-4181-8a95-37a9a2b274ff",
   "metadata": {},
   "outputs": [
    {
     "data": {
      "text/plain": [
       "<function __main__.reciprocos(valores)>"
      ]
     },
     "execution_count": 124,
     "metadata": {},
     "output_type": "execute_result"
    }
   ],
   "source": [
    "reciprocos"
   ]
  },
  {
   "cell_type": "code",
   "execution_count": 125,
   "id": "9e2b8d3a-bfd1-49fa-af10-dfe618433623",
   "metadata": {},
   "outputs": [],
   "source": [
    "import math"
   ]
  },
  {
   "cell_type": "code",
   "execution_count": 126,
   "id": "285a179a-8b70-4f79-930c-202eb15f09a2",
   "metadata": {},
   "outputs": [
    {
     "data": {
      "text/plain": [
       "<function math.sin(x, /)>"
      ]
     },
     "execution_count": 126,
     "metadata": {},
     "output_type": "execute_result"
    }
   ],
   "source": [
    "math.sin"
   ]
  },
  {
   "cell_type": "code",
   "execution_count": 127,
   "id": "fe41b82d-312c-47bd-86ce-146bd1bc3d8d",
   "metadata": {},
   "outputs": [
    {
     "ename": "TypeError",
     "evalue": "only length-1 arrays can be converted to Python scalars",
     "output_type": "error",
     "traceback": [
      "\u001b[0;31m---------------------------------------------------------------------------\u001b[0m",
      "\u001b[0;31mTypeError\u001b[0m                                 Traceback (most recent call last)",
      "Cell \u001b[0;32mIn[127], line 1\u001b[0m\n\u001b[0;32m----> 1\u001b[0m \u001b[43mmath\u001b[49m\u001b[38;5;241;43m.\u001b[39;49m\u001b[43msin\u001b[49m\u001b[43m(\u001b[49m\u001b[43mx\u001b[49m\u001b[43m)\u001b[49m\n",
      "\u001b[0;31mTypeError\u001b[0m: only length-1 arrays can be converted to Python scalars"
     ]
    }
   ],
   "source": [
    "math.sin(x)"
   ]
  },
  {
   "cell_type": "code",
   "execution_count": 128,
   "id": "3dc498c1-5bc5-4920-90dc-ef683ce5dfd1",
   "metadata": {},
   "outputs": [],
   "source": [
    "def sin_reciproco(x):\n",
    "    return math.sin(1 / x)"
   ]
  },
  {
   "cell_type": "code",
   "execution_count": 129,
   "id": "4bcb3aa0-b942-4a0d-bbf1-f59a4960a0e0",
   "metadata": {},
   "outputs": [],
   "source": [
    "sin_reciproco_chilo = np.frompyfunc(sin_reciproco, 1, 1)"
   ]
  },
  {
   "cell_type": "code",
   "execution_count": 130,
   "id": "617b4f13-146e-4d14-be16-29607fa3e26b",
   "metadata": {},
   "outputs": [
    {
     "ename": "TypeError",
     "evalue": "only length-1 arrays can be converted to Python scalars",
     "output_type": "error",
     "traceback": [
      "\u001b[0;31m---------------------------------------------------------------------------\u001b[0m",
      "\u001b[0;31mTypeError\u001b[0m                                 Traceback (most recent call last)",
      "Cell \u001b[0;32mIn[130], line 1\u001b[0m\n\u001b[0;32m----> 1\u001b[0m \u001b[43msin_reciproco\u001b[49m\u001b[43m(\u001b[49m\u001b[43mx\u001b[49m\u001b[43m)\u001b[49m\n",
      "Cell \u001b[0;32mIn[128], line 2\u001b[0m, in \u001b[0;36msin_reciproco\u001b[0;34m(x)\u001b[0m\n\u001b[1;32m      1\u001b[0m \u001b[38;5;28;01mdef\u001b[39;00m \u001b[38;5;21msin_reciproco\u001b[39m(x):\n\u001b[0;32m----> 2\u001b[0m     \u001b[38;5;28;01mreturn\u001b[39;00m \u001b[43mmath\u001b[49m\u001b[38;5;241;43m.\u001b[39;49m\u001b[43msin\u001b[49m\u001b[43m(\u001b[49m\u001b[38;5;241;43m1\u001b[39;49m\u001b[43m \u001b[49m\u001b[38;5;241;43m/\u001b[39;49m\u001b[43m \u001b[49m\u001b[43mx\u001b[49m\u001b[43m)\u001b[49m\n",
      "\u001b[0;31mTypeError\u001b[0m: only length-1 arrays can be converted to Python scalars"
     ]
    }
   ],
   "source": [
    "sin_reciproco(x)"
   ]
  },
  {
   "cell_type": "code",
   "execution_count": 131,
   "id": "613a9511-3006-4f2c-b03e-f65f47830476",
   "metadata": {},
   "outputs": [
    {
     "data": {
      "text/plain": [
       "array([[0.8414709848078965, 0.479425538604203, 0.3271946967961522],\n",
       "       [0.24740395925452294, 0.19866933079506122, 0.16589613269341502],\n",
       "       [0.14237172979226365, 0.12467473338522769, 0.11088262850995298]],\n",
       "      dtype=object)"
      ]
     },
     "execution_count": 131,
     "metadata": {},
     "output_type": "execute_result"
    }
   ],
   "source": [
    "sin_reciproco_chilo(x)"
   ]
  },
  {
   "cell_type": "code",
   "execution_count": 132,
   "id": "2cac2664-102f-41a1-86dd-37bb4f77ff3d",
   "metadata": {},
   "outputs": [],
   "source": [
    "def sin_reciproco_chafa(xs):\n",
    "    ys = np.empty(xs.shape)\n",
    "    for i in range(xs.shape[0]):\n",
    "        for j in range(xs.shape[1]):\n",
    "            ys[i,j] = sin_reciproco(xs[i,j])\n",
    "    return ys"
   ]
  },
  {
   "cell_type": "code",
   "execution_count": 133,
   "id": "f417e3d7-2815-4c57-924e-ed72e053a6d4",
   "metadata": {},
   "outputs": [
    {
     "ename": "SyntaxError",
     "evalue": "invalid syntax (3349414618.py, line 1)",
     "output_type": "error",
     "traceback": [
      "\u001b[0;36m  Cell \u001b[0;32mIn[133], line 1\u001b[0;36m\u001b[0m\n\u001b[0;31m    grid =\u001b[0m\n\u001b[0m           ^\u001b[0m\n\u001b[0;31mSyntaxError\u001b[0m\u001b[0;31m:\u001b[0m invalid syntax\n"
     ]
    }
   ],
   "source": [
    "grid = "
   ]
  },
  {
   "cell_type": "code",
   "execution_count": 134,
   "id": "4eaa17be-708e-49c2-8777-105ed5d9ec5a",
   "metadata": {},
   "outputs": [
    {
     "data": {
      "text/plain": [
       "array([[0.84147098, 0.47942554, 0.3271947 ],\n",
       "       [0.24740396, 0.19866933, 0.16589613],\n",
       "       [0.14237173, 0.12467473, 0.11088263]])"
      ]
     },
     "execution_count": 134,
     "metadata": {},
     "output_type": "execute_result"
    }
   ],
   "source": [
    "sin_reciproco_chafa(x)"
   ]
  },
  {
   "cell_type": "code",
   "execution_count": 135,
   "id": "04cd346e-f45d-4a1e-a9b8-ebaf96510b92",
   "metadata": {},
   "outputs": [],
   "source": [
    "n = 10000\n",
    "grid = np.random.randint(1, 100, n**2).reshape((n,n))"
   ]
  },
  {
   "cell_type": "code",
   "execution_count": null,
   "id": "6750166d-af05-45ca-9137-cb09b39901d2",
   "metadata": {},
   "outputs": [],
   "source": [
    "%%time\n",
    "sin_reciproco_chafa(grid)"
   ]
  },
  {
   "cell_type": "code",
   "execution_count": null,
   "id": "ef5e3d7a-0a86-4c91-884a-d81616c9ac2c",
   "metadata": {},
   "outputs": [],
   "source": [
    "%%time\n",
    "sin_reciproco_chilo(grid)"
   ]
  },
  {
   "cell_type": "code",
   "execution_count": null,
   "id": "0fa80b65-d3e1-4cb8-bbc1-2cde7fc45635",
   "metadata": {},
   "outputs": [],
   "source": [
    "sin_reciproco_chilo"
   ]
  },
  {
   "cell_type": "code",
   "execution_count": null,
   "id": "3d781310-cfce-406c-8883-e5428ddcde46",
   "metadata": {},
   "outputs": [],
   "source": [
    "x = np.arange(1, 6)\n",
    "x"
   ]
  },
  {
   "cell_type": "code",
   "execution_count": null,
   "id": "a9807246-6323-4791-8639-70ca533ac526",
   "metadata": {},
   "outputs": [],
   "source": [
    "np.add"
   ]
  },
  {
   "cell_type": "code",
   "execution_count": null,
   "id": "0a8a4a50-c0f1-4062-9dff-abdb6f2ad996",
   "metadata": {},
   "outputs": [],
   "source": [
    "np.add.outer(x, x)"
   ]
  },
  {
   "cell_type": "code",
   "execution_count": null,
   "id": "5f947406-6b1c-422b-8605-d94858a284ee",
   "metadata": {},
   "outputs": [],
   "source": [
    "sin_reciproco_chilo"
   ]
  },
  {
   "cell_type": "code",
   "execution_count": null,
   "id": "0378b70b-1ff4-4957-a2b6-68487cf36ffd",
   "metadata": {},
   "outputs": [],
   "source": [
    "sin_reciproco_chilo.outer(x, x)"
   ]
  },
  {
   "cell_type": "code",
   "execution_count": null,
   "id": "045a3842-b2d6-4122-80fa-8cdc31b37cd7",
   "metadata": {},
   "outputs": [],
   "source": [
    "def sinx_cosy(x, y):\n",
    "    return np.sin(x)*np.cos(y)\n",
    "\n",
    "sinx_cosy_vec = np.frompyfunc(sinx_cosy, 2, 1)"
   ]
  },
  {
   "cell_type": "code",
   "execution_count": null,
   "id": "6479f819-6a5e-4f5d-a9f9-4d03dd80d676",
   "metadata": {},
   "outputs": [],
   "source": [
    "print(sinx_cosy_vec.outer(x, x))"
   ]
  },
  {
   "cell_type": "markdown",
   "id": "5c04336e-d2f2-4447-bc4c-6f2a07c1f8c6",
   "metadata": {},
   "source": [
    "## Broadcasting"
   ]
  },
  {
   "cell_type": "markdown",
   "id": "f4e05cb0-c639-44a2-9b1f-bd692374217d",
   "metadata": {},
   "source": [
    "Revisa el manual de usuario de NumPy para aprender sobre el concepto de *Broadcasting*:\n",
    "\n",
    "https://numpy.org/doc/stable/user/basics.broadcasting.html"
   ]
  },
  {
   "cell_type": "markdown",
   "id": "ef471e11-3b6f-4edb-8a75-455e4fbbab4f",
   "metadata": {},
   "source": [
    "## Tarea\n",
    "\n",
    "En esta tarea vamos a trabajar el problema de encontrar los $k$ vecinos más cercanos.\n",
    "Revisa los fragmentos de código y describe en prosa cómo estamos calculando los vecinos más cercanos. Debes entender y explicar cada aspecto de este código."
   ]
  },
  {
   "cell_type": "markdown",
   "id": "17fd3059-9312-4d5a-9a21-9cd54ba51bd7",
   "metadata": {},
   "source": [
    "Primero importemos las librerías necesarias para la tarea (cuando quería correr sin_reciproco_chilo(grid), mataba mi computadora)"
   ]
  },
  {
   "cell_type": "code",
   "execution_count": 3,
   "id": "31729ba5-8081-474e-b901-4da432de946b",
   "metadata": {},
   "outputs": [],
   "source": [
    "import matplotlib.pyplot as plt\n",
    "import seaborn\n",
    "import numpy as np\n",
    "seaborn.set_theme()"
   ]
  },
  {
   "cell_type": "markdown",
   "id": "9c039e44-8a5a-4189-9de1-d99fb347104d",
   "metadata": {},
   "source": [
    "Primero, definimos una semilla para asegurar la reproducibilidad de los resultados. Luego, especificamos el número de elementos (puntos de datos) con los que vamos a trabajar, creamos un array bidimensional de tamaño N x 2 con puntos entre 0 y 1, y finalmente definimos el número de vecinos cercanos (k) que deseamos localizar."
   ]
  },
  {
   "cell_type": "code",
   "execution_count": 20,
   "id": "033def6e-c865-4324-97b2-14fb6fd96cbe",
   "metadata": {},
   "outputs": [],
   "source": [
    "rand = np.random.RandomState(42)\n",
    "N = 1000\n",
    "X = rand.rand(N, 2)\n",
    "k = 2"
   ]
  },
  {
   "cell_type": "markdown",
   "id": "8d8008ef-54be-4644-aaeb-809dd1656724",
   "metadata": {},
   "source": [
    "Sabemos que los elementos X es un array de $N \\times 2$, por lo que podemos verlo como $N$ puntos en $\\mathbb{R}²$,  graficándolos de esta manera, obtenemos"
   ]
  },
  {
   "cell_type": "code",
   "execution_count": 21,
   "id": "21189ae7-e7d7-40d2-87fd-bcb65f5d16ef",
   "metadata": {},
   "outputs": [
    {
     "data": {
      "image/png": "[encoded data removed]",
      "text/plain": [
       "<Figure size 600x600 with 1 Axes>"
      ]
     },
     "metadata": {},
     "output_type": "display_data"
    }
   ],
   "source": [
    "fig, ax = plt.subplots(figsize=(6,6))\n",
    "ax.scatter(X[:,0], X[:,1], s=(500/N))\n",
    "ax.set(\n",
    "    xlim=((-0.1,+1.1)),\n",
    "    ylim=((-0.1,+1.1)),\n",
    ");"
   ]
  },
  {
   "cell_type": "markdown",
   "id": "f4b84f03-5db0-4dc5-81ca-19a8aedf1aec",
   "metadata": {},
   "source": [
    "Para encontrar los $k-$vecinos más cercanos (en este caso $k = 2)$, necesitamos calcular las distancias entre cada punto y todos los demás puntos. Esto se logra utilizando las propiedades del *broadcasting*. A continuación, describimos el procedimiento:\n",
    "\n",
    "1. **Reformateo de $X$:**\n",
    "   - Cambiamos la forma de $X$ a $(N, 1, 2)$, lo que genera un arreglo tridimensional donde cada uno de los $N$ elementos tiene forma $(1, 2)$.\n",
    "   - Simultáneamente, cambiamos la forma de $X$ a $(1, N, 2)$, obteniendo un arreglo tridimensional con un único elemento que tiene forma $(N, 2)$.\n",
    "\n",
    "2. **Broadcasting y cálculo de las diferencias:**\n",
    "   - Al realizar la resta entre los arreglos con formas $(N, 1, 2)$ y $(1, N, 2)$, se obtiene un nuevo arreglo de forma $(N, N, 2)$.\n",
    "   - Este arreglo tridimensional contiene $N$ bloques de tamaño $(N, 2)$, donde cada bloque representa las diferencias coordenada por coordenada ($x$ e $y$) entre un punto y todos los demás puntos.\n",
    "\n",
    "3. **Cálculo de las distancias al cuadrado:**\n",
    "   - Elevamos al cuadrado cada valor del arreglo resultante, obteniendo las diferencias cuadradas.\n",
    "   - Luego, sumamos estas diferencias a lo largo del eje 2 (correspondiente a las coordenadas $x$ e $y$).\n",
    "   - Esto produce un arreglo bidimensional de forma $(N, N)$, donde cada entrada $(i, j)$ representa la **distancia al cuadrado** entre el punto $i$ y el punto $j$.\n",
    "\n",
    "4. **Resultado intermedio:**\n",
    "   - El arreglo final de forma $(N, N)$ contiene las distancias al cuadrado de cada punto con respecto a todos los demás puntos.\n",
    "\n",
    "\n",
    "\n"
   ]
  },
  {
   "cell_type": "code",
   "execution_count": 22,
   "id": "6093b1ae-e114-47e9-bc40-9539cf7b2346",
   "metadata": {},
   "outputs": [],
   "source": [
    "D = np.sum(\n",
    "    (X.reshape((N, 1, 2)) -\n",
    "     X.reshape((1, N, 2))) ** 2,\n",
    "    axis=2,\n",
    ")"
   ]
  },
  {
   "cell_type": "markdown",
   "id": "b8e67034-c685-4340-b8ac-98c7399389a2",
   "metadata": {},
   "source": [
    "Para identificar los puntos más cercanos, utilizamos la matriz $D$, que contiene las distancias entre todos los puntos. Dado que $D[i, j]$ representa la distancia entre el punto $i$ y el punto $j$, sabemos que la diagonal principal ($D[i, i]$) está compuesta exclusivamente por ceros, ya que la distancia de un punto a sí mismo es siempre cero.\n",
    "\n",
    "Para localizar los puntos más cercanos a cada punto, empleamos el método *argsort*. Este método ordena los valores de cada fila de $D$ en orden creciente y devuelve los índices correspondientes a este orden. De esta manera, para cada fila de $D$, los índices en las primeras posiciones representan los puntos más cercanos al punto correspondiente.\n",
    "\n",
    "En resumen, *argsort* nos permite ordenar las distancias de forma eficiente y encontrar los puntos más cercanos para cada uno, excluyendo automáticamente el punto en sí gracias a la estructura de la diagonal de $D$.\n"
   ]
  },
  {
   "cell_type": "code",
   "execution_count": 23,
   "id": "4c533a68-c1cb-4ddf-b05a-c4a29155794f",
   "metadata": {},
   "outputs": [],
   "source": [
    "NN = np.argsort(D, axis=1)"
   ]
  },
  {
   "cell_type": "markdown",
   "id": "0a286748-5387-443e-b3c2-542b74388ca8",
   "metadata": {},
   "source": [
    "Para finalizar, generamos una gráfica que muestra cada punto junto con las conexiones a sus $k$-vecinos más cercanos. Esto se logra siguiendo los pasos descritos a continuación:\n",
    "\n",
    "1. **Graficar cada punto:**  \n",
    "   Utilizamos un diagrama de dispersión para representar los puntos en un plano bidimensional, con el tamaño ajustado proporcionalmente al número total de puntos para asegurar claridad visual.\n",
    "\n",
    "2. **Conectar con $k$-vecinos:**  \n",
    "   Para cada punto, identificamos los índices de sus $k$-vecinos más cercanos (excluyendo el punto en sí mismo) y trazamos líneas desde el punto actual hacia cada uno de sus vecinos, destacando visualmente las relaciones de proximidad.\n",
    "\n",
    "3. **Definir límites:**  \n",
    "   Ajustamos los límites de los ejes para incluir todos los puntos y sus conexiones, dejando un pequeño margen para que el gráfico sea más claro.\n",
    "\n",
    "El resultado es una representación gráfica de la red de proximidad, donde se observan claramente las conexiones entre puntos y sus vecinos más cercanos.\n"
   ]
  },
  {
   "cell_type": "code",
   "execution_count": 24,
   "id": "43940be6-7a9d-45f1-a806-05b72f2b9cc6",
   "metadata": {},
   "outputs": [
    {
     "data": {
      "image/png": "[encoded data removed]",
      "text/plain": [
       "<Figure size 1000x1000 with 1 Axes>"
      ]
     },
     "metadata": {},
     "output_type": "display_data"
    }
   ],
   "source": [
    "fig, ax = plt.subplots(figsize=(10,10))\n",
    "for i in range(X.shape[0]):\n",
    "    for j in NN[i, 1:(k+1)]:\n",
    "        ax.plot(*np.transpose([X[j], X[i]]))\n",
    "ax.scatter(X[:,0], X[:,1], s=(500/N))\n",
    "ax.set(\n",
    "    xlim=((-0.1,+1.1)),\n",
    "    ylim=((-0.1,+1.1)),\n",
    ");"
   ]
  }
 ],
 "metadata": {
  "kernelspec": {
   "display_name": "Python 3 (ipykernel)",
   "language": "python",
   "name": "python3"
  },
  "language_info": {
   "codemirror_mode": {
    "name": "ipython",
    "version": 3
   },
   "file_extension": ".py",
   "mimetype": "text/x-python",
   "name": "python",
   "nbconvert_exporter": "python",
   "pygments_lexer": "ipython3",
   "version": "3.11.10"
  }
 },
 "nbformat": 4,
 "nbformat_minor": 5
}
