{
 "cells": [
  {
   "cell_type": "code",
   "execution_count": 1,
   "metadata": {},
   "outputs": [],
   "source": [
    "import os\n",
    "import requests\n",
    "import tarfile\n",
    "import proyecto_imdb"
   ]
  },
  {
   "cell_type": "code",
   "execution_count": 2,
   "metadata": {},
   "outputs": [],
   "source": [
    "url = 'https://ai.stanford.edu/%7Eamaas/data/sentiment/aclImdb_v1.tar.gz'\n",
    "\n",
    "directorio = os.getcwd()\n",
    "\n",
    "ruta =  directorio + '/data/aclImdb.tar.gz'\n",
    "\n",
    "if not os.path.exists(ruta):\n",
    "    aclImdb = requests.get(url, stream=True)\n",
    "    \n",
    "    with open(ruta, 'wb') as file:\n",
    "        for chunk in aclImdb.iter_content(chunk_size=8192):\n",
    "            if chunk: \n",
    "                file.write(chunk)"
   ]
  },
  {
   "cell_type": "code",
   "execution_count": 3,
   "metadata": {},
   "outputs": [],
   "source": [
    "archivo_tar = directorio + '/data/aclImdb.tar.gz'\n",
    "\n",
    "if not os.path.exists(directorio + '/data/aclImdb'):\n",
    "  with tarfile.open(archivo_tar, 'r:gz') as archivo:\n",
    "    archivo.extractall(path=directorio + '/data/')"
   ]
  },
  {
   "cell_type": "code",
   "execution_count": 4,
   "metadata": {},
   "outputs": [
    {
     "name": "stdout",
     "output_type": "stream",
     "text": [
      "data\n",
      "  aclImdb\n",
      "    README\n",
      "    imdb.vocab\n",
      "    imdbEr.txt\n",
      "    test\n",
      "      labeledBow.feat\n",
      "      neg\n",
      "        un monton de archivos\n",
      "      pos\n",
      "        un monton de archivos\n",
      "      urls_neg.txt\n",
      "      urls_pos.txt\n",
      "    train\n",
      "      labeledBow.feat\n",
      "      neg\n",
      "        un monton de archivos\n",
      "      pos\n",
      "        un monton de archivos\n",
      "      unsup\n",
      "        un monton de archivos\n",
      "      unsupBow.feat\n",
      "      urls_neg.txt\n",
      "      urls_pos.txt\n",
      "      urls_unsup.txt\n",
      "  aclImdb.tar.gz\n"
     ]
    }
   ],
   "source": [
    "directorio = os.getcwd()\n",
    "proyecto_imdb.elementos(directorio + '/data')"
   ]
  },
  {
   "cell_type": "code",
   "execution_count": 5,
   "metadata": {},
   "outputs": [
    {
     "data": {
      "text/plain": [
       "[[\"The Making of 'Broken' (Video 2005) - IMDb\",\n",
       "  'Maria E as Outras (2004) - IMDb',\n",
       "  '\"Visions\" The War Widow (TV Episode 1976) - IMDb',\n",
       "  'Feng hou (1979) - IMDb',\n",
       "  'Scattering Dad (TV Movie 1998) - IMDb',\n",
       "  'Conspiración criminal (Video 1997) - IMDb',\n",
       "  \"Snitch'd (Video 2003) - IMDb\",\n",
       "  'Xica da Silva (TV Series 1996–1998) - IMDb',\n",
       "  'Sobachye serdtse (TV Movie 1988) - IMDb',\n",
       "  'Forgotten (TV Mini Series 1999– ) - IMDb'],\n",
       " ['Dad... Can I Borrow the Car? (TV Movie 1970) - IMDb',\n",
       "  'Testing the Limits (Video 1998) - IMDb',\n",
       "  'Cry Freedom (1987) - IMDb',\n",
       "  'La chute de la maison Usher (1928) - IMDb',\n",
       "  'Cosas que hacen que la vida valga la pena (2004) - IMDb',\n",
       "  '\"Aventuras en pañales\" All Growed Up Part 1 (TV Episode 2001) - IMDb',\n",
       "  'Gabriel & Me (2001) - IMDb',\n",
       "  'Emmanuelle alrededor del mundo (1977) - IMDb',\n",
       "  'Mitchellville (TV Movie 2004) - IMDb',\n",
       "  'AWA All-Star Wrestling (TV Series 1972–1990) - IMDb']]"
      ]
     },
     "execution_count": 5,
     "metadata": {},
     "output_type": "execute_result"
    }
   ],
   "source": [
    "proyecto_imdb.peliculas()"
   ]
  },
  {
   "cell_type": "code",
   "execution_count": 6,
   "metadata": {},
   "outputs": [
    {
     "name": "stdout",
     "output_type": "stream",
     "text": [
      "urls_neg.txt\n",
      "/home/jesolis14/Escritorio/PCD/top-imdb/proyecto_imdb/data/aclImdb/test/urls_neg.txt\n",
      "Archivo\n",
      "612500\n",
      "598 Kb 148 b\n",
      "rw-r--r--\n",
      "2024-10-02 11:59:04.330523\n",
      "2011-04-12 02:48:48\n",
      "2024-10-01 16:59:11.626127\n",
      "Cantidad de líneas: 12500\n",
      "Cantidad de palabras: 12500\n",
      "Cantidad de palabras únicas: 3016\n",
      "\n",
      "urls_neg.txt\n",
      "/home/jesolis14/Escritorio/PCD/top-imdb/proyecto_imdb/data/aclImdb/train/urls_neg.txt\n",
      "Archivo\n",
      "612500\n",
      "598 Kb 148 b\n",
      "rw-r--r--\n",
      "2024-10-02 10:27:19.793016\n",
      "2011-04-12 02:48:07\n",
      "2024-10-01 16:59:11.909133\n",
      "Cantidad de líneas: 12500\n",
      "Cantidad de palabras: 12500\n",
      "Cantidad de palabras únicas: 2957\n",
      "\n"
     ]
    }
   ],
   "source": [
    "proyecto_imdb.buscar('urls_neg')"
   ]
  }
 ],
 "metadata": {
  "kernelspec": {
   "display_name": "Python 3",
   "language": "python",
   "name": "python3"
  },
  "language_info": {
   "codemirror_mode": {
    "name": "ipython",
    "version": 3
   },
   "file_extension": ".py",
   "mimetype": "text/x-python",
   "name": "python",
   "nbconvert_exporter": "python",
   "pygments_lexer": "ipython3",
   "version": "3.12.3"
  }
 },
 "nbformat": 4,
 "nbformat_minor": 2
}
