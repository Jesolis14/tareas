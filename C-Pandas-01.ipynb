{
 "cells": [
  {
   "cell_type": "markdown",
   "id": "e070012d-510d-491a-b7d9-1661c9d17446",
   "metadata": {},
   "source": [
    "# Introducción a Pandas\n",
    "\n",
    "Pandas es una biblioteca que construye sobre NumPy y provee una implementación eficiente de *DataFrames* un tipo de objetos de Python similar a una tabla que permite una conveniente manipulación de columnas y renglones, así como mecanismos para trabajar con valores faltantes e índices más complejos que los usuales (por ejemplo, fechas o instantes de tiempo).\n",
    "\n",
    "En esta libreta veremos cómo utilizar los tipos `Series` y `DataFrame` de Pandas. Pero primero asegúrate de haber instalado la biblioteca:\n",
    "1. Activa tu entorno de trabajo.\n",
    "2. Ejecuta el comando en la consola: `pip install pandas` si usamos pip o `poetry add pandas` si usamos poetry."
   ]
  },
  {
   "cell_type": "code",
   "execution_count": 1,
   "id": "83f04829-9679-455f-bdd3-092a95beede6",
   "metadata": {},
   "outputs": [],
   "source": [
    "import numpy as np\n",
    "import pandas as pd"
   ]
  },
  {
   "cell_type": "code",
   "execution_count": 2,
   "id": "e220b560-066f-43b3-b31c-b7469da81e11",
   "metadata": {},
   "outputs": [
    {
     "data": {
      "text/plain": [
       "'2.2.3'"
      ]
     },
     "execution_count": 2,
     "metadata": {},
     "output_type": "execute_result"
    }
   ],
   "source": [
    "pd.__version__"
   ]
  },
  {
   "cell_type": "markdown",
   "id": "50d0b7c1-456f-4caf-9f50-f11a5a0b81fd",
   "metadata": {},
   "source": [
    "## Series\n",
    "\n",
    "El tipo `Series` representa arreglos unidimensionales de datos indexados. Puede ser creado a partir de una secuencia:"
   ]
  },
  {
   "cell_type": "code",
   "execution_count": 3,
   "id": "c996ccd4-c825-440e-b59e-be792252e3b9",
   "metadata": {},
   "outputs": [
    {
     "data": {
      "text/plain": [
       "0    0.25\n",
       "1    0.50\n",
       "2    0.75\n",
       "3    1.00\n",
       "dtype: float64"
      ]
     },
     "execution_count": 3,
     "metadata": {},
     "output_type": "execute_result"
    }
   ],
   "source": [
    "data = pd.Series([0.25, 0.5, 0.75, 1.0])\n",
    "data"
   ]
  },
  {
   "cell_type": "markdown",
   "id": "7e614ef7-68c1-411c-aaf3-2a6035ca0b66",
   "metadata": {},
   "source": [
    "Observemos que un objeto `Series` contempla tanto la secuencia de valores como la secuencia de índices. Los valores se almacenan internamente como un arreglo de NumPy:"
   ]
  },
  {
   "cell_type": "code",
   "execution_count": 4,
   "id": "c48b802f-ba45-46d3-96bb-cc80e72a7450",
   "metadata": {},
   "outputs": [
    {
     "data": {
      "text/plain": [
       "array([0.25, 0.5 , 0.75, 1.  ])"
      ]
     },
     "execution_count": 4,
     "metadata": {},
     "output_type": "execute_result"
    }
   ],
   "source": [
    "data.values"
   ]
  },
  {
   "cell_type": "markdown",
   "id": "163588db-83e4-4239-8e32-8b840ced0b4e",
   "metadata": {},
   "source": [
    "Los índices se almacenan internamente como un objeto parecido a arreglo de tipo `pd.Index`:"
   ]
  },
  {
   "cell_type": "code",
   "execution_count": 5,
   "id": "82ec3c33-cafd-45d7-bca9-30e757dd3ae2",
   "metadata": {},
   "outputs": [
    {
     "data": {
      "text/plain": [
       "RangeIndex(start=0, stop=4, step=1)"
      ]
     },
     "execution_count": 5,
     "metadata": {},
     "output_type": "execute_result"
    }
   ],
   "source": [
    "data.index"
   ]
  },
  {
   "cell_type": "markdown",
   "id": "b755ca71-bfee-48a4-be69-f79b5c5f50b8",
   "metadata": {},
   "source": [
    "Podemos usar operaciones similares a los arreglos de NumPy, pero para objetos `Series`."
   ]
  },
  {
   "cell_type": "code",
   "execution_count": 6,
   "id": "de2a0ce6-e521-424f-984c-f424efe7f08b",
   "metadata": {},
   "outputs": [
    {
     "data": {
      "text/plain": [
       "np.float64(0.5)"
      ]
     },
     "execution_count": 6,
     "metadata": {},
     "output_type": "execute_result"
    }
   ],
   "source": [
    "data[1]"
   ]
  },
  {
   "cell_type": "code",
   "execution_count": 7,
   "id": "6d656083-9eca-47b6-bfdd-675b1c7d1b53",
   "metadata": {},
   "outputs": [
    {
     "data": {
      "text/plain": [
       "1    0.50\n",
       "2    0.75\n",
       "dtype: float64"
      ]
     },
     "execution_count": 7,
     "metadata": {},
     "output_type": "execute_result"
    }
   ],
   "source": [
    "data[1:3]"
   ]
  },
  {
   "cell_type": "code",
   "execution_count": 8,
   "id": "f6452598-52c6-48a1-9f70-a545e4bfc6be",
   "metadata": {},
   "outputs": [
    {
     "data": {
      "text/plain": [
       "0    0.25\n",
       "1    0.50\n",
       "2    0.75\n",
       "3    1.00\n",
       "dtype: float64"
      ]
     },
     "execution_count": 8,
     "metadata": {},
     "output_type": "execute_result"
    }
   ],
   "source": [
    "data"
   ]
  },
  {
   "cell_type": "markdown",
   "id": "e1a0467b-8a9e-4eb1-b164-9c41d2df6723",
   "metadata": {},
   "source": [
    "Al calcular un subarreglo, los índices siguen correspondiendo a los valores del arreglo original.\n",
    "\n",
    "Podemos pensar en los objetos `Series` como arreglos de NumPy generalizados. La inclusión de los índices de forma explícita en la estructura de los objetos nos permite, por ejemplo, usar otros tipos de valores no numéricos."
   ]
  },
  {
   "cell_type": "markdown",
   "id": "a373589e-3a8a-4738-a81f-2c76f1434660",
   "metadata": {},
   "source": [
    "---"
   ]
  },
  {
   "cell_type": "code",
   "execution_count": 9,
   "id": "5e0e2baf-391e-4f44-a4ef-205bd098739e",
   "metadata": {},
   "outputs": [
    {
     "data": {
      "text/plain": [
       "a    0.25\n",
       "b    0.50\n",
       "c    0.75\n",
       "d    1.00\n",
       "dtype: float64"
      ]
     },
     "execution_count": 9,
     "metadata": {},
     "output_type": "execute_result"
    }
   ],
   "source": [
    "data = pd.Series([0.25, 0.5, 0.75, 1.0],\n",
    "                 index=['a', 'b', 'c', 'd'])\n",
    "data"
   ]
  },
  {
   "cell_type": "code",
   "execution_count": 10,
   "id": "8afcb34b-a5fc-4c5e-8828-212727bdb41f",
   "metadata": {},
   "outputs": [
    {
     "data": {
      "text/plain": [
       "np.float64(0.5)"
      ]
     },
     "execution_count": 10,
     "metadata": {},
     "output_type": "execute_result"
    }
   ],
   "source": [
    "data['b']"
   ]
  },
  {
   "cell_type": "code",
   "execution_count": 11,
   "id": "bcbfce60-b384-4013-9cb3-02db70b08f18",
   "metadata": {},
   "outputs": [
    {
     "data": {
      "text/plain": [
       "Index(['a', 'b', 'c', 'd'], dtype='object')"
      ]
     },
     "execution_count": 11,
     "metadata": {},
     "output_type": "execute_result"
    }
   ],
   "source": [
    "data.index"
   ]
  },
  {
   "cell_type": "markdown",
   "id": "a0ca9d29-627f-4a21-b2a1-6585fbfe8e1b",
   "metadata": {},
   "source": [
    "---"
   ]
  },
  {
   "cell_type": "code",
   "execution_count": 12,
   "id": "f9e211b5-1e30-4cf9-80e8-126fa1d909c5",
   "metadata": {},
   "outputs": [
    {
     "data": {
      "text/plain": [
       "2    0.25\n",
       "5    0.50\n",
       "3    0.75\n",
       "7    1.00\n",
       "dtype: float64"
      ]
     },
     "execution_count": 12,
     "metadata": {},
     "output_type": "execute_result"
    }
   ],
   "source": [
    "data = pd.Series([0.25, 0.5, 0.75, 1.0],\n",
    "                 index=[2, 5, 3, 7])\n",
    "data"
   ]
  },
  {
   "cell_type": "code",
   "execution_count": 13,
   "id": "bc5a435a-443f-4dff-8c0c-fd039d25193a",
   "metadata": {},
   "outputs": [
    {
     "data": {
      "text/plain": [
       "np.float64(0.5)"
      ]
     },
     "execution_count": 13,
     "metadata": {},
     "output_type": "execute_result"
    }
   ],
   "source": [
    "data[5]"
   ]
  },
  {
   "cell_type": "code",
   "execution_count": 14,
   "id": "b9f08863-42ef-4341-bada-784960a7575a",
   "metadata": {},
   "outputs": [
    {
     "data": {
      "text/plain": [
       "Index([2, 5, 3, 7], dtype='int64')"
      ]
     },
     "execution_count": 14,
     "metadata": {},
     "output_type": "execute_result"
    }
   ],
   "source": [
    "data.index"
   ]
  },
  {
   "cell_type": "markdown",
   "id": "41f913b2-26f4-4cc0-9f32-dbf668034c6b",
   "metadata": {},
   "source": [
    "---\n",
    "\n",
    "Podemos utilizar `Series` como una forma de diccionario:"
   ]
  },
  {
   "cell_type": "code",
   "execution_count": 15,
   "id": "7ec6ceef-ca79-486b-8ac3-41aec2ba349b",
   "metadata": {},
   "outputs": [
    {
     "data": {
      "text/plain": [
       "Sonora              2945000\n",
       "Chihuahua           3742000\n",
       "Chiapas             5544000\n",
       "La Habana           3265832\n",
       "Santiago de Cuba    2286360\n",
       "dtype: int64"
      ]
     },
     "execution_count": 15,
     "metadata": {},
     "output_type": "execute_result"
    }
   ],
   "source": [
    "población = pd.Series({\n",
    "    'Sonora': 2945000,\n",
    "    'Chihuahua': 3742000,\n",
    "    'Chiapas': 5544000,\n",
    "    'La Habana': 3265832,\n",
    "    'Santiago de Cuba': 2286360,\n",
    "})\n",
    "población"
   ]
  },
  {
   "cell_type": "markdown",
   "id": "b46644ff-1b13-49b4-8269-6f489f2c786b",
   "metadata": {},
   "source": [
    "En este ejemplo constuimos un objeto `Series` a partir de un diccionario, el índice se obtiene se las llaves del diccionario y los valores... de los valores."
   ]
  },
  {
   "cell_type": "code",
   "execution_count": 16,
   "id": "2a7afbe6-089a-4a63-afa7-5d1483dd6a58",
   "metadata": {},
   "outputs": [
    {
     "data": {
      "text/plain": [
       "np.int64(2945000)"
      ]
     },
     "execution_count": 16,
     "metadata": {},
     "output_type": "execute_result"
    }
   ],
   "source": [
    "población['Sonora']"
   ]
  },
  {
   "cell_type": "code",
   "execution_count": 17,
   "id": "bae1f02f-1dba-46f8-8dfb-7a11cbe67943",
   "metadata": {},
   "outputs": [
    {
     "data": {
      "text/plain": [
       "Chihuahua    3742000\n",
       "Chiapas      5544000\n",
       "La Habana    3265832\n",
       "dtype: int64"
      ]
     },
     "execution_count": 17,
     "metadata": {},
     "output_type": "execute_result"
    }
   ],
   "source": [
    "población['Chihuahua':'La Habana']"
   ]
  },
  {
   "cell_type": "code",
   "execution_count": 18,
   "id": "bb5114cc-4f23-47f4-a9e3-ddb6b485d66b",
   "metadata": {},
   "outputs": [
    {
     "data": {
      "text/plain": [
       "Series([], dtype: int64)"
      ]
     },
     "execution_count": 18,
     "metadata": {},
     "output_type": "execute_result"
    }
   ],
   "source": [
    "población['La Habana':'Chihuahua']"
   ]
  },
  {
   "cell_type": "markdown",
   "id": "6fdc6b49-0e92-4360-825e-b0bc710669bd",
   "metadata": {},
   "source": [
    "**Problema 1:** Determina qué ocurre cuando creamos un objeto `Series` a partir de un diccionario, pero adicionalmente proveemos el argumento opcional `index`. ¿De qué forma podemos utilizar esta propiedad?"
   ]
  },
  {
   "cell_type": "code",
   "execution_count": 19,
   "id": "727ae469-3125-42e9-aad7-cc9590132f84",
   "metadata": {},
   "outputs": [
    {
     "data": {
      "text/plain": [
       "1                  NaN\n",
       "2                  NaN\n",
       "3                  NaN\n",
       "5                  NaN\n",
       "Chihuahua    3742000.0\n",
       "dtype: float64"
      ]
     },
     "execution_count": 19,
     "metadata": {},
     "output_type": "execute_result"
    }
   ],
   "source": [
    "población_index = pd.Series({\n",
    "    'Sonora': 2945000,\n",
    "    'Chihuahua': 3742000,\n",
    "    'Chiapas': 5544000,\n",
    "    'La Habana': 3265832,\n",
    "    'Santiago de Cuba': 2286360,\n",
    "}, index=[1,2,3,5,'Chihuahua'])\n",
    "población_index"
   ]
  },
  {
   "cell_type": "markdown",
   "id": "fddbc714-669b-4848-a60f-43701b78834b",
   "metadata": {},
   "source": [
    "Cuando creamos un DataFrame o una Serie a partir de un diccionario, las claves del diccionario se toman como los índices de manera predeterminada. Si agregamos el parámetro `index`, los índices serán los que se especifican en dicho parámetro.\n",
    "\n",
    "Sin embargo, los valores serán `NaN` en los índices que no coincidan con las claves del diccionario, mientras que los valores correspondientes a las claves coincidentes se mantendrán."
   ]
  },
  {
   "cell_type": "markdown",
   "id": "95e69f52-6e69-410d-a527-f4aea668c587",
   "metadata": {},
   "source": [
    "**Problema 2:** Determina qué ocurre cuando creamos un objeto `Series` a partir de un valor numérico, pero adicionalmente proveemos el argumento opcional `index`. ¿De qué forma podemos utilizar esta propiedad?"
   ]
  },
  {
   "cell_type": "code",
   "execution_count": 20,
   "id": "b22d439c-e916-44bf-83fe-d377896625a4",
   "metadata": {},
   "outputs": [
    {
     "data": {
      "text/plain": [
       "a    10\n",
       "b    10\n",
       "c    10\n",
       "dtype: int64"
      ]
     },
     "execution_count": 20,
     "metadata": {},
     "output_type": "execute_result"
    }
   ],
   "source": [
    "serie = pd.Series(10, index=['a', 'b', 'c'])\n",
    "serie\n"
   ]
  },
  {
   "cell_type": "markdown",
   "id": "2ac8db61-51c6-445d-a657-d4f4e9e4709b",
   "metadata": {},
   "source": [
    "Como podemos observar, cuando se crea una `Series` a partir de un valor numérico y se proporciona un `index`, todos los índices especificados tomarán el mismo valor numérico."
   ]
  },
  {
   "cell_type": "markdown",
   "id": "891162da-862b-46cc-8442-ebc81e36254d",
   "metadata": {},
   "source": [
    "## DataFrame\n",
    "\n",
    "Recordemos la serie de población:"
   ]
  },
  {
   "cell_type": "code",
   "execution_count": 21,
   "id": "ff31d7d8-2251-48a7-a68b-58478a3ffd96",
   "metadata": {},
   "outputs": [
    {
     "data": {
      "text/plain": [
       "Sonora              2945000\n",
       "Chihuahua           3742000\n",
       "Chiapas             5544000\n",
       "La Habana           3265832\n",
       "Santiago de Cuba    2286360\n",
       "dtype: int64"
      ]
     },
     "execution_count": 21,
     "metadata": {},
     "output_type": "execute_result"
    }
   ],
   "source": [
    "población"
   ]
  },
  {
   "cell_type": "markdown",
   "id": "4696f119-d18a-43c2-9f79-8559728f10a9",
   "metadata": {},
   "source": [
    "Definamos ahora una serie similar, pero con la supericie de los territorios medida en kilómetros cuadrados:"
   ]
  },
  {
   "cell_type": "code",
   "execution_count": 22,
   "id": "3f6fcaca-495a-4bc3-9714-01c0da872140",
   "metadata": {},
   "outputs": [
    {
     "data": {
      "text/plain": [
       "La Habana              728\n",
       "Chiapas              73311\n",
       "Santiago de Cuba      6243\n",
       "Sonora              179355\n",
       "Chihuahua           247455\n",
       "dtype: int64"
      ]
     },
     "execution_count": 22,
     "metadata": {},
     "output_type": "execute_result"
    }
   ],
   "source": [
    "superficie = pd.Series({\n",
    "    'La Habana': 728,\n",
    "    'Chiapas': 73311,\n",
    "    'Santiago de Cuba': 6243,\n",
    "    'Sonora': 179355,\n",
    "    'Chihuahua': 247455,\n",
    "})\n",
    "superficie"
   ]
  },
  {
   "cell_type": "markdown",
   "id": "2cc02f25-c2af-47c9-ba10-ff4657af0306",
   "metadata": {},
   "source": [
    "Ahora vamos a crear una tabla (`DataFrame`) que contenga estas dos valiosas piezas de información:"
   ]
  },
  {
   "cell_type": "code",
   "execution_count": 23,
   "id": "bff1d99a-8029-4667-8b3a-0e9865a85a1e",
   "metadata": {},
   "outputs": [
    {
     "data": {
      "text/html": [
       "<div>\n",
       "<style scoped>\n",
       "    .dataframe tbody tr th:only-of-type {\n",
       "        vertical-align: middle;\n",
       "    }\n",
       "\n",
       "    .dataframe tbody tr th {\n",
       "        vertical-align: top;\n",
       "    }\n",
       "\n",
       "    .dataframe thead th {\n",
       "        text-align: right;\n",
       "    }\n",
       "</style>\n",
       "<table border=\"1\" class=\"dataframe\">\n",
       "  <thead>\n",
       "    <tr style=\"text-align: right;\">\n",
       "      <th></th>\n",
       "      <th>población</th>\n",
       "      <th>superficie</th>\n",
       "    </tr>\n",
       "  </thead>\n",
       "  <tbody>\n",
       "    <tr>\n",
       "      <th>Chiapas</th>\n",
       "      <td>5544000</td>\n",
       "      <td>73311</td>\n",
       "    </tr>\n",
       "    <tr>\n",
       "      <th>Chihuahua</th>\n",
       "      <td>3742000</td>\n",
       "      <td>247455</td>\n",
       "    </tr>\n",
       "    <tr>\n",
       "      <th>La Habana</th>\n",
       "      <td>3265832</td>\n",
       "      <td>728</td>\n",
       "    </tr>\n",
       "    <tr>\n",
       "      <th>Santiago de Cuba</th>\n",
       "      <td>2286360</td>\n",
       "      <td>6243</td>\n",
       "    </tr>\n",
       "    <tr>\n",
       "      <th>Sonora</th>\n",
       "      <td>2945000</td>\n",
       "      <td>179355</td>\n",
       "    </tr>\n",
       "  </tbody>\n",
       "</table>\n",
       "</div>"
      ],
      "text/plain": [
       "                  población  superficie\n",
       "Chiapas             5544000       73311\n",
       "Chihuahua           3742000      247455\n",
       "La Habana           3265832         728\n",
       "Santiago de Cuba    2286360        6243\n",
       "Sonora              2945000      179355"
      ]
     },
     "execution_count": 23,
     "metadata": {},
     "output_type": "execute_result"
    }
   ],
   "source": [
    "territorios = pd.DataFrame({\n",
    "    'población': población,\n",
    "    'superficie': superficie,\n",
    "})\n",
    "territorios"
   ]
  },
  {
   "cell_type": "markdown",
   "id": "697799a2-99f7-47f4-ac6a-b9d44858062a",
   "metadata": {},
   "source": [
    "Los DataFrames, al igual que las Series, tienen un atributo `index` con el índice de la tabla:"
   ]
  },
  {
   "cell_type": "code",
   "execution_count": 24,
   "id": "dcc31d55-8639-4135-81c4-f41367d25c3e",
   "metadata": {},
   "outputs": [],
   "source": [
    "pruebita = pd.Series([5, 10, 2, 4, 6])"
   ]
  },
  {
   "cell_type": "code",
   "execution_count": 25,
   "id": "99c0e1db-54d6-4303-8292-68f38ce9bd1d",
   "metadata": {},
   "outputs": [
    {
     "data": {
      "text/plain": [
       "0     5\n",
       "1    10\n",
       "2     2\n",
       "3     4\n",
       "4     6\n",
       "dtype: int64"
      ]
     },
     "execution_count": 25,
     "metadata": {},
     "output_type": "execute_result"
    }
   ],
   "source": [
    "pruebita"
   ]
  },
  {
   "cell_type": "code",
   "execution_count": 26,
   "id": "5c873c95-a734-46d5-b3fc-8cd4b8b1c06b",
   "metadata": {},
   "outputs": [
    {
     "data": {
      "text/plain": [
       "2     2\n",
       "3     4\n",
       "0     5\n",
       "4     6\n",
       "1    10\n",
       "dtype: int64"
      ]
     },
     "execution_count": 26,
     "metadata": {},
     "output_type": "execute_result"
    }
   ],
   "source": [
    "pruebita.sort_values()"
   ]
  },
  {
   "cell_type": "code",
   "execution_count": 27,
   "id": "c36c8bcc-e7a6-4951-965f-a96f8e4055e6",
   "metadata": {},
   "outputs": [
    {
     "data": {
      "text/plain": [
       "Index(['Chiapas', 'Chihuahua', 'La Habana', 'Santiago de Cuba', 'Sonora'], dtype='object')"
      ]
     },
     "execution_count": 27,
     "metadata": {},
     "output_type": "execute_result"
    }
   ],
   "source": [
    "territorios.index"
   ]
  },
  {
   "cell_type": "markdown",
   "id": "0436f8c3-a52f-4e27-8953-f166f3151e5c",
   "metadata": {},
   "source": [
    "Cuando escuchamos o leemos “índice de una tabla”, podemos pensar en sus renglones. En este caso, cada renglón representa un territorio.\n",
    "\n",
    "También tenemos el atributo `columns` (columnas). En este caso, cada columna corresponde a cada medición asociada a los territorios."
   ]
  },
  {
   "cell_type": "code",
   "execution_count": 28,
   "id": "de4615b6-6a08-45e0-8bcc-fe5f32d002e1",
   "metadata": {},
   "outputs": [
    {
     "data": {
      "text/plain": [
       "Index(['población', 'superficie'], dtype='object')"
      ]
     },
     "execution_count": 28,
     "metadata": {},
     "output_type": "execute_result"
    }
   ],
   "source": [
    "territorios.columns"
   ]
  },
  {
   "cell_type": "markdown",
   "id": "d0b5cc6c-d53b-40c9-822e-a6f2f1f22416",
   "metadata": {},
   "source": [
    "El tipo de objeto para las columnas también es `pd.Index`. Podemos pensar las tablas como arreglos bidimensionales de NumPy.\n",
    "\n",
    "Observemos también que al construir la tabla, las serie `población` y la serie `superficie` tenían los mismos índices pero en orden distinto. Pandas se encarga de crear la tabla `territorios` emparejando correctamente las mediciones de acuerdo al *valor* de su índice, no la *posición* de este."
   ]
  },
  {
   "cell_type": "markdown",
   "id": "c2196d6d-6b01-452a-a85c-650733a29005",
   "metadata": {},
   "source": [
    "---"
   ]
  },
  {
   "cell_type": "code",
   "execution_count": 29,
   "id": "bf3bf996-28e8-4c0d-9780-cc2ef2bdbe86",
   "metadata": {},
   "outputs": [
    {
     "data": {
      "text/plain": [
       "Chiapas              73311\n",
       "Chihuahua           247455\n",
       "La Habana              728\n",
       "Santiago de Cuba      6243\n",
       "Sonora              179355\n",
       "Name: superficie, dtype: int64"
      ]
     },
     "execution_count": 29,
     "metadata": {},
     "output_type": "execute_result"
    }
   ],
   "source": [
    "territorios['superficie']"
   ]
  },
  {
   "cell_type": "code",
   "execution_count": 30,
   "id": "9b0ece35-0b13-4640-9707-c2ae80717e8b",
   "metadata": {},
   "outputs": [
    {
     "data": {
      "text/plain": [
       "Chiapas             5544000\n",
       "Chihuahua           3742000\n",
       "La Habana           3265832\n",
       "Santiago de Cuba    2286360\n",
       "Sonora              2945000\n",
       "Name: población, dtype: int64"
      ]
     },
     "execution_count": 30,
     "metadata": {},
     "output_type": "execute_result"
    }
   ],
   "source": [
    "territorios['población']"
   ]
  },
  {
   "cell_type": "code",
   "execution_count": 31,
   "id": "56b4c4df-12fc-4abb-84c7-004e7db499ad",
   "metadata": {},
   "outputs": [
    {
     "data": {
      "text/plain": [
       "población     3265832\n",
       "superficie        728\n",
       "Name: La Habana, dtype: int64"
      ]
     },
     "execution_count": 31,
     "metadata": {},
     "output_type": "execute_result"
    }
   ],
   "source": [
    "territorios.loc['La Habana']"
   ]
  },
  {
   "cell_type": "code",
   "execution_count": 32,
   "id": "abb7828e-9e3f-41d3-8040-b16798e5ca87",
   "metadata": {},
   "outputs": [
    {
     "data": {
      "text/plain": [
       "población     3265832\n",
       "superficie        728\n",
       "Name: La Habana, dtype: int64"
      ]
     },
     "execution_count": 32,
     "metadata": {},
     "output_type": "execute_result"
    }
   ],
   "source": [
    "territorios.iloc[2]"
   ]
  },
  {
   "cell_type": "markdown",
   "id": "4f4844a4-177b-48e8-913f-6a3a18bb42b4",
   "metadata": {},
   "source": [
    "---\n",
    "\n",
    "Distinta formas de crear DataFrames:"
   ]
  },
  {
   "cell_type": "code",
   "execution_count": 33,
   "id": "6c3ae416-9fd2-4eca-858a-b75a1855c02c",
   "metadata": {},
   "outputs": [
    {
     "data": {
      "text/html": [
       "<div>\n",
       "<style scoped>\n",
       "    .dataframe tbody tr th:only-of-type {\n",
       "        vertical-align: middle;\n",
       "    }\n",
       "\n",
       "    .dataframe tbody tr th {\n",
       "        vertical-align: top;\n",
       "    }\n",
       "\n",
       "    .dataframe thead th {\n",
       "        text-align: right;\n",
       "    }\n",
       "</style>\n",
       "<table border=\"1\" class=\"dataframe\">\n",
       "  <thead>\n",
       "    <tr style=\"text-align: right;\">\n",
       "      <th></th>\n",
       "      <th>población</th>\n",
       "    </tr>\n",
       "  </thead>\n",
       "  <tbody>\n",
       "    <tr>\n",
       "      <th>Sonora</th>\n",
       "      <td>2945000</td>\n",
       "    </tr>\n",
       "    <tr>\n",
       "      <th>Chihuahua</th>\n",
       "      <td>3742000</td>\n",
       "    </tr>\n",
       "    <tr>\n",
       "      <th>Chiapas</th>\n",
       "      <td>5544000</td>\n",
       "    </tr>\n",
       "    <tr>\n",
       "      <th>La Habana</th>\n",
       "      <td>3265832</td>\n",
       "    </tr>\n",
       "    <tr>\n",
       "      <th>Santiago de Cuba</th>\n",
       "      <td>2286360</td>\n",
       "    </tr>\n",
       "  </tbody>\n",
       "</table>\n",
       "</div>"
      ],
      "text/plain": [
       "                  población\n",
       "Sonora              2945000\n",
       "Chihuahua           3742000\n",
       "Chiapas             5544000\n",
       "La Habana           3265832\n",
       "Santiago de Cuba    2286360"
      ]
     },
     "execution_count": 33,
     "metadata": {},
     "output_type": "execute_result"
    }
   ],
   "source": [
    "# A partir de una Serie\n",
    "pd.DataFrame(población, columns=['población'])"
   ]
  },
  {
   "cell_type": "code",
   "execution_count": 34,
   "id": "b4ce445e-5959-42aa-bdf4-e636f745b3d6",
   "metadata": {},
   "outputs": [
    {
     "data": {
      "text/html": [
       "<div>\n",
       "<style scoped>\n",
       "    .dataframe tbody tr th:only-of-type {\n",
       "        vertical-align: middle;\n",
       "    }\n",
       "\n",
       "    .dataframe tbody tr th {\n",
       "        vertical-align: top;\n",
       "    }\n",
       "\n",
       "    .dataframe thead th {\n",
       "        text-align: right;\n",
       "    }\n",
       "</style>\n",
       "<table border=\"1\" class=\"dataframe\">\n",
       "  <thead>\n",
       "    <tr style=\"text-align: right;\">\n",
       "      <th></th>\n",
       "      <th>a</th>\n",
       "      <th>b</th>\n",
       "    </tr>\n",
       "  </thead>\n",
       "  <tbody>\n",
       "    <tr>\n",
       "      <th>0</th>\n",
       "      <td>0</td>\n",
       "      <td>0</td>\n",
       "    </tr>\n",
       "    <tr>\n",
       "      <th>1</th>\n",
       "      <td>1</td>\n",
       "      <td>2</td>\n",
       "    </tr>\n",
       "    <tr>\n",
       "      <th>2</th>\n",
       "      <td>2</td>\n",
       "      <td>4</td>\n",
       "    </tr>\n",
       "  </tbody>\n",
       "</table>\n",
       "</div>"
      ],
      "text/plain": [
       "   a  b\n",
       "0  0  0\n",
       "1  1  2\n",
       "2  2  4"
      ]
     },
     "execution_count": 34,
     "metadata": {},
     "output_type": "execute_result"
    }
   ],
   "source": [
    "# A partir de una lista de diccionarios\n",
    "pd.DataFrame([{'a': i, 'b': 2 * i} for i in range(3)])"
   ]
  },
  {
   "cell_type": "code",
   "execution_count": 35,
   "id": "71a5e3d4-eb1b-4905-b7c3-6c37679ddceb",
   "metadata": {},
   "outputs": [
    {
     "data": {
      "text/html": [
       "<div>\n",
       "<style scoped>\n",
       "    .dataframe tbody tr th:only-of-type {\n",
       "        vertical-align: middle;\n",
       "    }\n",
       "\n",
       "    .dataframe tbody tr th {\n",
       "        vertical-align: top;\n",
       "    }\n",
       "\n",
       "    .dataframe thead th {\n",
       "        text-align: right;\n",
       "    }\n",
       "</style>\n",
       "<table border=\"1\" class=\"dataframe\">\n",
       "  <thead>\n",
       "    <tr style=\"text-align: right;\">\n",
       "      <th></th>\n",
       "      <th>a</th>\n",
       "      <th>b</th>\n",
       "      <th>c</th>\n",
       "    </tr>\n",
       "  </thead>\n",
       "  <tbody>\n",
       "    <tr>\n",
       "      <th>0</th>\n",
       "      <td>1.0</td>\n",
       "      <td>2</td>\n",
       "      <td>NaN</td>\n",
       "    </tr>\n",
       "    <tr>\n",
       "      <th>1</th>\n",
       "      <td>NaN</td>\n",
       "      <td>3</td>\n",
       "      <td>4.0</td>\n",
       "    </tr>\n",
       "  </tbody>\n",
       "</table>\n",
       "</div>"
      ],
      "text/plain": [
       "     a  b    c\n",
       "0  1.0  2  NaN\n",
       "1  NaN  3  4.0"
      ]
     },
     "execution_count": 35,
     "metadata": {},
     "output_type": "execute_result"
    }
   ],
   "source": [
    "pd.DataFrame([\n",
    "    {'a': 1, 'b': 2},\n",
    "    {'b': 3, 'c': 4},\n",
    "])"
   ]
  },
  {
   "cell_type": "code",
   "execution_count": 36,
   "id": "d1c90e28-c883-462a-9e5e-bebc59c4b723",
   "metadata": {},
   "outputs": [
    {
     "data": {
      "text/html": [
       "<div>\n",
       "<style scoped>\n",
       "    .dataframe tbody tr th:only-of-type {\n",
       "        vertical-align: middle;\n",
       "    }\n",
       "\n",
       "    .dataframe tbody tr th {\n",
       "        vertical-align: top;\n",
       "    }\n",
       "\n",
       "    .dataframe thead th {\n",
       "        text-align: right;\n",
       "    }\n",
       "</style>\n",
       "<table border=\"1\" class=\"dataframe\">\n",
       "  <thead>\n",
       "    <tr style=\"text-align: right;\">\n",
       "      <th></th>\n",
       "      <th>población</th>\n",
       "      <th>superficie</th>\n",
       "    </tr>\n",
       "  </thead>\n",
       "  <tbody>\n",
       "    <tr>\n",
       "      <th>Chiapas</th>\n",
       "      <td>5544000</td>\n",
       "      <td>73311</td>\n",
       "    </tr>\n",
       "    <tr>\n",
       "      <th>Chihuahua</th>\n",
       "      <td>3742000</td>\n",
       "      <td>247455</td>\n",
       "    </tr>\n",
       "    <tr>\n",
       "      <th>La Habana</th>\n",
       "      <td>3265832</td>\n",
       "      <td>728</td>\n",
       "    </tr>\n",
       "    <tr>\n",
       "      <th>Santiago de Cuba</th>\n",
       "      <td>2286360</td>\n",
       "      <td>6243</td>\n",
       "    </tr>\n",
       "    <tr>\n",
       "      <th>Sonora</th>\n",
       "      <td>2945000</td>\n",
       "      <td>179355</td>\n",
       "    </tr>\n",
       "  </tbody>\n",
       "</table>\n",
       "</div>"
      ],
      "text/plain": [
       "                  población  superficie\n",
       "Chiapas             5544000       73311\n",
       "Chihuahua           3742000      247455\n",
       "La Habana           3265832         728\n",
       "Santiago de Cuba    2286360        6243\n",
       "Sonora              2945000      179355"
      ]
     },
     "execution_count": 36,
     "metadata": {},
     "output_type": "execute_result"
    }
   ],
   "source": [
    "# A partir de un diccionario con Series como valores\n",
    "pd.DataFrame({\n",
    "    'población': población,\n",
    "    'superficie': superficie,\n",
    "})"
   ]
  },
  {
   "cell_type": "code",
   "execution_count": 37,
   "id": "55eebcda-5137-4ae4-8f93-f451ad976577",
   "metadata": {},
   "outputs": [
    {
     "data": {
      "text/html": [
       "<div>\n",
       "<style scoped>\n",
       "    .dataframe tbody tr th:only-of-type {\n",
       "        vertical-align: middle;\n",
       "    }\n",
       "\n",
       "    .dataframe tbody tr th {\n",
       "        vertical-align: top;\n",
       "    }\n",
       "\n",
       "    .dataframe thead th {\n",
       "        text-align: right;\n",
       "    }\n",
       "</style>\n",
       "<table border=\"1\" class=\"dataframe\">\n",
       "  <thead>\n",
       "    <tr style=\"text-align: right;\">\n",
       "      <th></th>\n",
       "      <th>A</th>\n",
       "      <th>B</th>\n",
       "    </tr>\n",
       "  </thead>\n",
       "  <tbody>\n",
       "    <tr>\n",
       "      <th>0</th>\n",
       "      <td>0</td>\n",
       "      <td>0.0</td>\n",
       "    </tr>\n",
       "    <tr>\n",
       "      <th>1</th>\n",
       "      <td>0</td>\n",
       "      <td>0.0</td>\n",
       "    </tr>\n",
       "    <tr>\n",
       "      <th>2</th>\n",
       "      <td>0</td>\n",
       "      <td>0.0</td>\n",
       "    </tr>\n",
       "  </tbody>\n",
       "</table>\n",
       "</div>"
      ],
      "text/plain": [
       "   A    B\n",
       "0  0  0.0\n",
       "1  0  0.0\n",
       "2  0  0.0"
      ]
     },
     "execution_count": 37,
     "metadata": {},
     "output_type": "execute_result"
    }
   ],
   "source": [
    "# A partir de una arreglo bidimensional de NumPy\n",
    "A = np.zeros(3, dtype=[('A', 'i8'), ('B', 'f8')])\n",
    "pd.DataFrame(A)"
   ]
  },
  {
   "cell_type": "markdown",
   "id": "4ddc9eb1-cc24-47b3-956b-75014be1f66b",
   "metadata": {},
   "source": [
    "**Problema 3:** El ejemplo anterior utiliza un concepto llamado *Structured Arrays* de NumPy. Investiga para qué pueden ser utilizados este tipo de arreglos."
   ]
  },
  {
   "cell_type": "markdown",
   "id": "40f95e7b-ecea-44b1-9f82-7149eb657293",
   "metadata": {},
   "source": [
    "En NumPy, podemos definir un nuevo tipo de dato para un arreglo en el que cada elemento tenga múltiples campos, y cada uno de estos campos puede tener un tipo de dato diferente. Esto se logra mediante el parámetro `dtype`. Por ejemplo, si deseamos crear un arreglo que almacene el Nombre, la Edad, y el Peso, podemos definir el `dtype` de la siguiente manera:\n",
    "\n",
    "```python\n",
    "dtype = [('Nombre', 'U10'), ('Edad', 'i4'), ('Peso', 'f4')]\n",
    "\n",
    "Aquí:\n",
    "1. El campo Nombre es una cadena de texto de hasta 10 caracteres ('U10').\n",
    "2. El campo Edad es un entero de 4 bytes ('i4').\n",
    "3. El campo Peso es un número de punto flotante de 4 bytes ('f4')."
   ]
  },
  {
   "cell_type": "markdown",
   "id": "9533e814-f1a9-4bc0-83cf-70ced200ed27",
   "metadata": {},
   "source": [
    "## Index\n",
    "\n",
    "Tanto los objetos DataFrame como Series contienen índices que nos permiten hacer referencia a la información que contienen.\n",
    "\n",
    "La estructura de los índices podemos pensarla como un arreglo inmutable (no podemos modificar sus valores) o como un conjunto ordenado (o multiconjunto ya que un índice puede tener valores repetidos)."
   ]
  },
  {
   "cell_type": "code",
   "execution_count": 39,
   "id": "c9b03177-230d-406e-afcc-d5eef9a18400",
   "metadata": {},
   "outputs": [
    {
     "data": {
      "text/plain": [
       "Index([2, 3, 5, 7, 11], dtype='int64')"
      ]
     },
     "execution_count": 39,
     "metadata": {},
     "output_type": "execute_result"
    }
   ],
   "source": [
    "ind = pd.Index([2, 3, 5, 7, 11])\n",
    "ind"
   ]
  },
  {
   "cell_type": "code",
   "execution_count": 40,
   "id": "ab00ebbc-7d2f-427b-9d45-4db57a81eeff",
   "metadata": {},
   "outputs": [
    {
     "data": {
      "text/plain": [
       "np.int64(3)"
      ]
     },
     "execution_count": 40,
     "metadata": {},
     "output_type": "execute_result"
    }
   ],
   "source": [
    "ind[1]"
   ]
  },
  {
   "cell_type": "code",
   "execution_count": 41,
   "id": "90c07b07-f110-4db6-aa84-c10e61ed6eba",
   "metadata": {},
   "outputs": [
    {
     "data": {
      "text/plain": [
       "Index([2, 5, 11], dtype='int64')"
      ]
     },
     "execution_count": 41,
     "metadata": {},
     "output_type": "execute_result"
    }
   ],
   "source": [
    "ind[::2]"
   ]
  },
  {
   "cell_type": "code",
   "execution_count": 42,
   "id": "282a4a73-25ce-4986-a471-6dbb7198afe4",
   "metadata": {},
   "outputs": [
    {
     "data": {
      "text/plain": [
       "5"
      ]
     },
     "execution_count": 42,
     "metadata": {},
     "output_type": "execute_result"
    }
   ],
   "source": [
    "ind.size"
   ]
  },
  {
   "cell_type": "code",
   "execution_count": 43,
   "id": "718f717d-39f2-4cd2-a891-6aa636838eb9",
   "metadata": {},
   "outputs": [
    {
     "data": {
      "text/plain": [
       "(5,)"
      ]
     },
     "execution_count": 43,
     "metadata": {},
     "output_type": "execute_result"
    }
   ],
   "source": [
    "ind.shape"
   ]
  },
  {
   "cell_type": "code",
   "execution_count": 44,
   "id": "52d45492-02ff-4c84-b8d6-cb1117b61481",
   "metadata": {},
   "outputs": [
    {
     "data": {
      "text/plain": [
       "1"
      ]
     },
     "execution_count": 44,
     "metadata": {},
     "output_type": "execute_result"
    }
   ],
   "source": [
    "ind.ndim"
   ]
  },
  {
   "cell_type": "code",
   "execution_count": 45,
   "id": "4c1483d1-8e85-44ef-b3a5-1371d330bdc2",
   "metadata": {},
   "outputs": [
    {
     "data": {
      "text/plain": [
       "dtype('int64')"
      ]
     },
     "execution_count": 45,
     "metadata": {},
     "output_type": "execute_result"
    }
   ],
   "source": [
    "ind.dtype"
   ]
  },
  {
   "cell_type": "code",
   "execution_count": 46,
   "id": "fc3e1b41-d548-45a2-9754-4a5ef79408c5",
   "metadata": {},
   "outputs": [
    {
     "ename": "TypeError",
     "evalue": "Index does not support mutable operations",
     "output_type": "error",
     "traceback": [
      "\u001b[0;31m---------------------------------------------------------------------------\u001b[0m",
      "\u001b[0;31mTypeError\u001b[0m                                 Traceback (most recent call last)",
      "Cell \u001b[0;32mIn[46], line 1\u001b[0m\n\u001b[0;32m----> 1\u001b[0m \u001b[43mind\u001b[49m\u001b[43m[\u001b[49m\u001b[38;5;241;43m1\u001b[39;49m\u001b[43m]\u001b[49m \u001b[38;5;241m=\u001b[39m \u001b[38;5;241m0\u001b[39m\n",
      "File \u001b[0;32m/opt/conda/lib/python3.12/site-packages/pandas/core/indexes/base.py:5371\u001b[0m, in \u001b[0;36mIndex.__setitem__\u001b[0;34m(self, key, value)\u001b[0m\n\u001b[1;32m   5369\u001b[0m \u001b[38;5;129m@final\u001b[39m\n\u001b[1;32m   5370\u001b[0m \u001b[38;5;28;01mdef\u001b[39;00m \u001b[38;5;21m__setitem__\u001b[39m(\u001b[38;5;28mself\u001b[39m, key, value) \u001b[38;5;241m-\u001b[39m\u001b[38;5;241m>\u001b[39m \u001b[38;5;28;01mNone\u001b[39;00m:\n\u001b[0;32m-> 5371\u001b[0m     \u001b[38;5;28;01mraise\u001b[39;00m \u001b[38;5;167;01mTypeError\u001b[39;00m(\u001b[38;5;124m\"\u001b[39m\u001b[38;5;124mIndex does not support mutable operations\u001b[39m\u001b[38;5;124m\"\u001b[39m)\n",
      "\u001b[0;31mTypeError\u001b[0m: Index does not support mutable operations"
     ]
    }
   ],
   "source": [
    "ind[1] = 0"
   ]
  },
  {
   "cell_type": "code",
   "execution_count": null,
   "id": "ee2089ba-0126-4301-af77-d9a65f301d7f",
   "metadata": {},
   "outputs": [],
   "source": [
    "indA = pd.Index([1, 3, 5, 7, 9])\n",
    "indB = pd.Index([2, 3, 5, 7, 11])"
   ]
  },
  {
   "cell_type": "code",
   "execution_count": null,
   "id": "06e1aa22-39b2-4fbc-847e-d70ed94df770",
   "metadata": {},
   "outputs": [],
   "source": [
    "indA.intersection(indB)"
   ]
  },
  {
   "cell_type": "code",
   "execution_count": 47,
   "id": "9bb931cb-4238-49bb-ace7-4f0e22afc426",
   "metadata": {},
   "outputs": [
    {
     "ename": "NameError",
     "evalue": "name 'indA' is not defined",
     "output_type": "error",
     "traceback": [
      "\u001b[0;31m---------------------------------------------------------------------------\u001b[0m",
      "\u001b[0;31mNameError\u001b[0m                                 Traceback (most recent call last)",
      "Cell \u001b[0;32mIn[47], line 1\u001b[0m\n\u001b[0;32m----> 1\u001b[0m \u001b[43mindA\u001b[49m\u001b[38;5;241m.\u001b[39munion(indB)\n",
      "\u001b[0;31mNameError\u001b[0m: name 'indA' is not defined"
     ]
    }
   ],
   "source": [
    "indA.union(indB)"
   ]
  },
  {
   "cell_type": "code",
   "execution_count": 48,
   "id": "0c2fe083-a7cc-498d-831b-cc8d233516d0",
   "metadata": {},
   "outputs": [
    {
     "ename": "NameError",
     "evalue": "name 'indA' is not defined",
     "output_type": "error",
     "traceback": [
      "\u001b[0;31m---------------------------------------------------------------------------\u001b[0m",
      "\u001b[0;31mNameError\u001b[0m                                 Traceback (most recent call last)",
      "Cell \u001b[0;32mIn[48], line 1\u001b[0m\n\u001b[0;32m----> 1\u001b[0m \u001b[43mindA\u001b[49m\u001b[38;5;241m.\u001b[39msymmetric_difference(indB)\n",
      "\u001b[0;31mNameError\u001b[0m: name 'indA' is not defined"
     ]
    }
   ],
   "source": [
    "indA.symmetric_difference(indB)"
   ]
  },
  {
   "cell_type": "markdown",
   "id": "4f718393-9126-4a24-ba60-0ff01b743cc3",
   "metadata": {},
   "source": [
    "## Indexando y seleccionando datos"
   ]
  },
  {
   "cell_type": "code",
   "execution_count": 49,
   "id": "0905dd13-6138-4df4-8ecd-b8cc2bb3415d",
   "metadata": {},
   "outputs": [
    {
     "data": {
      "text/plain": [
       "a    0.25\n",
       "b    0.50\n",
       "c    0.75\n",
       "d    1.00\n",
       "dtype: float64"
      ]
     },
     "execution_count": 49,
     "metadata": {},
     "output_type": "execute_result"
    }
   ],
   "source": [
    "data = pd.Series([0.25, 0.5, 0.75, 1.0],\n",
    "                 index=['a', 'b', 'c', 'd'])\n",
    "data"
   ]
  },
  {
   "cell_type": "code",
   "execution_count": 50,
   "id": "471e37c4-838b-4b81-a871-5b0badb4dda2",
   "metadata": {},
   "outputs": [
    {
     "data": {
      "text/plain": [
       "np.float64(0.5)"
      ]
     },
     "execution_count": 50,
     "metadata": {},
     "output_type": "execute_result"
    }
   ],
   "source": [
    "data['b']"
   ]
  },
  {
   "cell_type": "code",
   "execution_count": 51,
   "id": "48e1a945-19b9-49a4-b95b-75a4b9ff2fae",
   "metadata": {},
   "outputs": [
    {
     "data": {
      "text/plain": [
       "True"
      ]
     },
     "execution_count": 51,
     "metadata": {},
     "output_type": "execute_result"
    }
   ],
   "source": [
    "'a' in data"
   ]
  },
  {
   "cell_type": "code",
   "execution_count": 52,
   "id": "d2b992d8-4fef-4bcd-8e76-ba9a7dc303d6",
   "metadata": {},
   "outputs": [
    {
     "data": {
      "text/plain": [
       "['a', 'b', 'c', 'd']"
      ]
     },
     "execution_count": 52,
     "metadata": {},
     "output_type": "execute_result"
    }
   ],
   "source": [
    "list(data.keys())"
   ]
  },
  {
   "cell_type": "code",
   "execution_count": 53,
   "id": "d786a75a-d632-4b29-8ba1-71ee6409c8f4",
   "metadata": {},
   "outputs": [
    {
     "data": {
      "text/plain": [
       "[('a', 0.25), ('b', 0.5), ('c', 0.75), ('d', 1.0)]"
      ]
     },
     "execution_count": 53,
     "metadata": {},
     "output_type": "execute_result"
    }
   ],
   "source": [
    "list(data.items())"
   ]
  },
  {
   "cell_type": "code",
   "execution_count": 54,
   "id": "d9d58e4e-bd7d-46ff-88a3-58b5b0a80d8c",
   "metadata": {},
   "outputs": [],
   "source": [
    "data['e'] = 1.25"
   ]
  },
  {
   "cell_type": "code",
   "execution_count": 55,
   "id": "1da5ed09-bbae-4a7b-bbd0-3a422bf286c6",
   "metadata": {},
   "outputs": [
    {
     "data": {
      "text/plain": [
       "a    0.25\n",
       "b    0.50\n",
       "c    0.75\n",
       "d    1.00\n",
       "e    1.25\n",
       "dtype: float64"
      ]
     },
     "execution_count": 55,
     "metadata": {},
     "output_type": "execute_result"
    }
   ],
   "source": [
    "data"
   ]
  },
  {
   "cell_type": "code",
   "execution_count": 56,
   "id": "ee436eab-c51a-4925-b915-c21835706c88",
   "metadata": {},
   "outputs": [
    {
     "data": {
      "text/plain": [
       "a    0.25\n",
       "b    0.50\n",
       "c    0.75\n",
       "dtype: float64"
      ]
     },
     "execution_count": 56,
     "metadata": {},
     "output_type": "execute_result"
    }
   ],
   "source": [
    "data['a':'c']"
   ]
  },
  {
   "cell_type": "code",
   "execution_count": 57,
   "id": "e54adde0-addd-4f1a-92b9-2ab1a7dc44eb",
   "metadata": {},
   "outputs": [
    {
     "data": {
      "text/plain": [
       "a    0.25\n",
       "b    0.50\n",
       "dtype: float64"
      ]
     },
     "execution_count": 57,
     "metadata": {},
     "output_type": "execute_result"
    }
   ],
   "source": [
    "data[0:2]"
   ]
  },
  {
   "cell_type": "code",
   "execution_count": 58,
   "id": "056e028a-7f68-445c-8e63-c7095839557c",
   "metadata": {},
   "outputs": [
    {
     "data": {
      "text/plain": [
       "b    0.50\n",
       "c    0.75\n",
       "dtype: float64"
      ]
     },
     "execution_count": 58,
     "metadata": {},
     "output_type": "execute_result"
    }
   ],
   "source": [
    "data[(data > 0.3) & (data < 0.8)]"
   ]
  },
  {
   "cell_type": "code",
   "execution_count": 59,
   "id": "94e725a7-7a83-4846-9b0c-cca24796d45d",
   "metadata": {},
   "outputs": [
    {
     "data": {
      "text/plain": [
       "a    False\n",
       "b     True\n",
       "c     True\n",
       "d    False\n",
       "e    False\n",
       "dtype: bool"
      ]
     },
     "execution_count": 59,
     "metadata": {},
     "output_type": "execute_result"
    }
   ],
   "source": [
    "(data > 0.3) & (data < 0.8)"
   ]
  },
  {
   "cell_type": "code",
   "execution_count": 60,
   "id": "7f975b12-62c2-464f-8d7c-18501293a8b8",
   "metadata": {},
   "outputs": [
    {
     "data": {
      "text/plain": [
       "a    0.25\n",
       "e    1.25\n",
       "dtype: float64"
      ]
     },
     "execution_count": 60,
     "metadata": {},
     "output_type": "execute_result"
    }
   ],
   "source": [
    "data[['a', 'e']]"
   ]
  },
  {
   "cell_type": "code",
   "execution_count": 61,
   "id": "ca39b051-4460-4f34-a2ad-4d71ec8a1e76",
   "metadata": {},
   "outputs": [
    {
     "data": {
      "text/plain": [
       "1    a\n",
       "3    b\n",
       "5    c\n",
       "dtype: object"
      ]
     },
     "execution_count": 61,
     "metadata": {},
     "output_type": "execute_result"
    }
   ],
   "source": [
    "data = pd.Series(['a', 'b', 'c'], index=[1, 3, 5])\n",
    "data"
   ]
  },
  {
   "cell_type": "code",
   "execution_count": 62,
   "id": "a5182afb-e10b-4d81-8de1-5792298fd3fc",
   "metadata": {},
   "outputs": [
    {
     "data": {
      "text/plain": [
       "'a'"
      ]
     },
     "execution_count": 62,
     "metadata": {},
     "output_type": "execute_result"
    }
   ],
   "source": [
    "data[1]"
   ]
  },
  {
   "cell_type": "code",
   "execution_count": 63,
   "id": "5572f3ab-228a-4712-922f-97b161a17e13",
   "metadata": {},
   "outputs": [
    {
     "data": {
      "text/plain": [
       "3    b\n",
       "5    c\n",
       "dtype: object"
      ]
     },
     "execution_count": 63,
     "metadata": {},
     "output_type": "execute_result"
    }
   ],
   "source": [
    "data[1:3]"
   ]
  },
  {
   "cell_type": "code",
   "execution_count": 64,
   "id": "433acc8d-8c70-4fad-b2ee-9dcc7f3e90d3",
   "metadata": {},
   "outputs": [
    {
     "data": {
      "text/plain": [
       "1    a\n",
       "3    b\n",
       "5    c\n",
       "dtype: object"
      ]
     },
     "execution_count": 64,
     "metadata": {},
     "output_type": "execute_result"
    }
   ],
   "source": [
    "data"
   ]
  },
  {
   "cell_type": "code",
   "execution_count": 65,
   "id": "b03fad60-d060-42ba-abec-b683694283dc",
   "metadata": {},
   "outputs": [
    {
     "data": {
      "text/plain": [
       "'a'"
      ]
     },
     "execution_count": 65,
     "metadata": {},
     "output_type": "execute_result"
    }
   ],
   "source": [
    "data.loc[1]"
   ]
  },
  {
   "cell_type": "code",
   "execution_count": 66,
   "id": "8276a5eb-8bf1-4a5c-a69a-9d03ca81190d",
   "metadata": {},
   "outputs": [
    {
     "data": {
      "text/plain": [
       "1    a\n",
       "3    b\n",
       "dtype: object"
      ]
     },
     "execution_count": 66,
     "metadata": {},
     "output_type": "execute_result"
    }
   ],
   "source": [
    "data.loc[1:3]"
   ]
  },
  {
   "cell_type": "code",
   "execution_count": 67,
   "id": "07340e8f-82d9-40d8-922d-511e2c055d51",
   "metadata": {},
   "outputs": [
    {
     "data": {
      "text/plain": [
       "'b'"
      ]
     },
     "execution_count": 67,
     "metadata": {},
     "output_type": "execute_result"
    }
   ],
   "source": [
    "data.iloc[1]"
   ]
  },
  {
   "cell_type": "code",
   "execution_count": 68,
   "id": "f9d4af97-0021-4ed8-aab4-461d31b44406",
   "metadata": {},
   "outputs": [
    {
     "data": {
      "text/plain": [
       "3    b\n",
       "5    c\n",
       "dtype: object"
      ]
     },
     "execution_count": 68,
     "metadata": {},
     "output_type": "execute_result"
    }
   ],
   "source": [
    "data.iloc[1:3]"
   ]
  },
  {
   "cell_type": "code",
   "execution_count": 69,
   "id": "d2ff816f-af59-4851-9ec9-684875157adc",
   "metadata": {},
   "outputs": [
    {
     "data": {
      "text/html": [
       "<div>\n",
       "<style scoped>\n",
       "    .dataframe tbody tr th:only-of-type {\n",
       "        vertical-align: middle;\n",
       "    }\n",
       "\n",
       "    .dataframe tbody tr th {\n",
       "        vertical-align: top;\n",
       "    }\n",
       "\n",
       "    .dataframe thead th {\n",
       "        text-align: right;\n",
       "    }\n",
       "</style>\n",
       "<table border=\"1\" class=\"dataframe\">\n",
       "  <thead>\n",
       "    <tr style=\"text-align: right;\">\n",
       "      <th></th>\n",
       "      <th>población</th>\n",
       "      <th>superficie</th>\n",
       "    </tr>\n",
       "  </thead>\n",
       "  <tbody>\n",
       "    <tr>\n",
       "      <th>Chiapas</th>\n",
       "      <td>5544000</td>\n",
       "      <td>73311</td>\n",
       "    </tr>\n",
       "    <tr>\n",
       "      <th>Chihuahua</th>\n",
       "      <td>3742000</td>\n",
       "      <td>247455</td>\n",
       "    </tr>\n",
       "    <tr>\n",
       "      <th>La Habana</th>\n",
       "      <td>3265832</td>\n",
       "      <td>728</td>\n",
       "    </tr>\n",
       "    <tr>\n",
       "      <th>Santiago de Cuba</th>\n",
       "      <td>2286360</td>\n",
       "      <td>6243</td>\n",
       "    </tr>\n",
       "    <tr>\n",
       "      <th>Sonora</th>\n",
       "      <td>2945000</td>\n",
       "      <td>179355</td>\n",
       "    </tr>\n",
       "  </tbody>\n",
       "</table>\n",
       "</div>"
      ],
      "text/plain": [
       "                  población  superficie\n",
       "Chiapas             5544000       73311\n",
       "Chihuahua           3742000      247455\n",
       "La Habana           3265832         728\n",
       "Santiago de Cuba    2286360        6243\n",
       "Sonora              2945000      179355"
      ]
     },
     "execution_count": 69,
     "metadata": {},
     "output_type": "execute_result"
    }
   ],
   "source": [
    "territorios"
   ]
  },
  {
   "cell_type": "code",
   "execution_count": 70,
   "id": "98e8b5e0-06b6-43d5-b11d-8e4026c4beb6",
   "metadata": {},
   "outputs": [
    {
     "data": {
      "text/plain": [
       "Chiapas             5544000\n",
       "Chihuahua           3742000\n",
       "La Habana           3265832\n",
       "Santiago de Cuba    2286360\n",
       "Sonora              2945000\n",
       "Name: población, dtype: int64"
      ]
     },
     "execution_count": 70,
     "metadata": {},
     "output_type": "execute_result"
    }
   ],
   "source": [
    "territorios['población']"
   ]
  },
  {
   "cell_type": "code",
   "execution_count": 71,
   "id": "8b477ab9-3410-4727-a30f-c48dac74c594",
   "metadata": {},
   "outputs": [
    {
     "data": {
      "text/plain": [
       "Chiapas              73311\n",
       "Chihuahua           247455\n",
       "La Habana              728\n",
       "Santiago de Cuba      6243\n",
       "Sonora              179355\n",
       "Name: superficie, dtype: int64"
      ]
     },
     "execution_count": 71,
     "metadata": {},
     "output_type": "execute_result"
    }
   ],
   "source": [
    "territorios['superficie']"
   ]
  },
  {
   "cell_type": "code",
   "execution_count": 72,
   "id": "d64e8d28-bc30-4e68-8011-fb70e75f873b",
   "metadata": {},
   "outputs": [
    {
     "data": {
      "text/plain": [
       "True"
      ]
     },
     "execution_count": 72,
     "metadata": {},
     "output_type": "execute_result"
    }
   ],
   "source": [
    "territorios.superficie is territorios['superficie']"
   ]
  },
  {
   "cell_type": "code",
   "execution_count": 73,
   "id": "9eda8b0d-4894-48b6-b9f8-41a446eb199f",
   "metadata": {},
   "outputs": [
    {
     "data": {
      "text/plain": [
       "True"
      ]
     },
     "execution_count": 73,
     "metadata": {},
     "output_type": "execute_result"
    }
   ],
   "source": [
    "territorios.población is territorios['población']"
   ]
  },
  {
   "cell_type": "code",
   "execution_count": 74,
   "id": "bf1b8e2f-06a2-45e2-86c4-aeef9aa9f5ae",
   "metadata": {},
   "outputs": [],
   "source": [
    "territorios['densidad'] = territorios['población'] / territorios['superficie']"
   ]
  },
  {
   "cell_type": "code",
   "execution_count": 75,
   "id": "379c2b98-4723-4ef2-adfc-0f5ae9b71216",
   "metadata": {},
   "outputs": [
    {
     "data": {
      "text/html": [
       "<div>\n",
       "<style scoped>\n",
       "    .dataframe tbody tr th:only-of-type {\n",
       "        vertical-align: middle;\n",
       "    }\n",
       "\n",
       "    .dataframe tbody tr th {\n",
       "        vertical-align: top;\n",
       "    }\n",
       "\n",
       "    .dataframe thead th {\n",
       "        text-align: right;\n",
       "    }\n",
       "</style>\n",
       "<table border=\"1\" class=\"dataframe\">\n",
       "  <thead>\n",
       "    <tr style=\"text-align: right;\">\n",
       "      <th></th>\n",
       "      <th>población</th>\n",
       "      <th>superficie</th>\n",
       "      <th>densidad</th>\n",
       "    </tr>\n",
       "  </thead>\n",
       "  <tbody>\n",
       "    <tr>\n",
       "      <th>Chiapas</th>\n",
       "      <td>5544000</td>\n",
       "      <td>73311</td>\n",
       "      <td>75.623031</td>\n",
       "    </tr>\n",
       "    <tr>\n",
       "      <th>Chihuahua</th>\n",
       "      <td>3742000</td>\n",
       "      <td>247455</td>\n",
       "      <td>15.121941</td>\n",
       "    </tr>\n",
       "    <tr>\n",
       "      <th>La Habana</th>\n",
       "      <td>3265832</td>\n",
       "      <td>728</td>\n",
       "      <td>4486.032967</td>\n",
       "    </tr>\n",
       "    <tr>\n",
       "      <th>Santiago de Cuba</th>\n",
       "      <td>2286360</td>\n",
       "      <td>6243</td>\n",
       "      <td>366.227775</td>\n",
       "    </tr>\n",
       "    <tr>\n",
       "      <th>Sonora</th>\n",
       "      <td>2945000</td>\n",
       "      <td>179355</td>\n",
       "      <td>16.419949</td>\n",
       "    </tr>\n",
       "  </tbody>\n",
       "</table>\n",
       "</div>"
      ],
      "text/plain": [
       "                  población  superficie     densidad\n",
       "Chiapas             5544000       73311    75.623031\n",
       "Chihuahua           3742000      247455    15.121941\n",
       "La Habana           3265832         728  4486.032967\n",
       "Santiago de Cuba    2286360        6243   366.227775\n",
       "Sonora              2945000      179355    16.419949"
      ]
     },
     "execution_count": 75,
     "metadata": {},
     "output_type": "execute_result"
    }
   ],
   "source": [
    "territorios"
   ]
  },
  {
   "cell_type": "code",
   "execution_count": 76,
   "id": "8b3feff5-f2f6-49c5-a162-5ac4d84630ad",
   "metadata": {},
   "outputs": [
    {
     "data": {
      "text/plain": [
       "array([[5.54400000e+06, 7.33110000e+04, 7.56230307e+01],\n",
       "       [3.74200000e+06, 2.47455000e+05, 1.51219414e+01],\n",
       "       [3.26583200e+06, 7.28000000e+02, 4.48603297e+03],\n",
       "       [2.28636000e+06, 6.24300000e+03, 3.66227775e+02],\n",
       "       [2.94500000e+06, 1.79355000e+05, 1.64199493e+01]])"
      ]
     },
     "execution_count": 76,
     "metadata": {},
     "output_type": "execute_result"
    }
   ],
   "source": [
    "territorios.values"
   ]
  },
  {
   "cell_type": "code",
   "execution_count": 77,
   "id": "f250e003-8c56-4574-9d40-2c7acd5372b3",
   "metadata": {},
   "outputs": [
    {
     "data": {
      "text/html": [
       "<div>\n",
       "<style scoped>\n",
       "    .dataframe tbody tr th:only-of-type {\n",
       "        vertical-align: middle;\n",
       "    }\n",
       "\n",
       "    .dataframe tbody tr th {\n",
       "        vertical-align: top;\n",
       "    }\n",
       "\n",
       "    .dataframe thead th {\n",
       "        text-align: right;\n",
       "    }\n",
       "</style>\n",
       "<table border=\"1\" class=\"dataframe\">\n",
       "  <thead>\n",
       "    <tr style=\"text-align: right;\">\n",
       "      <th></th>\n",
       "      <th>Chiapas</th>\n",
       "      <th>Chihuahua</th>\n",
       "      <th>La Habana</th>\n",
       "      <th>Santiago de Cuba</th>\n",
       "      <th>Sonora</th>\n",
       "    </tr>\n",
       "  </thead>\n",
       "  <tbody>\n",
       "    <tr>\n",
       "      <th>población</th>\n",
       "      <td>5.544000e+06</td>\n",
       "      <td>3.742000e+06</td>\n",
       "      <td>3.265832e+06</td>\n",
       "      <td>2.286360e+06</td>\n",
       "      <td>2.945000e+06</td>\n",
       "    </tr>\n",
       "    <tr>\n",
       "      <th>superficie</th>\n",
       "      <td>7.331100e+04</td>\n",
       "      <td>2.474550e+05</td>\n",
       "      <td>7.280000e+02</td>\n",
       "      <td>6.243000e+03</td>\n",
       "      <td>1.793550e+05</td>\n",
       "    </tr>\n",
       "    <tr>\n",
       "      <th>densidad</th>\n",
       "      <td>7.562303e+01</td>\n",
       "      <td>1.512194e+01</td>\n",
       "      <td>4.486033e+03</td>\n",
       "      <td>3.662278e+02</td>\n",
       "      <td>1.641995e+01</td>\n",
       "    </tr>\n",
       "  </tbody>\n",
       "</table>\n",
       "</div>"
      ],
      "text/plain": [
       "                 Chiapas     Chihuahua     La Habana  Santiago de Cuba  \\\n",
       "población   5.544000e+06  3.742000e+06  3.265832e+06      2.286360e+06   \n",
       "superficie  7.331100e+04  2.474550e+05  7.280000e+02      6.243000e+03   \n",
       "densidad    7.562303e+01  1.512194e+01  4.486033e+03      3.662278e+02   \n",
       "\n",
       "                  Sonora  \n",
       "población   2.945000e+06  \n",
       "superficie  1.793550e+05  \n",
       "densidad    1.641995e+01  "
      ]
     },
     "execution_count": 77,
     "metadata": {},
     "output_type": "execute_result"
    }
   ],
   "source": [
    "territorios.T"
   ]
  },
  {
   "cell_type": "code",
   "execution_count": 78,
   "id": "44c8d3fc-44df-4c7d-9af7-be3bfa1c5808",
   "metadata": {},
   "outputs": [
    {
     "data": {
      "text/plain": [
       "array([5.54400000e+06, 7.33110000e+04, 7.56230307e+01])"
      ]
     },
     "execution_count": 78,
     "metadata": {},
     "output_type": "execute_result"
    }
   ],
   "source": [
    "territorios.values[0]"
   ]
  },
  {
   "cell_type": "code",
   "execution_count": 79,
   "id": "04e15c50-b76b-4540-b69b-d784f43d8dbd",
   "metadata": {},
   "outputs": [
    {
     "data": {
      "text/html": [
       "<div>\n",
       "<style scoped>\n",
       "    .dataframe tbody tr th:only-of-type {\n",
       "        vertical-align: middle;\n",
       "    }\n",
       "\n",
       "    .dataframe tbody tr th {\n",
       "        vertical-align: top;\n",
       "    }\n",
       "\n",
       "    .dataframe thead th {\n",
       "        text-align: right;\n",
       "    }\n",
       "</style>\n",
       "<table border=\"1\" class=\"dataframe\">\n",
       "  <thead>\n",
       "    <tr style=\"text-align: right;\">\n",
       "      <th></th>\n",
       "      <th>población</th>\n",
       "      <th>superficie</th>\n",
       "      <th>densidad</th>\n",
       "    </tr>\n",
       "  </thead>\n",
       "  <tbody>\n",
       "    <tr>\n",
       "      <th>Chiapas</th>\n",
       "      <td>5544000</td>\n",
       "      <td>73311</td>\n",
       "      <td>75.623031</td>\n",
       "    </tr>\n",
       "    <tr>\n",
       "      <th>Chihuahua</th>\n",
       "      <td>3742000</td>\n",
       "      <td>247455</td>\n",
       "      <td>15.121941</td>\n",
       "    </tr>\n",
       "    <tr>\n",
       "      <th>La Habana</th>\n",
       "      <td>3265832</td>\n",
       "      <td>728</td>\n",
       "      <td>4486.032967</td>\n",
       "    </tr>\n",
       "    <tr>\n",
       "      <th>Santiago de Cuba</th>\n",
       "      <td>2286360</td>\n",
       "      <td>6243</td>\n",
       "      <td>366.227775</td>\n",
       "    </tr>\n",
       "    <tr>\n",
       "      <th>Sonora</th>\n",
       "      <td>2945000</td>\n",
       "      <td>179355</td>\n",
       "      <td>16.419949</td>\n",
       "    </tr>\n",
       "  </tbody>\n",
       "</table>\n",
       "</div>"
      ],
      "text/plain": [
       "                  población  superficie     densidad\n",
       "Chiapas             5544000       73311    75.623031\n",
       "Chihuahua           3742000      247455    15.121941\n",
       "La Habana           3265832         728  4486.032967\n",
       "Santiago de Cuba    2286360        6243   366.227775\n",
       "Sonora              2945000      179355    16.419949"
      ]
     },
     "execution_count": 79,
     "metadata": {},
     "output_type": "execute_result"
    }
   ],
   "source": [
    "territorios"
   ]
  },
  {
   "cell_type": "code",
   "execution_count": 80,
   "id": "81f6748e-8377-4bb0-8ff2-f7785dd9d21b",
   "metadata": {},
   "outputs": [
    {
     "data": {
      "text/html": [
       "<div>\n",
       "<style scoped>\n",
       "    .dataframe tbody tr th:only-of-type {\n",
       "        vertical-align: middle;\n",
       "    }\n",
       "\n",
       "    .dataframe tbody tr th {\n",
       "        vertical-align: top;\n",
       "    }\n",
       "\n",
       "    .dataframe thead th {\n",
       "        text-align: right;\n",
       "    }\n",
       "</style>\n",
       "<table border=\"1\" class=\"dataframe\">\n",
       "  <thead>\n",
       "    <tr style=\"text-align: right;\">\n",
       "      <th></th>\n",
       "      <th>población</th>\n",
       "      <th>superficie</th>\n",
       "    </tr>\n",
       "  </thead>\n",
       "  <tbody>\n",
       "    <tr>\n",
       "      <th>Chiapas</th>\n",
       "      <td>5544000</td>\n",
       "      <td>73311</td>\n",
       "    </tr>\n",
       "    <tr>\n",
       "      <th>Chihuahua</th>\n",
       "      <td>3742000</td>\n",
       "      <td>247455</td>\n",
       "    </tr>\n",
       "    <tr>\n",
       "      <th>La Habana</th>\n",
       "      <td>3265832</td>\n",
       "      <td>728</td>\n",
       "    </tr>\n",
       "  </tbody>\n",
       "</table>\n",
       "</div>"
      ],
      "text/plain": [
       "           población  superficie\n",
       "Chiapas      5544000       73311\n",
       "Chihuahua    3742000      247455\n",
       "La Habana    3265832         728"
      ]
     },
     "execution_count": 80,
     "metadata": {},
     "output_type": "execute_result"
    }
   ],
   "source": [
    "territorios.iloc[:3,:2]"
   ]
  },
  {
   "cell_type": "code",
   "execution_count": 81,
   "id": "412f814a-8344-4872-8e56-eafc58b29a65",
   "metadata": {},
   "outputs": [
    {
     "data": {
      "text/html": [
       "<div>\n",
       "<style scoped>\n",
       "    .dataframe tbody tr th:only-of-type {\n",
       "        vertical-align: middle;\n",
       "    }\n",
       "\n",
       "    .dataframe tbody tr th {\n",
       "        vertical-align: top;\n",
       "    }\n",
       "\n",
       "    .dataframe thead th {\n",
       "        text-align: right;\n",
       "    }\n",
       "</style>\n",
       "<table border=\"1\" class=\"dataframe\">\n",
       "  <thead>\n",
       "    <tr style=\"text-align: right;\">\n",
       "      <th></th>\n",
       "      <th>población</th>\n",
       "      <th>superficie</th>\n",
       "      <th>densidad</th>\n",
       "    </tr>\n",
       "  </thead>\n",
       "  <tbody>\n",
       "    <tr>\n",
       "      <th>Chiapas</th>\n",
       "      <td>5544000</td>\n",
       "      <td>73311</td>\n",
       "      <td>75.623031</td>\n",
       "    </tr>\n",
       "    <tr>\n",
       "      <th>Chihuahua</th>\n",
       "      <td>3742000</td>\n",
       "      <td>247455</td>\n",
       "      <td>15.121941</td>\n",
       "    </tr>\n",
       "    <tr>\n",
       "      <th>La Habana</th>\n",
       "      <td>3265832</td>\n",
       "      <td>728</td>\n",
       "      <td>4486.032967</td>\n",
       "    </tr>\n",
       "    <tr>\n",
       "      <th>Santiago de Cuba</th>\n",
       "      <td>2286360</td>\n",
       "      <td>6243</td>\n",
       "      <td>366.227775</td>\n",
       "    </tr>\n",
       "    <tr>\n",
       "      <th>Sonora</th>\n",
       "      <td>2945000</td>\n",
       "      <td>179355</td>\n",
       "      <td>16.419949</td>\n",
       "    </tr>\n",
       "  </tbody>\n",
       "</table>\n",
       "</div>"
      ],
      "text/plain": [
       "                  población  superficie     densidad\n",
       "Chiapas             5544000       73311    75.623031\n",
       "Chihuahua           3742000      247455    15.121941\n",
       "La Habana           3265832         728  4486.032967\n",
       "Santiago de Cuba    2286360        6243   366.227775\n",
       "Sonora              2945000      179355    16.419949"
      ]
     },
     "execution_count": 81,
     "metadata": {},
     "output_type": "execute_result"
    }
   ],
   "source": [
    "territorios"
   ]
  },
  {
   "cell_type": "code",
   "execution_count": 82,
   "id": "8731580e-af55-48ec-a525-7d95475e7623",
   "metadata": {},
   "outputs": [
    {
     "data": {
      "text/html": [
       "<div>\n",
       "<style scoped>\n",
       "    .dataframe tbody tr th:only-of-type {\n",
       "        vertical-align: middle;\n",
       "    }\n",
       "\n",
       "    .dataframe tbody tr th {\n",
       "        vertical-align: top;\n",
       "    }\n",
       "\n",
       "    .dataframe thead th {\n",
       "        text-align: right;\n",
       "    }\n",
       "</style>\n",
       "<table border=\"1\" class=\"dataframe\">\n",
       "  <thead>\n",
       "    <tr style=\"text-align: right;\">\n",
       "      <th></th>\n",
       "      <th>población</th>\n",
       "      <th>superficie</th>\n",
       "    </tr>\n",
       "  </thead>\n",
       "  <tbody>\n",
       "    <tr>\n",
       "      <th>Chiapas</th>\n",
       "      <td>5544000</td>\n",
       "      <td>73311</td>\n",
       "    </tr>\n",
       "    <tr>\n",
       "      <th>Chihuahua</th>\n",
       "      <td>3742000</td>\n",
       "      <td>247455</td>\n",
       "    </tr>\n",
       "    <tr>\n",
       "      <th>La Habana</th>\n",
       "      <td>3265832</td>\n",
       "      <td>728</td>\n",
       "    </tr>\n",
       "    <tr>\n",
       "      <th>Santiago de Cuba</th>\n",
       "      <td>2286360</td>\n",
       "      <td>6243</td>\n",
       "    </tr>\n",
       "  </tbody>\n",
       "</table>\n",
       "</div>"
      ],
      "text/plain": [
       "                  población  superficie\n",
       "Chiapas             5544000       73311\n",
       "Chihuahua           3742000      247455\n",
       "La Habana           3265832         728\n",
       "Santiago de Cuba    2286360        6243"
      ]
     },
     "execution_count": 82,
     "metadata": {},
     "output_type": "execute_result"
    }
   ],
   "source": [
    "territorios.loc[:'Santiago de Cuba', :'superficie']"
   ]
  },
  {
   "cell_type": "code",
   "execution_count": 83,
   "id": "09629dea-644c-4cfd-8d8f-f160bb77f24e",
   "metadata": {},
   "outputs": [
    {
     "data": {
      "text/html": [
       "<div>\n",
       "<style scoped>\n",
       "    .dataframe tbody tr th:only-of-type {\n",
       "        vertical-align: middle;\n",
       "    }\n",
       "\n",
       "    .dataframe tbody tr th {\n",
       "        vertical-align: top;\n",
       "    }\n",
       "\n",
       "    .dataframe thead th {\n",
       "        text-align: right;\n",
       "    }\n",
       "</style>\n",
       "<table border=\"1\" class=\"dataframe\">\n",
       "  <thead>\n",
       "    <tr style=\"text-align: right;\">\n",
       "      <th></th>\n",
       "      <th>población</th>\n",
       "      <th>superficie</th>\n",
       "      <th>densidad</th>\n",
       "    </tr>\n",
       "  </thead>\n",
       "  <tbody>\n",
       "    <tr>\n",
       "      <th>Chiapas</th>\n",
       "      <td>5544000</td>\n",
       "      <td>73311</td>\n",
       "      <td>75.623031</td>\n",
       "    </tr>\n",
       "    <tr>\n",
       "      <th>Chihuahua</th>\n",
       "      <td>3742000</td>\n",
       "      <td>247455</td>\n",
       "      <td>15.121941</td>\n",
       "    </tr>\n",
       "    <tr>\n",
       "      <th>La Habana</th>\n",
       "      <td>3265832</td>\n",
       "      <td>728</td>\n",
       "      <td>4486.032967</td>\n",
       "    </tr>\n",
       "    <tr>\n",
       "      <th>Santiago de Cuba</th>\n",
       "      <td>2286360</td>\n",
       "      <td>6243</td>\n",
       "      <td>366.227775</td>\n",
       "    </tr>\n",
       "    <tr>\n",
       "      <th>Sonora</th>\n",
       "      <td>2945000</td>\n",
       "      <td>179355</td>\n",
       "      <td>16.419949</td>\n",
       "    </tr>\n",
       "  </tbody>\n",
       "</table>\n",
       "</div>"
      ],
      "text/plain": [
       "                  población  superficie     densidad\n",
       "Chiapas             5544000       73311    75.623031\n",
       "Chihuahua           3742000      247455    15.121941\n",
       "La Habana           3265832         728  4486.032967\n",
       "Santiago de Cuba    2286360        6243   366.227775\n",
       "Sonora              2945000      179355    16.419949"
      ]
     },
     "execution_count": 83,
     "metadata": {},
     "output_type": "execute_result"
    }
   ],
   "source": [
    "territorios"
   ]
  },
  {
   "cell_type": "code",
   "execution_count": 84,
   "id": "146b85b6-34be-479d-b707-adfb5819dae0",
   "metadata": {},
   "outputs": [
    {
     "data": {
      "text/html": [
       "<div>\n",
       "<style scoped>\n",
       "    .dataframe tbody tr th:only-of-type {\n",
       "        vertical-align: middle;\n",
       "    }\n",
       "\n",
       "    .dataframe tbody tr th {\n",
       "        vertical-align: top;\n",
       "    }\n",
       "\n",
       "    .dataframe thead th {\n",
       "        text-align: right;\n",
       "    }\n",
       "</style>\n",
       "<table border=\"1\" class=\"dataframe\">\n",
       "  <thead>\n",
       "    <tr style=\"text-align: right;\">\n",
       "      <th></th>\n",
       "      <th>población</th>\n",
       "      <th>densidad</th>\n",
       "    </tr>\n",
       "  </thead>\n",
       "  <tbody>\n",
       "    <tr>\n",
       "      <th>La Habana</th>\n",
       "      <td>3265832</td>\n",
       "      <td>4486.032967</td>\n",
       "    </tr>\n",
       "    <tr>\n",
       "      <th>Santiago de Cuba</th>\n",
       "      <td>2286360</td>\n",
       "      <td>366.227775</td>\n",
       "    </tr>\n",
       "  </tbody>\n",
       "</table>\n",
       "</div>"
      ],
      "text/plain": [
       "                  población     densidad\n",
       "La Habana           3265832  4486.032967\n",
       "Santiago de Cuba    2286360   366.227775"
      ]
     },
     "execution_count": 84,
     "metadata": {},
     "output_type": "execute_result"
    }
   ],
   "source": [
    "territorios.loc[territorios.densidad > 100, ['población', 'densidad']]"
   ]
  },
  {
   "cell_type": "code",
   "execution_count": 85,
   "id": "6ba6942b-1cc2-4bee-a0a4-320b328bbd60",
   "metadata": {},
   "outputs": [
    {
     "data": {
      "text/html": [
       "<div>\n",
       "<style scoped>\n",
       "    .dataframe tbody tr th:only-of-type {\n",
       "        vertical-align: middle;\n",
       "    }\n",
       "\n",
       "    .dataframe tbody tr th {\n",
       "        vertical-align: top;\n",
       "    }\n",
       "\n",
       "    .dataframe thead th {\n",
       "        text-align: right;\n",
       "    }\n",
       "</style>\n",
       "<table border=\"1\" class=\"dataframe\">\n",
       "  <thead>\n",
       "    <tr style=\"text-align: right;\">\n",
       "      <th></th>\n",
       "      <th>población</th>\n",
       "      <th>superficie</th>\n",
       "      <th>densidad</th>\n",
       "    </tr>\n",
       "  </thead>\n",
       "  <tbody>\n",
       "    <tr>\n",
       "      <th>Chiapas</th>\n",
       "      <td>5544000</td>\n",
       "      <td>73311</td>\n",
       "      <td>75.623031</td>\n",
       "    </tr>\n",
       "    <tr>\n",
       "      <th>Chihuahua</th>\n",
       "      <td>3742000</td>\n",
       "      <td>247455</td>\n",
       "      <td>15.121941</td>\n",
       "    </tr>\n",
       "    <tr>\n",
       "      <th>La Habana</th>\n",
       "      <td>3265832</td>\n",
       "      <td>728</td>\n",
       "      <td>4486.032967</td>\n",
       "    </tr>\n",
       "    <tr>\n",
       "      <th>Santiago de Cuba</th>\n",
       "      <td>2286360</td>\n",
       "      <td>6243</td>\n",
       "      <td>366.227775</td>\n",
       "    </tr>\n",
       "    <tr>\n",
       "      <th>Sonora</th>\n",
       "      <td>2945000</td>\n",
       "      <td>179355</td>\n",
       "      <td>16.419949</td>\n",
       "    </tr>\n",
       "  </tbody>\n",
       "</table>\n",
       "</div>"
      ],
      "text/plain": [
       "                  población  superficie     densidad\n",
       "Chiapas             5544000       73311    75.623031\n",
       "Chihuahua           3742000      247455    15.121941\n",
       "La Habana           3265832         728  4486.032967\n",
       "Santiago de Cuba    2286360        6243   366.227775\n",
       "Sonora              2945000      179355    16.419949"
      ]
     },
     "execution_count": 85,
     "metadata": {},
     "output_type": "execute_result"
    }
   ],
   "source": [
    "territorios"
   ]
  },
  {
   "cell_type": "code",
   "execution_count": 86,
   "id": "392c94aa-8ac2-4cff-84b1-2773bc83b285",
   "metadata": {},
   "outputs": [
    {
     "data": {
      "text/plain": [
       "np.float64(75.62303065024348)"
      ]
     },
     "execution_count": 86,
     "metadata": {},
     "output_type": "execute_result"
    }
   ],
   "source": [
    "territorios.iloc[0, 2]"
   ]
  },
  {
   "cell_type": "code",
   "execution_count": 87,
   "id": "a10093f3-508d-4103-b3b2-8a449e57f6e7",
   "metadata": {},
   "outputs": [],
   "source": [
    "territorios.iloc[0, 2] = 76"
   ]
  },
  {
   "cell_type": "code",
   "execution_count": 88,
   "id": "3fa9e6e5-3381-4615-ac99-2be52c5250f8",
   "metadata": {},
   "outputs": [
    {
     "data": {
      "text/html": [
       "<div>\n",
       "<style scoped>\n",
       "    .dataframe tbody tr th:only-of-type {\n",
       "        vertical-align: middle;\n",
       "    }\n",
       "\n",
       "    .dataframe tbody tr th {\n",
       "        vertical-align: top;\n",
       "    }\n",
       "\n",
       "    .dataframe thead th {\n",
       "        text-align: right;\n",
       "    }\n",
       "</style>\n",
       "<table border=\"1\" class=\"dataframe\">\n",
       "  <thead>\n",
       "    <tr style=\"text-align: right;\">\n",
       "      <th></th>\n",
       "      <th>población</th>\n",
       "      <th>superficie</th>\n",
       "      <th>densidad</th>\n",
       "    </tr>\n",
       "  </thead>\n",
       "  <tbody>\n",
       "    <tr>\n",
       "      <th>Chiapas</th>\n",
       "      <td>5544000</td>\n",
       "      <td>73311</td>\n",
       "      <td>76.000000</td>\n",
       "    </tr>\n",
       "    <tr>\n",
       "      <th>Chihuahua</th>\n",
       "      <td>3742000</td>\n",
       "      <td>247455</td>\n",
       "      <td>15.121941</td>\n",
       "    </tr>\n",
       "    <tr>\n",
       "      <th>La Habana</th>\n",
       "      <td>3265832</td>\n",
       "      <td>728</td>\n",
       "      <td>4486.032967</td>\n",
       "    </tr>\n",
       "    <tr>\n",
       "      <th>Santiago de Cuba</th>\n",
       "      <td>2286360</td>\n",
       "      <td>6243</td>\n",
       "      <td>366.227775</td>\n",
       "    </tr>\n",
       "    <tr>\n",
       "      <th>Sonora</th>\n",
       "      <td>2945000</td>\n",
       "      <td>179355</td>\n",
       "      <td>16.419949</td>\n",
       "    </tr>\n",
       "  </tbody>\n",
       "</table>\n",
       "</div>"
      ],
      "text/plain": [
       "                  población  superficie     densidad\n",
       "Chiapas             5544000       73311    76.000000\n",
       "Chihuahua           3742000      247455    15.121941\n",
       "La Habana           3265832         728  4486.032967\n",
       "Santiago de Cuba    2286360        6243   366.227775\n",
       "Sonora              2945000      179355    16.419949"
      ]
     },
     "execution_count": 88,
     "metadata": {},
     "output_type": "execute_result"
    }
   ],
   "source": [
    "territorios"
   ]
  },
  {
   "cell_type": "code",
   "execution_count": 89,
   "id": "a8eb0ef7-d839-4243-aabb-dda0595cb179",
   "metadata": {},
   "outputs": [
    {
     "data": {
      "text/html": [
       "<div>\n",
       "<style scoped>\n",
       "    .dataframe tbody tr th:only-of-type {\n",
       "        vertical-align: middle;\n",
       "    }\n",
       "\n",
       "    .dataframe tbody tr th {\n",
       "        vertical-align: top;\n",
       "    }\n",
       "\n",
       "    .dataframe thead th {\n",
       "        text-align: right;\n",
       "    }\n",
       "</style>\n",
       "<table border=\"1\" class=\"dataframe\">\n",
       "  <thead>\n",
       "    <tr style=\"text-align: right;\">\n",
       "      <th></th>\n",
       "      <th>población</th>\n",
       "      <th>superficie</th>\n",
       "      <th>densidad</th>\n",
       "    </tr>\n",
       "  </thead>\n",
       "  <tbody>\n",
       "    <tr>\n",
       "      <th>La Habana</th>\n",
       "      <td>3265832</td>\n",
       "      <td>728</td>\n",
       "      <td>4486.032967</td>\n",
       "    </tr>\n",
       "    <tr>\n",
       "      <th>Santiago de Cuba</th>\n",
       "      <td>2286360</td>\n",
       "      <td>6243</td>\n",
       "      <td>366.227775</td>\n",
       "    </tr>\n",
       "  </tbody>\n",
       "</table>\n",
       "</div>"
      ],
      "text/plain": [
       "                  población  superficie     densidad\n",
       "La Habana           3265832         728  4486.032967\n",
       "Santiago de Cuba    2286360        6243   366.227775"
      ]
     },
     "execution_count": 89,
     "metadata": {},
     "output_type": "execute_result"
    }
   ],
   "source": [
    "territorios[territorios.densidad > 80]"
   ]
  },
  {
   "cell_type": "code",
   "execution_count": 90,
   "id": "19cbdfcb-4ddb-4f86-b883-8b4c92b9ff41",
   "metadata": {},
   "outputs": [
    {
     "data": {
      "text/plain": [
       "Chiapas             False\n",
       "Chihuahua           False\n",
       "La Habana            True\n",
       "Santiago de Cuba     True\n",
       "Sonora              False\n",
       "Name: densidad, dtype: bool"
      ]
     },
     "execution_count": 90,
     "metadata": {},
     "output_type": "execute_result"
    }
   ],
   "source": [
    "territorios.densidad > 100"
   ]
  },
  {
   "cell_type": "code",
   "execution_count": 91,
   "id": "8f19bc8c-1b90-4ee2-83b0-81bf8c3bb7b2",
   "metadata": {},
   "outputs": [
    {
     "data": {
      "text/html": [
       "<div>\n",
       "<style scoped>\n",
       "    .dataframe tbody tr th:only-of-type {\n",
       "        vertical-align: middle;\n",
       "    }\n",
       "\n",
       "    .dataframe tbody tr th {\n",
       "        vertical-align: top;\n",
       "    }\n",
       "\n",
       "    .dataframe thead th {\n",
       "        text-align: right;\n",
       "    }\n",
       "</style>\n",
       "<table border=\"1\" class=\"dataframe\">\n",
       "  <thead>\n",
       "    <tr style=\"text-align: right;\">\n",
       "      <th></th>\n",
       "      <th>población</th>\n",
       "      <th>superficie</th>\n",
       "      <th>densidad</th>\n",
       "    </tr>\n",
       "  </thead>\n",
       "  <tbody>\n",
       "    <tr>\n",
       "      <th>Chiapas</th>\n",
       "      <td>5544000</td>\n",
       "      <td>73311</td>\n",
       "      <td>76.000000</td>\n",
       "    </tr>\n",
       "    <tr>\n",
       "      <th>La Habana</th>\n",
       "      <td>3265832</td>\n",
       "      <td>728</td>\n",
       "      <td>4486.032967</td>\n",
       "    </tr>\n",
       "    <tr>\n",
       "      <th>Santiago de Cuba</th>\n",
       "      <td>2286360</td>\n",
       "      <td>6243</td>\n",
       "      <td>366.227775</td>\n",
       "    </tr>\n",
       "  </tbody>\n",
       "</table>\n",
       "</div>"
      ],
      "text/plain": [
       "                  población  superficie     densidad\n",
       "Chiapas             5544000       73311    76.000000\n",
       "La Habana           3265832         728  4486.032967\n",
       "Santiago de Cuba    2286360        6243   366.227775"
      ]
     },
     "execution_count": 91,
     "metadata": {},
     "output_type": "execute_result"
    }
   ],
   "source": [
    "territorios[territorios['superficie'] < 100000]"
   ]
  },
  {
   "cell_type": "markdown",
   "id": "218afb52-eaa2-434c-9eed-117dc4c43882",
   "metadata": {},
   "source": [
    "## Operando sobre datos"
   ]
  },
  {
   "cell_type": "code",
   "execution_count": 92,
   "id": "032a7d6c-17c5-4734-8f5b-cb2f4b894601",
   "metadata": {},
   "outputs": [
    {
     "data": {
      "text/plain": [
       "0    6\n",
       "1    3\n",
       "2    7\n",
       "3    4\n",
       "dtype: int64"
      ]
     },
     "execution_count": 92,
     "metadata": {},
     "output_type": "execute_result"
    }
   ],
   "source": [
    "ran = np.random.RandomState(42)\n",
    "ser = pd.Series(ran.randint(0, 10, 4))\n",
    "ser"
   ]
  },
  {
   "cell_type": "code",
   "execution_count": 93,
   "id": "9498736b-9456-4ad7-9f5c-86fa79bf04f8",
   "metadata": {},
   "outputs": [
    {
     "data": {
      "text/html": [
       "<div>\n",
       "<style scoped>\n",
       "    .dataframe tbody tr th:only-of-type {\n",
       "        vertical-align: middle;\n",
       "    }\n",
       "\n",
       "    .dataframe tbody tr th {\n",
       "        vertical-align: top;\n",
       "    }\n",
       "\n",
       "    .dataframe thead th {\n",
       "        text-align: right;\n",
       "    }\n",
       "</style>\n",
       "<table border=\"1\" class=\"dataframe\">\n",
       "  <thead>\n",
       "    <tr style=\"text-align: right;\">\n",
       "      <th></th>\n",
       "      <th>A</th>\n",
       "      <th>B</th>\n",
       "      <th>C</th>\n",
       "      <th>D</th>\n",
       "    </tr>\n",
       "  </thead>\n",
       "  <tbody>\n",
       "    <tr>\n",
       "      <th>0</th>\n",
       "      <td>6</td>\n",
       "      <td>9</td>\n",
       "      <td>2</td>\n",
       "      <td>6</td>\n",
       "    </tr>\n",
       "    <tr>\n",
       "      <th>1</th>\n",
       "      <td>7</td>\n",
       "      <td>4</td>\n",
       "      <td>3</td>\n",
       "      <td>7</td>\n",
       "    </tr>\n",
       "    <tr>\n",
       "      <th>2</th>\n",
       "      <td>7</td>\n",
       "      <td>2</td>\n",
       "      <td>5</td>\n",
       "      <td>4</td>\n",
       "    </tr>\n",
       "  </tbody>\n",
       "</table>\n",
       "</div>"
      ],
      "text/plain": [
       "   A  B  C  D\n",
       "0  6  9  2  6\n",
       "1  7  4  3  7\n",
       "2  7  2  5  4"
      ]
     },
     "execution_count": 93,
     "metadata": {},
     "output_type": "execute_result"
    }
   ],
   "source": [
    "df = pd.DataFrame(ran.randint(0, 10, (3,4)),\n",
    "                  columns=['A', 'B', 'C', 'D'])\n",
    "df"
   ]
  },
  {
   "cell_type": "code",
   "execution_count": 94,
   "id": "cb157782-250e-4654-acf2-9ff9a44fe792",
   "metadata": {},
   "outputs": [
    {
     "data": {
      "text/plain": [
       "0     403.428793\n",
       "1      20.085537\n",
       "2    1096.633158\n",
       "3      54.598150\n",
       "dtype: float64"
      ]
     },
     "execution_count": 94,
     "metadata": {},
     "output_type": "execute_result"
    }
   ],
   "source": [
    "np.exp(ser)"
   ]
  },
  {
   "cell_type": "code",
   "execution_count": 95,
   "id": "259b9993-12bb-4849-a64a-3eab4c76ac35",
   "metadata": {},
   "outputs": [
    {
     "data": {
      "text/html": [
       "<div>\n",
       "<style scoped>\n",
       "    .dataframe tbody tr th:only-of-type {\n",
       "        vertical-align: middle;\n",
       "    }\n",
       "\n",
       "    .dataframe tbody tr th {\n",
       "        vertical-align: top;\n",
       "    }\n",
       "\n",
       "    .dataframe thead th {\n",
       "        text-align: right;\n",
       "    }\n",
       "</style>\n",
       "<table border=\"1\" class=\"dataframe\">\n",
       "  <thead>\n",
       "    <tr style=\"text-align: right;\">\n",
       "      <th></th>\n",
       "      <th>A</th>\n",
       "      <th>B</th>\n",
       "      <th>C</th>\n",
       "      <th>D</th>\n",
       "    </tr>\n",
       "  </thead>\n",
       "  <tbody>\n",
       "    <tr>\n",
       "      <th>0</th>\n",
       "      <td>-1.000000</td>\n",
       "      <td>7.071068e-01</td>\n",
       "      <td>1.000000</td>\n",
       "      <td>-1.000000e+00</td>\n",
       "    </tr>\n",
       "    <tr>\n",
       "      <th>1</th>\n",
       "      <td>-0.707107</td>\n",
       "      <td>1.224647e-16</td>\n",
       "      <td>0.707107</td>\n",
       "      <td>-7.071068e-01</td>\n",
       "    </tr>\n",
       "    <tr>\n",
       "      <th>2</th>\n",
       "      <td>-0.707107</td>\n",
       "      <td>1.000000e+00</td>\n",
       "      <td>-0.707107</td>\n",
       "      <td>1.224647e-16</td>\n",
       "    </tr>\n",
       "  </tbody>\n",
       "</table>\n",
       "</div>"
      ],
      "text/plain": [
       "          A             B         C             D\n",
       "0 -1.000000  7.071068e-01  1.000000 -1.000000e+00\n",
       "1 -0.707107  1.224647e-16  0.707107 -7.071068e-01\n",
       "2 -0.707107  1.000000e+00 -0.707107  1.224647e-16"
      ]
     },
     "execution_count": 95,
     "metadata": {},
     "output_type": "execute_result"
    }
   ],
   "source": [
    "np.sin(df * np.pi / 4)"
   ]
  },
  {
   "cell_type": "code",
   "execution_count": 96,
   "id": "a7f1aeb1-59fb-4ef8-9d63-c72e96e55612",
   "metadata": {},
   "outputs": [],
   "source": [
    "superficie = pd.Series({\n",
    "    'Alaska': 1723337, \n",
    "    'Texas': 695662,\n",
    "    'California': 423967\n",
    "}, name='superficie')\n",
    "\n",
    "población = pd.Series({\n",
    "    'California': 38332521, \n",
    "    'Texas': 26448193,\n",
    "    'New York': 19651127\n",
    "}, name='población')"
   ]
  },
  {
   "cell_type": "code",
   "execution_count": 97,
   "id": "764f8579-8658-4f7f-8fbb-123a683fbb70",
   "metadata": {},
   "outputs": [
    {
     "data": {
      "text/plain": [
       "Alaska              NaN\n",
       "California    90.413926\n",
       "New York            NaN\n",
       "Texas         38.018740\n",
       "dtype: float64"
      ]
     },
     "execution_count": 97,
     "metadata": {},
     "output_type": "execute_result"
    }
   ],
   "source": [
    "población / superficie"
   ]
  },
  {
   "cell_type": "code",
   "execution_count": 98,
   "id": "345acaf1-aecf-4dd7-9974-bbd0ffc5c7d1",
   "metadata": {},
   "outputs": [
    {
     "data": {
      "text/plain": [
       "0    NaN\n",
       "1    5.0\n",
       "2    9.0\n",
       "3    NaN\n",
       "dtype: float64"
      ]
     },
     "execution_count": 98,
     "metadata": {},
     "output_type": "execute_result"
    }
   ],
   "source": [
    "A = pd.Series([2, 4, 6], index=[0, 1, 2])\n",
    "B = pd.Series([1, 3, 5], index=[1, 2, 3])\n",
    "A + B"
   ]
  },
  {
   "cell_type": "code",
   "execution_count": 99,
   "id": "df0ee255-9d29-41c9-9ec3-0d5efab6d170",
   "metadata": {},
   "outputs": [
    {
     "data": {
      "text/plain": [
       "Index([0, 1, 2, 3], dtype='int64')"
      ]
     },
     "execution_count": 99,
     "metadata": {},
     "output_type": "execute_result"
    }
   ],
   "source": [
    "A.index.union(B.index)"
   ]
  },
  {
   "cell_type": "code",
   "execution_count": 100,
   "id": "d1ada94b-6e71-4960-8fda-fe7c82da788e",
   "metadata": {},
   "outputs": [
    {
     "data": {
      "text/plain": [
       "0    2.0\n",
       "1    5.0\n",
       "2    9.0\n",
       "3    5.0\n",
       "dtype: float64"
      ]
     },
     "execution_count": 100,
     "metadata": {},
     "output_type": "execute_result"
    }
   ],
   "source": [
    "A.add(B, fill_value=0)"
   ]
  },
  {
   "cell_type": "code",
   "execution_count": 101,
   "id": "045cdd69-4f1f-4acb-b990-60d05c573210",
   "metadata": {},
   "outputs": [
    {
     "data": {
      "text/html": [
       "<div>\n",
       "<style scoped>\n",
       "    .dataframe tbody tr th:only-of-type {\n",
       "        vertical-align: middle;\n",
       "    }\n",
       "\n",
       "    .dataframe tbody tr th {\n",
       "        vertical-align: top;\n",
       "    }\n",
       "\n",
       "    .dataframe thead th {\n",
       "        text-align: right;\n",
       "    }\n",
       "</style>\n",
       "<table border=\"1\" class=\"dataframe\">\n",
       "  <thead>\n",
       "    <tr style=\"text-align: right;\">\n",
       "      <th></th>\n",
       "      <th>A</th>\n",
       "      <th>B</th>\n",
       "    </tr>\n",
       "  </thead>\n",
       "  <tbody>\n",
       "    <tr>\n",
       "      <th>0</th>\n",
       "      <td>1</td>\n",
       "      <td>11</td>\n",
       "    </tr>\n",
       "    <tr>\n",
       "      <th>1</th>\n",
       "      <td>5</td>\n",
       "      <td>1</td>\n",
       "    </tr>\n",
       "  </tbody>\n",
       "</table>\n",
       "</div>"
      ],
      "text/plain": [
       "   A   B\n",
       "0  1  11\n",
       "1  5   1"
      ]
     },
     "execution_count": 101,
     "metadata": {},
     "output_type": "execute_result"
    }
   ],
   "source": [
    "A = pd.DataFrame(ran.randint(0, 20, (2,2)),\n",
    "                 columns=list('AB'))\n",
    "A"
   ]
  },
  {
   "cell_type": "code",
   "execution_count": 102,
   "id": "fcc09a89-62c7-4b7d-9e71-55a2be0035dc",
   "metadata": {},
   "outputs": [
    {
     "data": {
      "text/html": [
       "<div>\n",
       "<style scoped>\n",
       "    .dataframe tbody tr th:only-of-type {\n",
       "        vertical-align: middle;\n",
       "    }\n",
       "\n",
       "    .dataframe tbody tr th {\n",
       "        vertical-align: top;\n",
       "    }\n",
       "\n",
       "    .dataframe thead th {\n",
       "        text-align: right;\n",
       "    }\n",
       "</style>\n",
       "<table border=\"1\" class=\"dataframe\">\n",
       "  <thead>\n",
       "    <tr style=\"text-align: right;\">\n",
       "      <th></th>\n",
       "      <th>B</th>\n",
       "      <th>A</th>\n",
       "      <th>C</th>\n",
       "    </tr>\n",
       "  </thead>\n",
       "  <tbody>\n",
       "    <tr>\n",
       "      <th>0</th>\n",
       "      <td>4</td>\n",
       "      <td>0</td>\n",
       "      <td>9</td>\n",
       "    </tr>\n",
       "    <tr>\n",
       "      <th>1</th>\n",
       "      <td>5</td>\n",
       "      <td>8</td>\n",
       "      <td>0</td>\n",
       "    </tr>\n",
       "    <tr>\n",
       "      <th>2</th>\n",
       "      <td>9</td>\n",
       "      <td>2</td>\n",
       "      <td>6</td>\n",
       "    </tr>\n",
       "  </tbody>\n",
       "</table>\n",
       "</div>"
      ],
      "text/plain": [
       "   B  A  C\n",
       "0  4  0  9\n",
       "1  5  8  0\n",
       "2  9  2  6"
      ]
     },
     "execution_count": 102,
     "metadata": {},
     "output_type": "execute_result"
    }
   ],
   "source": [
    "B = pd.DataFrame(ran.randint(0, 10, (3,3)),\n",
    "                 columns=list('BAC'))\n",
    "B"
   ]
  },
  {
   "cell_type": "code",
   "execution_count": 103,
   "id": "8ab2a83a-9d6a-40b5-ab78-5f20424e7dce",
   "metadata": {},
   "outputs": [
    {
     "data": {
      "text/html": [
       "<div>\n",
       "<style scoped>\n",
       "    .dataframe tbody tr th:only-of-type {\n",
       "        vertical-align: middle;\n",
       "    }\n",
       "\n",
       "    .dataframe tbody tr th {\n",
       "        vertical-align: top;\n",
       "    }\n",
       "\n",
       "    .dataframe thead th {\n",
       "        text-align: right;\n",
       "    }\n",
       "</style>\n",
       "<table border=\"1\" class=\"dataframe\">\n",
       "  <thead>\n",
       "    <tr style=\"text-align: right;\">\n",
       "      <th></th>\n",
       "      <th>A</th>\n",
       "      <th>B</th>\n",
       "      <th>C</th>\n",
       "    </tr>\n",
       "  </thead>\n",
       "  <tbody>\n",
       "    <tr>\n",
       "      <th>0</th>\n",
       "      <td>1.0</td>\n",
       "      <td>15.0</td>\n",
       "      <td>NaN</td>\n",
       "    </tr>\n",
       "    <tr>\n",
       "      <th>1</th>\n",
       "      <td>13.0</td>\n",
       "      <td>6.0</td>\n",
       "      <td>NaN</td>\n",
       "    </tr>\n",
       "    <tr>\n",
       "      <th>2</th>\n",
       "      <td>NaN</td>\n",
       "      <td>NaN</td>\n",
       "      <td>NaN</td>\n",
       "    </tr>\n",
       "  </tbody>\n",
       "</table>\n",
       "</div>"
      ],
      "text/plain": [
       "      A     B   C\n",
       "0   1.0  15.0 NaN\n",
       "1  13.0   6.0 NaN\n",
       "2   NaN   NaN NaN"
      ]
     },
     "execution_count": 103,
     "metadata": {},
     "output_type": "execute_result"
    }
   ],
   "source": [
    "A + B"
   ]
  },
  {
   "cell_type": "code",
   "execution_count": 104,
   "id": "610e6115-4815-43ec-9fc8-5f4183ddb7ae",
   "metadata": {},
   "outputs": [
    {
     "data": {
      "text/html": [
       "<div>\n",
       "<style scoped>\n",
       "    .dataframe tbody tr th:only-of-type {\n",
       "        vertical-align: middle;\n",
       "    }\n",
       "\n",
       "    .dataframe tbody tr th {\n",
       "        vertical-align: top;\n",
       "    }\n",
       "\n",
       "    .dataframe thead th {\n",
       "        text-align: right;\n",
       "    }\n",
       "</style>\n",
       "<table border=\"1\" class=\"dataframe\">\n",
       "  <thead>\n",
       "    <tr style=\"text-align: right;\">\n",
       "      <th></th>\n",
       "      <th>A</th>\n",
       "      <th>B</th>\n",
       "    </tr>\n",
       "  </thead>\n",
       "  <tbody>\n",
       "    <tr>\n",
       "      <th>0</th>\n",
       "      <td>1</td>\n",
       "      <td>11</td>\n",
       "    </tr>\n",
       "    <tr>\n",
       "      <th>1</th>\n",
       "      <td>5</td>\n",
       "      <td>1</td>\n",
       "    </tr>\n",
       "  </tbody>\n",
       "</table>\n",
       "</div>"
      ],
      "text/plain": [
       "   A   B\n",
       "0  1  11\n",
       "1  5   1"
      ]
     },
     "execution_count": 104,
     "metadata": {},
     "output_type": "execute_result"
    }
   ],
   "source": [
    "A"
   ]
  },
  {
   "cell_type": "code",
   "execution_count": 105,
   "id": "86e924e6-0daf-43e1-924a-34ff332f02dc",
   "metadata": {},
   "outputs": [
    {
     "data": {
      "text/plain": [
       "MultiIndex([(0, 'A'),\n",
       "            (0, 'B'),\n",
       "            (1, 'A'),\n",
       "            (1, 'B')],\n",
       "           )"
      ]
     },
     "execution_count": 105,
     "metadata": {},
     "output_type": "execute_result"
    }
   ],
   "source": [
    "A.stack().index"
   ]
  },
  {
   "cell_type": "code",
   "execution_count": 106,
   "id": "96fdcfbe-7a61-46e9-b8cb-9384b4fd65f5",
   "metadata": {},
   "outputs": [
    {
     "data": {
      "text/plain": [
       "np.float64(4.5)"
      ]
     },
     "execution_count": 106,
     "metadata": {},
     "output_type": "execute_result"
    }
   ],
   "source": [
    "A.stack().mean()"
   ]
  },
  {
   "cell_type": "code",
   "execution_count": 107,
   "id": "664b9011-226a-4232-8e8b-790f911ca600",
   "metadata": {},
   "outputs": [],
   "source": [
    "fill = A.stack().mean()"
   ]
  },
  {
   "cell_type": "code",
   "execution_count": 108,
   "id": "b0e4bc4c-72b7-4726-ac8f-39d856027ca0",
   "metadata": {},
   "outputs": [
    {
     "data": {
      "text/html": [
       "<div>\n",
       "<style scoped>\n",
       "    .dataframe tbody tr th:only-of-type {\n",
       "        vertical-align: middle;\n",
       "    }\n",
       "\n",
       "    .dataframe tbody tr th {\n",
       "        vertical-align: top;\n",
       "    }\n",
       "\n",
       "    .dataframe thead th {\n",
       "        text-align: right;\n",
       "    }\n",
       "</style>\n",
       "<table border=\"1\" class=\"dataframe\">\n",
       "  <thead>\n",
       "    <tr style=\"text-align: right;\">\n",
       "      <th></th>\n",
       "      <th>A</th>\n",
       "      <th>B</th>\n",
       "      <th>C</th>\n",
       "    </tr>\n",
       "  </thead>\n",
       "  <tbody>\n",
       "    <tr>\n",
       "      <th>0</th>\n",
       "      <td>1.0</td>\n",
       "      <td>15.0</td>\n",
       "      <td>13.5</td>\n",
       "    </tr>\n",
       "    <tr>\n",
       "      <th>1</th>\n",
       "      <td>13.0</td>\n",
       "      <td>6.0</td>\n",
       "      <td>4.5</td>\n",
       "    </tr>\n",
       "    <tr>\n",
       "      <th>2</th>\n",
       "      <td>6.5</td>\n",
       "      <td>13.5</td>\n",
       "      <td>10.5</td>\n",
       "    </tr>\n",
       "  </tbody>\n",
       "</table>\n",
       "</div>"
      ],
      "text/plain": [
       "      A     B     C\n",
       "0   1.0  15.0  13.5\n",
       "1  13.0   6.0   4.5\n",
       "2   6.5  13.5  10.5"
      ]
     },
     "execution_count": 108,
     "metadata": {},
     "output_type": "execute_result"
    }
   ],
   "source": [
    "A.add(B, fill_value=fill)"
   ]
  },
  {
   "cell_type": "code",
   "execution_count": 109,
   "id": "6bd5661d-e0d9-487e-a005-c153564b8ec4",
   "metadata": {},
   "outputs": [
    {
     "data": {
      "text/plain": [
       "array([[3, 8, 2, 4],\n",
       "       [2, 6, 4, 8],\n",
       "       [6, 1, 3, 8]])"
      ]
     },
     "execution_count": 109,
     "metadata": {},
     "output_type": "execute_result"
    }
   ],
   "source": [
    "A = ran.randint(10, size=(3,4))\n",
    "A"
   ]
  },
  {
   "cell_type": "code",
   "execution_count": 110,
   "id": "ffd2b5bd-7823-491a-ab64-c61b42a884ef",
   "metadata": {},
   "outputs": [
    {
     "data": {
      "text/html": [
       "<div>\n",
       "<style scoped>\n",
       "    .dataframe tbody tr th:only-of-type {\n",
       "        vertical-align: middle;\n",
       "    }\n",
       "\n",
       "    .dataframe tbody tr th {\n",
       "        vertical-align: top;\n",
       "    }\n",
       "\n",
       "    .dataframe thead th {\n",
       "        text-align: right;\n",
       "    }\n",
       "</style>\n",
       "<table border=\"1\" class=\"dataframe\">\n",
       "  <thead>\n",
       "    <tr style=\"text-align: right;\">\n",
       "      <th></th>\n",
       "      <th>Q</th>\n",
       "      <th>R</th>\n",
       "      <th>S</th>\n",
       "      <th>T</th>\n",
       "    </tr>\n",
       "  </thead>\n",
       "  <tbody>\n",
       "    <tr>\n",
       "      <th>0</th>\n",
       "      <td>3</td>\n",
       "      <td>8</td>\n",
       "      <td>2</td>\n",
       "      <td>4</td>\n",
       "    </tr>\n",
       "    <tr>\n",
       "      <th>1</th>\n",
       "      <td>2</td>\n",
       "      <td>6</td>\n",
       "      <td>4</td>\n",
       "      <td>8</td>\n",
       "    </tr>\n",
       "    <tr>\n",
       "      <th>2</th>\n",
       "      <td>6</td>\n",
       "      <td>1</td>\n",
       "      <td>3</td>\n",
       "      <td>8</td>\n",
       "    </tr>\n",
       "  </tbody>\n",
       "</table>\n",
       "</div>"
      ],
      "text/plain": [
       "   Q  R  S  T\n",
       "0  3  8  2  4\n",
       "1  2  6  4  8\n",
       "2  6  1  3  8"
      ]
     },
     "execution_count": 110,
     "metadata": {},
     "output_type": "execute_result"
    }
   ],
   "source": [
    "df = pd.DataFrame(A, columns=list('QRST'))\n",
    "df"
   ]
  },
  {
   "cell_type": "code",
   "execution_count": 111,
   "id": "843539f5-ee12-4260-9875-d8fd34c0cf51",
   "metadata": {},
   "outputs": [
    {
     "data": {
      "text/html": [
       "<div>\n",
       "<style scoped>\n",
       "    .dataframe tbody tr th:only-of-type {\n",
       "        vertical-align: middle;\n",
       "    }\n",
       "\n",
       "    .dataframe tbody tr th {\n",
       "        vertical-align: top;\n",
       "    }\n",
       "\n",
       "    .dataframe thead th {\n",
       "        text-align: right;\n",
       "    }\n",
       "</style>\n",
       "<table border=\"1\" class=\"dataframe\">\n",
       "  <thead>\n",
       "    <tr style=\"text-align: right;\">\n",
       "      <th></th>\n",
       "      <th>Q</th>\n",
       "      <th>R</th>\n",
       "      <th>S</th>\n",
       "      <th>T</th>\n",
       "    </tr>\n",
       "  </thead>\n",
       "  <tbody>\n",
       "    <tr>\n",
       "      <th>0</th>\n",
       "      <td>0</td>\n",
       "      <td>0</td>\n",
       "      <td>0</td>\n",
       "      <td>0</td>\n",
       "    </tr>\n",
       "    <tr>\n",
       "      <th>1</th>\n",
       "      <td>-1</td>\n",
       "      <td>-2</td>\n",
       "      <td>2</td>\n",
       "      <td>4</td>\n",
       "    </tr>\n",
       "    <tr>\n",
       "      <th>2</th>\n",
       "      <td>3</td>\n",
       "      <td>-7</td>\n",
       "      <td>1</td>\n",
       "      <td>4</td>\n",
       "    </tr>\n",
       "  </tbody>\n",
       "</table>\n",
       "</div>"
      ],
      "text/plain": [
       "   Q  R  S  T\n",
       "0  0  0  0  0\n",
       "1 -1 -2  2  4\n",
       "2  3 -7  1  4"
      ]
     },
     "execution_count": 111,
     "metadata": {},
     "output_type": "execute_result"
    }
   ],
   "source": [
    "df - df.iloc[0]"
   ]
  },
  {
   "cell_type": "code",
   "execution_count": 112,
   "id": "ef1c7895-9987-4995-a8d0-3cda948920c4",
   "metadata": {},
   "outputs": [
    {
     "data": {
      "text/html": [
       "<div>\n",
       "<style scoped>\n",
       "    .dataframe tbody tr th:only-of-type {\n",
       "        vertical-align: middle;\n",
       "    }\n",
       "\n",
       "    .dataframe tbody tr th {\n",
       "        vertical-align: top;\n",
       "    }\n",
       "\n",
       "    .dataframe thead th {\n",
       "        text-align: right;\n",
       "    }\n",
       "</style>\n",
       "<table border=\"1\" class=\"dataframe\">\n",
       "  <thead>\n",
       "    <tr style=\"text-align: right;\">\n",
       "      <th></th>\n",
       "      <th>Q</th>\n",
       "      <th>R</th>\n",
       "      <th>S</th>\n",
       "      <th>T</th>\n",
       "    </tr>\n",
       "  </thead>\n",
       "  <tbody>\n",
       "    <tr>\n",
       "      <th>0</th>\n",
       "      <td>3</td>\n",
       "      <td>8</td>\n",
       "      <td>2</td>\n",
       "      <td>4</td>\n",
       "    </tr>\n",
       "    <tr>\n",
       "      <th>1</th>\n",
       "      <td>2</td>\n",
       "      <td>6</td>\n",
       "      <td>4</td>\n",
       "      <td>8</td>\n",
       "    </tr>\n",
       "    <tr>\n",
       "      <th>2</th>\n",
       "      <td>6</td>\n",
       "      <td>1</td>\n",
       "      <td>3</td>\n",
       "      <td>8</td>\n",
       "    </tr>\n",
       "  </tbody>\n",
       "</table>\n",
       "</div>"
      ],
      "text/plain": [
       "   Q  R  S  T\n",
       "0  3  8  2  4\n",
       "1  2  6  4  8\n",
       "2  6  1  3  8"
      ]
     },
     "execution_count": 112,
     "metadata": {},
     "output_type": "execute_result"
    }
   ],
   "source": [
    "df"
   ]
  },
  {
   "cell_type": "code",
   "execution_count": 113,
   "id": "e142e0a8-567b-49ea-b124-187f14772e5c",
   "metadata": {},
   "outputs": [
    {
     "data": {
      "text/html": [
       "<div>\n",
       "<style scoped>\n",
       "    .dataframe tbody tr th:only-of-type {\n",
       "        vertical-align: middle;\n",
       "    }\n",
       "\n",
       "    .dataframe tbody tr th {\n",
       "        vertical-align: top;\n",
       "    }\n",
       "\n",
       "    .dataframe thead th {\n",
       "        text-align: right;\n",
       "    }\n",
       "</style>\n",
       "<table border=\"1\" class=\"dataframe\">\n",
       "  <thead>\n",
       "    <tr style=\"text-align: right;\">\n",
       "      <th></th>\n",
       "      <th>Q</th>\n",
       "      <th>R</th>\n",
       "      <th>S</th>\n",
       "      <th>T</th>\n",
       "    </tr>\n",
       "  </thead>\n",
       "  <tbody>\n",
       "    <tr>\n",
       "      <th>0</th>\n",
       "      <td>-5</td>\n",
       "      <td>0</td>\n",
       "      <td>-6</td>\n",
       "      <td>-4</td>\n",
       "    </tr>\n",
       "    <tr>\n",
       "      <th>1</th>\n",
       "      <td>-4</td>\n",
       "      <td>0</td>\n",
       "      <td>-2</td>\n",
       "      <td>2</td>\n",
       "    </tr>\n",
       "    <tr>\n",
       "      <th>2</th>\n",
       "      <td>5</td>\n",
       "      <td>0</td>\n",
       "      <td>2</td>\n",
       "      <td>7</td>\n",
       "    </tr>\n",
       "  </tbody>\n",
       "</table>\n",
       "</div>"
      ],
      "text/plain": [
       "   Q  R  S  T\n",
       "0 -5  0 -6 -4\n",
       "1 -4  0 -2  2\n",
       "2  5  0  2  7"
      ]
     },
     "execution_count": 113,
     "metadata": {},
     "output_type": "execute_result"
    }
   ],
   "source": [
    "df.subtract(df['R'], axis=0)"
   ]
  },
  {
   "cell_type": "code",
   "execution_count": 114,
   "id": "8c6b6b69-ed15-42ab-97f1-01f9c4d740b2",
   "metadata": {},
   "outputs": [
    {
     "data": {
      "text/html": [
       "<div>\n",
       "<style scoped>\n",
       "    .dataframe tbody tr th:only-of-type {\n",
       "        vertical-align: middle;\n",
       "    }\n",
       "\n",
       "    .dataframe tbody tr th {\n",
       "        vertical-align: top;\n",
       "    }\n",
       "\n",
       "    .dataframe thead th {\n",
       "        text-align: right;\n",
       "    }\n",
       "</style>\n",
       "<table border=\"1\" class=\"dataframe\">\n",
       "  <thead>\n",
       "    <tr style=\"text-align: right;\">\n",
       "      <th></th>\n",
       "      <th>Q</th>\n",
       "      <th>R</th>\n",
       "      <th>S</th>\n",
       "      <th>T</th>\n",
       "    </tr>\n",
       "  </thead>\n",
       "  <tbody>\n",
       "    <tr>\n",
       "      <th>0</th>\n",
       "      <td>-5</td>\n",
       "      <td>0</td>\n",
       "      <td>-6</td>\n",
       "      <td>-4</td>\n",
       "    </tr>\n",
       "    <tr>\n",
       "      <th>1</th>\n",
       "      <td>-4</td>\n",
       "      <td>0</td>\n",
       "      <td>-2</td>\n",
       "      <td>2</td>\n",
       "    </tr>\n",
       "    <tr>\n",
       "      <th>2</th>\n",
       "      <td>5</td>\n",
       "      <td>0</td>\n",
       "      <td>2</td>\n",
       "      <td>7</td>\n",
       "    </tr>\n",
       "  </tbody>\n",
       "</table>\n",
       "</div>"
      ],
      "text/plain": [
       "   Q  R  S  T\n",
       "0 -5  0 -6 -4\n",
       "1 -4  0 -2  2\n",
       "2  5  0  2  7"
      ]
     },
     "execution_count": 114,
     "metadata": {},
     "output_type": "execute_result"
    }
   ],
   "source": [
    "df.subtract(df['R'], axis=0)"
   ]
  },
  {
   "cell_type": "code",
   "execution_count": 115,
   "id": "cc795f61-d997-4ca5-a5ed-0fe6593fc283",
   "metadata": {},
   "outputs": [
    {
     "data": {
      "text/html": [
       "<div>\n",
       "<style scoped>\n",
       "    .dataframe tbody tr th:only-of-type {\n",
       "        vertical-align: middle;\n",
       "    }\n",
       "\n",
       "    .dataframe tbody tr th {\n",
       "        vertical-align: top;\n",
       "    }\n",
       "\n",
       "    .dataframe thead th {\n",
       "        text-align: right;\n",
       "    }\n",
       "</style>\n",
       "<table border=\"1\" class=\"dataframe\">\n",
       "  <thead>\n",
       "    <tr style=\"text-align: right;\">\n",
       "      <th></th>\n",
       "      <th>Q</th>\n",
       "      <th>R</th>\n",
       "      <th>S</th>\n",
       "      <th>T</th>\n",
       "    </tr>\n",
       "  </thead>\n",
       "  <tbody>\n",
       "    <tr>\n",
       "      <th>0</th>\n",
       "      <td>3</td>\n",
       "      <td>8</td>\n",
       "      <td>2</td>\n",
       "      <td>4</td>\n",
       "    </tr>\n",
       "    <tr>\n",
       "      <th>1</th>\n",
       "      <td>2</td>\n",
       "      <td>6</td>\n",
       "      <td>4</td>\n",
       "      <td>8</td>\n",
       "    </tr>\n",
       "    <tr>\n",
       "      <th>2</th>\n",
       "      <td>6</td>\n",
       "      <td>1</td>\n",
       "      <td>3</td>\n",
       "      <td>8</td>\n",
       "    </tr>\n",
       "  </tbody>\n",
       "</table>\n",
       "</div>"
      ],
      "text/plain": [
       "   Q  R  S  T\n",
       "0  3  8  2  4\n",
       "1  2  6  4  8\n",
       "2  6  1  3  8"
      ]
     },
     "execution_count": 115,
     "metadata": {},
     "output_type": "execute_result"
    }
   ],
   "source": [
    "df"
   ]
  },
  {
   "cell_type": "code",
   "execution_count": 116,
   "id": "e478f2ab-96de-488c-8a7f-2e95ce2ca4a4",
   "metadata": {},
   "outputs": [
    {
     "data": {
      "text/plain": [
       "Q    3\n",
       "S    2\n",
       "Name: 0, dtype: int64"
      ]
     },
     "execution_count": 116,
     "metadata": {},
     "output_type": "execute_result"
    }
   ],
   "source": [
    "halfrow = df.iloc[0, ::2]\n",
    "halfrow"
   ]
  },
  {
   "cell_type": "code",
   "execution_count": 117,
   "id": "3367300b-9640-445c-bb5c-7b5768e43a8f",
   "metadata": {},
   "outputs": [
    {
     "data": {
      "text/html": [
       "<div>\n",
       "<style scoped>\n",
       "    .dataframe tbody tr th:only-of-type {\n",
       "        vertical-align: middle;\n",
       "    }\n",
       "\n",
       "    .dataframe tbody tr th {\n",
       "        vertical-align: top;\n",
       "    }\n",
       "\n",
       "    .dataframe thead th {\n",
       "        text-align: right;\n",
       "    }\n",
       "</style>\n",
       "<table border=\"1\" class=\"dataframe\">\n",
       "  <thead>\n",
       "    <tr style=\"text-align: right;\">\n",
       "      <th></th>\n",
       "      <th>Q</th>\n",
       "      <th>R</th>\n",
       "      <th>S</th>\n",
       "      <th>T</th>\n",
       "    </tr>\n",
       "  </thead>\n",
       "  <tbody>\n",
       "    <tr>\n",
       "      <th>0</th>\n",
       "      <td>0.0</td>\n",
       "      <td>NaN</td>\n",
       "      <td>0.0</td>\n",
       "      <td>NaN</td>\n",
       "    </tr>\n",
       "    <tr>\n",
       "      <th>1</th>\n",
       "      <td>-1.0</td>\n",
       "      <td>NaN</td>\n",
       "      <td>2.0</td>\n",
       "      <td>NaN</td>\n",
       "    </tr>\n",
       "    <tr>\n",
       "      <th>2</th>\n",
       "      <td>3.0</td>\n",
       "      <td>NaN</td>\n",
       "      <td>1.0</td>\n",
       "      <td>NaN</td>\n",
       "    </tr>\n",
       "  </tbody>\n",
       "</table>\n",
       "</div>"
      ],
      "text/plain": [
       "     Q   R    S   T\n",
       "0  0.0 NaN  0.0 NaN\n",
       "1 -1.0 NaN  2.0 NaN\n",
       "2  3.0 NaN  1.0 NaN"
      ]
     },
     "execution_count": 117,
     "metadata": {},
     "output_type": "execute_result"
    }
   ],
   "source": [
    "df - halfrow"
   ]
  },
  {
   "cell_type": "markdown",
   "id": "ebfd48b6-fed8-4388-8374-d2a69440cbfb",
   "metadata": {},
   "source": [
    "## Manejo de datos faltantes"
   ]
  },
  {
   "cell_type": "code",
   "execution_count": 118,
   "id": "590df058-a097-49c9-9d72-ac5b58223564",
   "metadata": {},
   "outputs": [
    {
     "data": {
      "text/plain": [
       "array([1, None, 3, 4], dtype=object)"
      ]
     },
     "execution_count": 118,
     "metadata": {},
     "output_type": "execute_result"
    }
   ],
   "source": [
    "vals1 = np.array([1, None, 3, 4])\n",
    "vals1"
   ]
  },
  {
   "cell_type": "code",
   "execution_count": 119,
   "id": "d9d2c405-428a-424e-8d6b-c78cd020f7ee",
   "metadata": {},
   "outputs": [
    {
     "data": {
      "text/plain": [
       "dtype('O')"
      ]
     },
     "execution_count": 119,
     "metadata": {},
     "output_type": "execute_result"
    }
   ],
   "source": [
    "vals1.dtype"
   ]
  },
  {
   "cell_type": "code",
   "execution_count": 120,
   "id": "f1482392-bb45-4307-8891-4e82d911738a",
   "metadata": {},
   "outputs": [
    {
     "ename": "TypeError",
     "evalue": "unsupported operand type(s) for +: 'int' and 'NoneType'",
     "output_type": "error",
     "traceback": [
      "\u001b[0;31m---------------------------------------------------------------------------\u001b[0m",
      "\u001b[0;31mTypeError\u001b[0m                                 Traceback (most recent call last)",
      "Cell \u001b[0;32mIn[120], line 1\u001b[0m\n\u001b[0;32m----> 1\u001b[0m \u001b[43mvals1\u001b[49m\u001b[38;5;241;43m.\u001b[39;49m\u001b[43msum\u001b[49m\u001b[43m(\u001b[49m\u001b[43m)\u001b[49m\n",
      "File \u001b[0;32m/opt/conda/lib/python3.12/site-packages/numpy/_core/_methods.py:52\u001b[0m, in \u001b[0;36m_sum\u001b[0;34m(a, axis, dtype, out, keepdims, initial, where)\u001b[0m\n\u001b[1;32m     50\u001b[0m \u001b[38;5;28;01mdef\u001b[39;00m \u001b[38;5;21m_sum\u001b[39m(a, axis\u001b[38;5;241m=\u001b[39m\u001b[38;5;28;01mNone\u001b[39;00m, dtype\u001b[38;5;241m=\u001b[39m\u001b[38;5;28;01mNone\u001b[39;00m, out\u001b[38;5;241m=\u001b[39m\u001b[38;5;28;01mNone\u001b[39;00m, keepdims\u001b[38;5;241m=\u001b[39m\u001b[38;5;28;01mFalse\u001b[39;00m,\n\u001b[1;32m     51\u001b[0m          initial\u001b[38;5;241m=\u001b[39m_NoValue, where\u001b[38;5;241m=\u001b[39m\u001b[38;5;28;01mTrue\u001b[39;00m):\n\u001b[0;32m---> 52\u001b[0m     \u001b[38;5;28;01mreturn\u001b[39;00m \u001b[43mumr_sum\u001b[49m\u001b[43m(\u001b[49m\u001b[43ma\u001b[49m\u001b[43m,\u001b[49m\u001b[43m \u001b[49m\u001b[43maxis\u001b[49m\u001b[43m,\u001b[49m\u001b[43m \u001b[49m\u001b[43mdtype\u001b[49m\u001b[43m,\u001b[49m\u001b[43m \u001b[49m\u001b[43mout\u001b[49m\u001b[43m,\u001b[49m\u001b[43m \u001b[49m\u001b[43mkeepdims\u001b[49m\u001b[43m,\u001b[49m\u001b[43m \u001b[49m\u001b[43minitial\u001b[49m\u001b[43m,\u001b[49m\u001b[43m \u001b[49m\u001b[43mwhere\u001b[49m\u001b[43m)\u001b[49m\n",
      "\u001b[0;31mTypeError\u001b[0m: unsupported operand type(s) for +: 'int' and 'NoneType'"
     ]
    }
   ],
   "source": [
    "vals1.sum()"
   ]
  },
  {
   "cell_type": "code",
   "execution_count": 121,
   "id": "fc0cbb5e-ee5f-4a96-bb1e-8883313ffa2a",
   "metadata": {},
   "outputs": [
    {
     "data": {
      "text/plain": [
       "array([ 1., nan,  3.,  4.])"
      ]
     },
     "execution_count": 121,
     "metadata": {},
     "output_type": "execute_result"
    }
   ],
   "source": [
    "vals2 = np.array([1, np.nan, 3, 4])\n",
    "vals2"
   ]
  },
  {
   "cell_type": "code",
   "execution_count": 122,
   "id": "408ccca3-38a1-417d-a303-feb925494ca1",
   "metadata": {},
   "outputs": [
    {
     "data": {
      "text/plain": [
       "dtype('float64')"
      ]
     },
     "execution_count": 122,
     "metadata": {},
     "output_type": "execute_result"
    }
   ],
   "source": [
    "vals2.dtype"
   ]
  },
  {
   "cell_type": "code",
   "execution_count": 123,
   "id": "da01a330-70b3-400e-83bc-359610c93240",
   "metadata": {},
   "outputs": [
    {
     "data": {
      "text/plain": [
       "np.float64(nan)"
      ]
     },
     "execution_count": 123,
     "metadata": {},
     "output_type": "execute_result"
    }
   ],
   "source": [
    "vals2.sum()"
   ]
  },
  {
   "cell_type": "code",
   "execution_count": 124,
   "id": "5bd71383-6da0-4954-9945-a5dd345e8e83",
   "metadata": {},
   "outputs": [
    {
     "data": {
      "text/plain": [
       "nan"
      ]
     },
     "execution_count": 124,
     "metadata": {},
     "output_type": "execute_result"
    }
   ],
   "source": [
    "1 + np.nan"
   ]
  },
  {
   "cell_type": "code",
   "execution_count": 125,
   "id": "effb8a8d-b788-4eb0-b8eb-52af18eb2a36",
   "metadata": {},
   "outputs": [
    {
     "data": {
      "text/plain": [
       "nan"
      ]
     },
     "execution_count": 125,
     "metadata": {},
     "output_type": "execute_result"
    }
   ],
   "source": [
    "0 * np.nan"
   ]
  },
  {
   "cell_type": "code",
   "execution_count": 126,
   "id": "a9387bac-9cd1-4582-ba2c-48f0a9b295b6",
   "metadata": {},
   "outputs": [
    {
     "data": {
      "text/plain": [
       "np.float64(nan)"
      ]
     },
     "execution_count": 126,
     "metadata": {},
     "output_type": "execute_result"
    }
   ],
   "source": [
    "vals2.min()"
   ]
  },
  {
   "cell_type": "code",
   "execution_count": 127,
   "id": "510cbc90-6bc7-4d55-9838-d603dbede591",
   "metadata": {},
   "outputs": [
    {
     "data": {
      "text/plain": [
       "np.float64(nan)"
      ]
     },
     "execution_count": 127,
     "metadata": {},
     "output_type": "execute_result"
    }
   ],
   "source": [
    "vals2.max()"
   ]
  },
  {
   "cell_type": "code",
   "execution_count": 128,
   "id": "ba730c9d-c031-4759-96d2-5ac4c46f47ea",
   "metadata": {},
   "outputs": [
    {
     "data": {
      "text/plain": [
       "np.float64(8.0)"
      ]
     },
     "execution_count": 128,
     "metadata": {},
     "output_type": "execute_result"
    }
   ],
   "source": [
    "np.nansum(vals2)"
   ]
  },
  {
   "cell_type": "code",
   "execution_count": 129,
   "id": "fbdbbcc1-ba3e-49dc-a545-de6582b1462d",
   "metadata": {},
   "outputs": [
    {
     "data": {
      "text/plain": [
       "np.float64(1.0)"
      ]
     },
     "execution_count": 129,
     "metadata": {},
     "output_type": "execute_result"
    }
   ],
   "source": [
    "np.nanmin(vals2)"
   ]
  },
  {
   "cell_type": "code",
   "execution_count": 130,
   "id": "120fa974-d06c-4592-9399-7bea4a7c7565",
   "metadata": {},
   "outputs": [
    {
     "data": {
      "text/plain": [
       "np.float64(4.0)"
      ]
     },
     "execution_count": 130,
     "metadata": {},
     "output_type": "execute_result"
    }
   ],
   "source": [
    "np.nanmax(vals2)"
   ]
  },
  {
   "cell_type": "markdown",
   "id": "2ff41ee5-d4d9-43b0-9c0b-7012e320abc6",
   "metadata": {},
   "source": [
    "**Problema 4:** Investiga las operaciones `isnull`, `notnull`, `dropna` y `fillna` de Pandas, así como el valor `pd.NA`. Puedes apoyarte de [la documentación](https://pandas.pydata.org/docs/user_guide/missing_data.html)"
   ]
  },
  {
   "cell_type": "markdown",
   "id": "84c1a8a2-0377-4f57-9223-f6a04cc2f5bb",
   "metadata": {},
   "source": [
    "El método `isnull` de Pandas se aplica a un `DataFrame` o una `Series` y devuelve un nuevo objeto del mismo tipo (ya sea un `DataFrame` o una `Series`) con valores booleanos. En este nuevo objeto, el valor será `True` si el elemento correspondiente es `None` o `NaN`, y `False` si el valor no es nulo. Existe un metodo similar llamado `isna` que hace exactamento lo mismo.\n",
    "\n",
    "El método `notnull` es similar a `isnull`, pero en este caso, para los valores que son `None` o `NaN`, devuelve `False`, y para los valores no nulos devuelve `True`.\n",
    "\n",
    "El método `dropna` permite eliminar filas o columnas que contengan al menos un valor nulo (como `None` o `NaN`). Podemos ajustar los parámetros del método para especificar que se eliminen solo aquellas filas o columnas que tengan al menos un número específico de valores nulos.\n",
    "\n",
    "El método `fillna` se utiliza para reemplazar los valores nulos (como `None` o `NaN`) con un valor específico. Este método ofrece diferentes opciones de llenado, pero también te permite indicar el valor que deseas utilizar para reemplazar los datos faltantes."
   ]
  },
  {
   "cell_type": "markdown",
   "id": "8705aae3-6d20-422b-82f2-06100b59b8d2",
   "metadata": {},
   "source": [
    "---\n",
    "\n",
    "**Problema 5:** Pandas incluye funciones para la lectura de archivos CSV o Excel. Si participaste en el datatón carga los conjuntos de datos de tu trabajo en DataFrames de Pandas. Si no participaste en el datatón consulta los sitios de datos abiertos de algúna institución pública o gubernamental, descarga un dataset en formato CSV, otro en Excel y carga los datos en un DataFrame de Pandas. En ambos casos los DataFrames resultantes debe tener asociada a cada columna el tipo de dato adecuado para trabajar con los datos."
   ]
  },
  {
   "cell_type": "code",
   "execution_count": 132,
   "id": "6ca59e96-26e2-470e-9c9e-1b0648374612",
   "metadata": {},
   "outputs": [],
   "source": [
    "import requests"
   ]
  },
  {
   "cell_type": "code",
   "execution_count": 135,
   "id": "628cbc4b-4c28-413a-a61b-f218c6981737",
   "metadata": {},
   "outputs": [],
   "source": [
    "url = 'https://datos.sonora.gob.mx/dataset/c6140d53-1f16-4dd8-8ab3-d2b47f03a921/resource/63940761-d099-4a39-bb92-e81e4a6d31e1/download/divorcios_2022.csv'\n",
    "\n",
    "r = requests.get(url)\n",
    "\n",
    "with open('divorcios.csv', 'wb') as f:\n",
    "    f.write(r.content)"
   ]
  },
  {
   "cell_type": "code",
   "execution_count": 169,
   "id": "31b8e064-a624-47ba-832d-ef07d00da644",
   "metadata": {},
   "outputs": [],
   "source": [
    "df = pd.read_csv('divorcios.csv', dtype={'municipio':'category', 'sexo_div1':'category', 'sexo_div2':'category'})\n",
    "df['fecha_matrimonio'] = pd.to_datetime(df['fecha_matrimonio'], format='%d/%m/%Y', errors='coerce')\n",
    "df = df.dropna()\n",
    "df[['edad_div1','edad_div2']] = df[['edad_div1','edad_div2']].astype('int')\n",
    "df = df.reset_index(drop=True)"
   ]
  },
  {
   "cell_type": "code",
   "execution_count": 170,
   "id": "7c1c2459-d5af-4713-91fd-24b7b285b427",
   "metadata": {},
   "outputs": [
    {
     "name": "stdout",
     "output_type": "stream",
     "text": [
      "<class 'pandas.core.frame.DataFrame'>\n",
      "RangeIndex: 5946 entries, 0 to 5945\n",
      "Data columns (total 9 columns):\n",
      " #   Column            Non-Null Count  Dtype         \n",
      "---  ------            --------------  -----         \n",
      " 0   municipio         5946 non-null   category      \n",
      " 1   fecha_matrimonio  5946 non-null   datetime64[ns]\n",
      " 2   año_registro      5946 non-null   int64         \n",
      " 3   mes_registro      5946 non-null   int64         \n",
      " 4   edad_div1         5946 non-null   int64         \n",
      " 5   edad_div2         5946 non-null   int64         \n",
      " 6   sexo_div1         5946 non-null   category      \n",
      " 7   sexo_div2         5946 non-null   category      \n",
      " 8   dia_registro      5946 non-null   int64         \n",
      "dtypes: category(3), datetime64[ns](1), int64(5)\n",
      "memory usage: 298.9 KB\n"
     ]
    }
   ],
   "source": [
    "df.info()"
   ]
  },
  {
   "cell_type": "code",
   "execution_count": 171,
   "id": "50babb56-9581-4342-b5f4-002d0c3c65df",
   "metadata": {},
   "outputs": [
    {
     "data": {
      "text/html": [
       "<div>\n",
       "<style scoped>\n",
       "    .dataframe tbody tr th:only-of-type {\n",
       "        vertical-align: middle;\n",
       "    }\n",
       "\n",
       "    .dataframe tbody tr th {\n",
       "        vertical-align: top;\n",
       "    }\n",
       "\n",
       "    .dataframe thead th {\n",
       "        text-align: right;\n",
       "    }\n",
       "</style>\n",
       "<table border=\"1\" class=\"dataframe\">\n",
       "  <thead>\n",
       "    <tr style=\"text-align: right;\">\n",
       "      <th></th>\n",
       "      <th>municipio</th>\n",
       "      <th>fecha_matrimonio</th>\n",
       "      <th>año_registro</th>\n",
       "      <th>mes_registro</th>\n",
       "      <th>edad_div1</th>\n",
       "      <th>edad_div2</th>\n",
       "      <th>sexo_div1</th>\n",
       "      <th>sexo_div2</th>\n",
       "      <th>dia_registro</th>\n",
       "    </tr>\n",
       "  </thead>\n",
       "  <tbody>\n",
       "    <tr>\n",
       "      <th>0</th>\n",
       "      <td>72</td>\n",
       "      <td>1987-06-28</td>\n",
       "      <td>2022</td>\n",
       "      <td>1</td>\n",
       "      <td>55</td>\n",
       "      <td>51</td>\n",
       "      <td>M</td>\n",
       "      <td>F</td>\n",
       "      <td>11</td>\n",
       "    </tr>\n",
       "    <tr>\n",
       "      <th>1</th>\n",
       "      <td>42</td>\n",
       "      <td>2018-10-29</td>\n",
       "      <td>2022</td>\n",
       "      <td>1</td>\n",
       "      <td>27</td>\n",
       "      <td>33</td>\n",
       "      <td>M</td>\n",
       "      <td>F</td>\n",
       "      <td>3</td>\n",
       "    </tr>\n",
       "    <tr>\n",
       "      <th>2</th>\n",
       "      <td>18</td>\n",
       "      <td>2017-12-30</td>\n",
       "      <td>2022</td>\n",
       "      <td>1</td>\n",
       "      <td>65</td>\n",
       "      <td>63</td>\n",
       "      <td>M</td>\n",
       "      <td>F</td>\n",
       "      <td>3</td>\n",
       "    </tr>\n",
       "    <tr>\n",
       "      <th>3</th>\n",
       "      <td>30</td>\n",
       "      <td>2019-02-28</td>\n",
       "      <td>2022</td>\n",
       "      <td>1</td>\n",
       "      <td>35</td>\n",
       "      <td>32</td>\n",
       "      <td>M</td>\n",
       "      <td>F</td>\n",
       "      <td>3</td>\n",
       "    </tr>\n",
       "    <tr>\n",
       "      <th>4</th>\n",
       "      <td>40</td>\n",
       "      <td>1992-04-18</td>\n",
       "      <td>2022</td>\n",
       "      <td>1</td>\n",
       "      <td>52</td>\n",
       "      <td>48</td>\n",
       "      <td>M</td>\n",
       "      <td>F</td>\n",
       "      <td>3</td>\n",
       "    </tr>\n",
       "  </tbody>\n",
       "</table>\n",
       "</div>"
      ],
      "text/plain": [
       "  municipio fecha_matrimonio  año_registro  mes_registro  edad_div1  \\\n",
       "0        72       1987-06-28          2022             1         55   \n",
       "1        42       2018-10-29          2022             1         27   \n",
       "2        18       2017-12-30          2022             1         65   \n",
       "3        30       2019-02-28          2022             1         35   \n",
       "4        40       1992-04-18          2022             1         52   \n",
       "\n",
       "   edad_div2 sexo_div1 sexo_div2  dia_registro  \n",
       "0         51         M         F            11  \n",
       "1         33         M         F             3  \n",
       "2         63         M         F             3  \n",
       "3         32         M         F             3  \n",
       "4         48         M         F             3  "
      ]
     },
     "execution_count": 171,
     "metadata": {},
     "output_type": "execute_result"
    }
   ],
   "source": [
    "df.head()"
   ]
  },
  {
   "cell_type": "code",
   "execution_count": 172,
   "id": "2db7d09c-660d-4112-9236-f251cadb9eb2",
   "metadata": {},
   "outputs": [],
   "source": [
    "url='https://datos.sonora.gob.mx/dataset/e68332eb-2bac-460a-a9cf-c9945230de81/resource/4af3e212-7253-4fc3-908d-1aec14dddb40/download/matriculas-ciclo-2021-2022.xlsx'\n",
    "\n",
    "r = requests.get(url)\n",
    "\n",
    "with open('matriculas.xlsx', 'wb') as f:\n",
    "    f.write(r.content)"
   ]
  },
  {
   "cell_type": "code",
   "execution_count": 178,
   "id": "67202e61-1bb3-4d6b-b747-009d8d0b847f",
   "metadata": {},
   "outputs": [],
   "source": [
    "df2= pd.read_excel('matriculas.xlsx', dtype={'Programa academico':'category', 'Sexo':'category', \\\n",
    "                                            'Inscrito en Residencias':'category',\\\n",
    "                                            'Seguro Escolar':'category', 'Discapacidad':'category'})"
   ]
  },
  {
   "cell_type": "code",
   "execution_count": 179,
   "id": "966a99e6-25f2-42f1-bc30-d29e687afd94",
   "metadata": {},
   "outputs": [
    {
     "name": "stdout",
     "output_type": "stream",
     "text": [
      "<class 'pandas.core.frame.DataFrame'>\n",
      "RangeIndex: 2410 entries, 0 to 2409\n",
      "Data columns (total 9 columns):\n",
      " #   Column                   Non-Null Count  Dtype   \n",
      "---  ------                   --------------  -----   \n",
      " 0   Programa academico       2410 non-null   category\n",
      " 1   Semestre que cursa       2410 non-null   int64   \n",
      " 2   Sexo                     2410 non-null   category\n",
      " 3   Promedio Actual          2410 non-null   float64 \n",
      " 4   Promedio General         2410 non-null   float64 \n",
      " 5   Créditos Acumulados      2410 non-null   int64   \n",
      " 6   Inscrito en Residencias  2410 non-null   category\n",
      " 7   Seguro Escolar           2410 non-null   category\n",
      " 8   Discapacidad             2410 non-null   category\n",
      "dtypes: category(5), float64(2), int64(2)\n",
      "memory usage: 87.7 KB\n"
     ]
    }
   ],
   "source": [
    "df2.info()"
   ]
  },
  {
   "cell_type": "code",
   "execution_count": 180,
   "id": "a6445fe0-45de-48f1-a58e-95475429c702",
   "metadata": {},
   "outputs": [
    {
     "data": {
      "text/html": [
       "<div>\n",
       "<style scoped>\n",
       "    .dataframe tbody tr th:only-of-type {\n",
       "        vertical-align: middle;\n",
       "    }\n",
       "\n",
       "    .dataframe tbody tr th {\n",
       "        vertical-align: top;\n",
       "    }\n",
       "\n",
       "    .dataframe thead th {\n",
       "        text-align: right;\n",
       "    }\n",
       "</style>\n",
       "<table border=\"1\" class=\"dataframe\">\n",
       "  <thead>\n",
       "    <tr style=\"text-align: right;\">\n",
       "      <th></th>\n",
       "      <th>Programa academico</th>\n",
       "      <th>Semestre que cursa</th>\n",
       "      <th>Sexo</th>\n",
       "      <th>Promedio Actual</th>\n",
       "      <th>Promedio General</th>\n",
       "      <th>Créditos Acumulados</th>\n",
       "      <th>Inscrito en Residencias</th>\n",
       "      <th>Seguro Escolar</th>\n",
       "      <th>Discapacidad</th>\n",
       "    </tr>\n",
       "  </thead>\n",
       "  <tbody>\n",
       "    <tr>\n",
       "      <th>0</th>\n",
       "      <td>Arquitectura</td>\n",
       "      <td>9</td>\n",
       "      <td>M</td>\n",
       "      <td>7.9</td>\n",
       "      <td>7.8</td>\n",
       "      <td>240</td>\n",
       "      <td>N</td>\n",
       "      <td>N</td>\n",
       "      <td>N</td>\n",
       "    </tr>\n",
       "    <tr>\n",
       "      <th>1</th>\n",
       "      <td>Arquitectura</td>\n",
       "      <td>6</td>\n",
       "      <td>M</td>\n",
       "      <td>7.8</td>\n",
       "      <td>7.8</td>\n",
       "      <td>171</td>\n",
       "      <td>N</td>\n",
       "      <td>S</td>\n",
       "      <td>N</td>\n",
       "    </tr>\n",
       "    <tr>\n",
       "      <th>2</th>\n",
       "      <td>Arquitectura</td>\n",
       "      <td>4</td>\n",
       "      <td>F</td>\n",
       "      <td>9.4</td>\n",
       "      <td>9.4</td>\n",
       "      <td>114</td>\n",
       "      <td>N</td>\n",
       "      <td>S</td>\n",
       "      <td>N</td>\n",
       "    </tr>\n",
       "    <tr>\n",
       "      <th>3</th>\n",
       "      <td>Arquitectura</td>\n",
       "      <td>3</td>\n",
       "      <td>F</td>\n",
       "      <td>9.2</td>\n",
       "      <td>9.1</td>\n",
       "      <td>55</td>\n",
       "      <td>N</td>\n",
       "      <td>S</td>\n",
       "      <td>N</td>\n",
       "    </tr>\n",
       "    <tr>\n",
       "      <th>4</th>\n",
       "      <td>Arquitectura</td>\n",
       "      <td>5</td>\n",
       "      <td>F</td>\n",
       "      <td>9.8</td>\n",
       "      <td>9.7</td>\n",
       "      <td>118</td>\n",
       "      <td>N</td>\n",
       "      <td>S</td>\n",
       "      <td>N</td>\n",
       "    </tr>\n",
       "  </tbody>\n",
       "</table>\n",
       "</div>"
      ],
      "text/plain": [
       "  Programa academico  Semestre que cursa Sexo  Promedio Actual  \\\n",
       "0       Arquitectura                   9    M              7.9   \n",
       "1       Arquitectura                   6    M              7.8   \n",
       "2       Arquitectura                   4    F              9.4   \n",
       "3       Arquitectura                   3    F              9.2   \n",
       "4       Arquitectura                   5    F              9.8   \n",
       "\n",
       "   Promedio General  Créditos Acumulados Inscrito en Residencias  \\\n",
       "0               7.8                  240                       N   \n",
       "1               7.8                  171                       N   \n",
       "2               9.4                  114                       N   \n",
       "3               9.1                   55                       N   \n",
       "4               9.7                  118                       N   \n",
       "\n",
       "  Seguro Escolar Discapacidad  \n",
       "0              N            N  \n",
       "1              S            N  \n",
       "2              S            N  \n",
       "3              S            N  \n",
       "4              S            N  "
      ]
     },
     "execution_count": 180,
     "metadata": {},
     "output_type": "execute_result"
    }
   ],
   "source": [
    "df2.head()"
   ]
  }
 ],
 "metadata": {
  "kernelspec": {
   "display_name": "Python 3 (ipykernel)",
   "language": "python",
   "name": "python3"
  },
  "language_info": {
   "codemirror_mode": {
    "name": "ipython",
    "version": 3
   },
   "file_extension": ".py",
   "mimetype": "text/x-python",
   "name": "python",
   "nbconvert_exporter": "python",
   "pygments_lexer": "ipython3",
   "version": "3.12.7"
  }
 },
 "nbformat": 4,
 "nbformat_minor": 5
}
