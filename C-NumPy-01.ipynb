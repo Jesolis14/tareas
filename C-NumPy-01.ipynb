{
 "cells": [
  {
   "cell_type": "markdown",
   "id": "4dbaab8e-39aa-4f8d-822c-6f84eb87f295",
   "metadata": {},
   "source": [
    "# Biblioteca NumPy\n",
    "\n",
    "NumPy es una biblioteca para el lenguaje de programación Python que da soporte para crear vectores y matrices grandes multidimensionales, junto con una gran colección de funciones matemáticas de alto nivel para operar con ellas.\n",
    "\n",
    "Sus características principales son:\n",
    "- **Matrices N-dimensionales potentes:** Rápidas y versátiles, los conceptos de vectorización, indexación y broadcasting de NumPy son los estándares de facto de la informática matricial actual.\n",
    "- **Herramientas de cómputo numérico:** NumPy ofrece funciones matemáticas completas, generadores de números aleatorios, rutinas de álgebra lineal, transformadas de Fourier y más.\n",
    "- **Interoperable:** NumPy es compatible con una amplia gama de plataformas de hardware y computación, y funciona bien con bibliotecas distribuidas, de GPU y de matrices dispersas.\n",
    "- **Alto rendimiento:** El núcleo de NumPy es un código C bien optimizado.\n",
    "- **Fácil de usar:** La sintaxis de alto nivel de NumPy lo hace accesible y productivo para programadores de cualquier nivel de formación o experiencia.\n",
    "\n",
    "Instala la biblioteca `numpy`...\n",
    "\n",
    "Esta libreta consiste principalmente de código. Agrega tus notas y observaciones en celdas con formato Markdown."
   ]
  },
  {
   "cell_type": "code",
   "execution_count": 2,
   "id": "1aaa00f1-3e50-4e6c-bc02-f6ed6af0a757",
   "metadata": {},
   "outputs": [],
   "source": [
    "import numpy as np"
   ]
  },
  {
   "cell_type": "code",
   "execution_count": 3,
   "id": "20d78b57-88b2-4901-806b-69b19321fd31",
   "metadata": {},
   "outputs": [
    {
     "data": {
      "text/plain": [
       "'2.0.2'"
      ]
     },
     "execution_count": 3,
     "metadata": {},
     "output_type": "execute_result"
    }
   ],
   "source": [
    "np.__version__"
   ]
  },
  {
   "cell_type": "markdown",
   "id": "7e130563-79d0-4af8-a4df-c23726fa35ef",
   "metadata": {},
   "source": [
    "## Funciones para crear arreglos"
   ]
  },
  {
   "cell_type": "code",
   "execution_count": 3,
   "id": "26c5f049-139e-418a-8350-a1bb9923e107",
   "metadata": {},
   "outputs": [
    {
     "data": {
      "text/plain": [
       "array([1, 4, 2, 5, 3])"
      ]
     },
     "execution_count": 3,
     "metadata": {},
     "output_type": "execute_result"
    }
   ],
   "source": [
    "np.array([1, 4, 2, 5, 3])"
   ]
  },
  {
   "cell_type": "code",
   "execution_count": 4,
   "id": "8a205030-d166-4d93-a944-6edbdb40f131",
   "metadata": {},
   "outputs": [
    {
     "data": {
      "text/plain": [
       "dtype('int64')"
      ]
     },
     "execution_count": 4,
     "metadata": {},
     "output_type": "execute_result"
    }
   ],
   "source": [
    "x = np.array([1, 4, 2, 5, 3])\n",
    "x.dtype"
   ]
  },
  {
   "cell_type": "code",
   "execution_count": 5,
   "id": "b4351c93-f18a-4f49-ba3a-cd824ad28bf6",
   "metadata": {},
   "outputs": [
    {
     "data": {
      "text/plain": [
       "array([3.14, 4.  , 2.  , 3.  ])"
      ]
     },
     "execution_count": 5,
     "metadata": {},
     "output_type": "execute_result"
    }
   ],
   "source": [
    "np.array([3.14, 4, 2, 3])"
   ]
  },
  {
   "cell_type": "code",
   "execution_count": 6,
   "id": "536c3144-be1f-45e1-b811-20c1d28b50b4",
   "metadata": {},
   "outputs": [
    {
     "data": {
      "text/plain": [
       "dtype('float64')"
      ]
     },
     "execution_count": 6,
     "metadata": {},
     "output_type": "execute_result"
    }
   ],
   "source": [
    "x = np.array([3.14, 4, 2, 3])\n",
    "x.dtype"
   ]
  },
  {
   "cell_type": "code",
   "execution_count": 7,
   "id": "73149a6c-88c1-4611-a3af-5f48ad1786e5",
   "metadata": {},
   "outputs": [
    {
     "data": {
      "text/plain": [
       "array([1., 2., 3., 4.])"
      ]
     },
     "execution_count": 7,
     "metadata": {},
     "output_type": "execute_result"
    }
   ],
   "source": [
    "np.array([1, 2, 3, 4], dtype='float64')"
   ]
  },
  {
   "cell_type": "code",
   "execution_count": 8,
   "id": "b99b569a-36c5-43b0-a3aa-1609d05a7a78",
   "metadata": {},
   "outputs": [
    {
     "data": {
      "text/plain": [
       "array([1, 2, 3, 4])"
      ]
     },
     "execution_count": 8,
     "metadata": {},
     "output_type": "execute_result"
    }
   ],
   "source": [
    "np.array([1.2, 2, 3, 4], dtype='int64')"
   ]
  },
  {
   "cell_type": "code",
   "execution_count": 12,
   "id": "03096203-b143-4014-9df7-6291aae18945",
   "metadata": {},
   "outputs": [
    {
     "ename": "OverflowError",
     "evalue": "Python integer 200 out of bounds for int8",
     "output_type": "error",
     "traceback": [
      "\u001b[0;31m---------------------------------------------------------------------------\u001b[0m",
      "\u001b[0;31mOverflowError\u001b[0m                             Traceback (most recent call last)",
      "Cell \u001b[0;32mIn[12], line 1\u001b[0m\n\u001b[0;32m----> 1\u001b[0m \u001b[43mnp\u001b[49m\u001b[38;5;241;43m.\u001b[39;49m\u001b[43marray\u001b[49m\u001b[43m(\u001b[49m\u001b[43m[\u001b[49m\u001b[38;5;241;43m200\u001b[39;49m\u001b[43m,\u001b[49m\u001b[43m \u001b[49m\u001b[38;5;241;43m300\u001b[39;49m\u001b[43m,\u001b[49m\u001b[43m \u001b[49m\u001b[38;5;241;43m400\u001b[39;49m\u001b[43m,\u001b[49m\u001b[43m \u001b[49m\u001b[38;5;241;43m500\u001b[39;49m\u001b[43m]\u001b[49m\u001b[43m,\u001b[49m\u001b[43m \u001b[49m\u001b[43mdtype\u001b[49m\u001b[38;5;241;43m=\u001b[39;49m\u001b[38;5;124;43m'\u001b[39;49m\u001b[38;5;124;43mint8\u001b[39;49m\u001b[38;5;124;43m'\u001b[39;49m\u001b[43m)\u001b[49m\n",
      "\u001b[0;31mOverflowError\u001b[0m: Python integer 200 out of bounds for int8"
     ]
    }
   ],
   "source": [
    "np.array([200, 300, 400, 500], dtype='int8')"
   ]
  },
  {
   "cell_type": "code",
   "execution_count": 13,
   "id": "f3bf7f18-3ffc-4b23-bd4b-684890e5d924",
   "metadata": {},
   "outputs": [
    {
     "data": {
      "text/plain": [
       "array([[1, 2, 3],\n",
       "       [4, 5, 6],\n",
       "       [7, 8, 9]])"
      ]
     },
     "execution_count": 13,
     "metadata": {},
     "output_type": "execute_result"
    }
   ],
   "source": [
    "np.array([[1, 2, 3],\n",
    "          [4, 5, 6],\n",
    "          [7, 8, 9]])"
   ]
  },
  {
   "cell_type": "code",
   "execution_count": 14,
   "id": "18978729-831c-46d1-a3e3-946888ab0bc9",
   "metadata": {},
   "outputs": [
    {
     "data": {
      "text/plain": [
       "[range(2, 5), range(4, 7), range(6, 9)]"
      ]
     },
     "execution_count": 14,
     "metadata": {},
     "output_type": "execute_result"
    }
   ],
   "source": [
    "[range(i, i + 3) for i in [2, 4, 6]]"
   ]
  },
  {
   "cell_type": "code",
   "execution_count": 15,
   "id": "202da2e2-fff5-4640-b2ed-8ca122ddb4d9",
   "metadata": {},
   "outputs": [
    {
     "data": {
      "text/plain": [
       "array([[2, 3, 4],\n",
       "       [4, 5, 6],\n",
       "       [6, 7, 8]])"
      ]
     },
     "execution_count": 15,
     "metadata": {},
     "output_type": "execute_result"
    }
   ],
   "source": [
    "np.array([range(i, i + 3) for i in [2, 4, 6]])"
   ]
  },
  {
   "cell_type": "code",
   "execution_count": 16,
   "id": "655b0960-bef1-4442-845a-074f9c47db9f",
   "metadata": {},
   "outputs": [
    {
     "data": {
      "text/plain": [
       "array([0, 0, 0, 0, 0, 0, 0, 0, 0, 0])"
      ]
     },
     "execution_count": 16,
     "metadata": {},
     "output_type": "execute_result"
    }
   ],
   "source": [
    "np.zeros(10, dtype=\"int\")"
   ]
  },
  {
   "cell_type": "code",
   "execution_count": 17,
   "id": "4e509937-b960-4b8c-be57-357687c54cfd",
   "metadata": {},
   "outputs": [
    {
     "data": {
      "text/plain": [
       "dtype('int64')"
      ]
     },
     "execution_count": 17,
     "metadata": {},
     "output_type": "execute_result"
    }
   ],
   "source": [
    "x = np.zeros(10, dtype=\"int\")\n",
    "x.dtype"
   ]
  },
  {
   "cell_type": "code",
   "execution_count": 18,
   "id": "6246243f-7128-424e-80c8-42cfe3158cfa",
   "metadata": {},
   "outputs": [
    {
     "data": {
      "text/plain": [
       "array(['', '', '', '', '', '', '', '', '', ''], dtype='<U1')"
      ]
     },
     "execution_count": 18,
     "metadata": {},
     "output_type": "execute_result"
    }
   ],
   "source": [
    "np.zeros(10, dtype=\"str\")"
   ]
  },
  {
   "cell_type": "code",
   "execution_count": 19,
   "id": "60094fcd-211e-4837-97d8-85014ae5267b",
   "metadata": {},
   "outputs": [
    {
     "data": {
      "text/plain": [
       "dtype('<U1')"
      ]
     },
     "execution_count": 19,
     "metadata": {},
     "output_type": "execute_result"
    }
   ],
   "source": [
    "x = np.zeros(10, dtype=\"str\")\n",
    "x.dtype"
   ]
  },
  {
   "cell_type": "code",
   "execution_count": 20,
   "id": "1beb263f-874a-4aa3-91ec-a51e70e7ae0f",
   "metadata": {},
   "outputs": [
    {
     "data": {
      "text/plain": [
       "array([[1., 1., 1., 1., 1.],\n",
       "       [1., 1., 1., 1., 1.],\n",
       "       [1., 1., 1., 1., 1.]])"
      ]
     },
     "execution_count": 20,
     "metadata": {},
     "output_type": "execute_result"
    }
   ],
   "source": [
    "np.ones((3, 5), dtype=\"float\")"
   ]
  },
  {
   "cell_type": "code",
   "execution_count": 21,
   "id": "718e155e-170c-470d-9949-dbf09be7c4fa",
   "metadata": {},
   "outputs": [
    {
     "data": {
      "text/plain": [
       "dtype('float64')"
      ]
     },
     "execution_count": 21,
     "metadata": {},
     "output_type": "execute_result"
    }
   ],
   "source": [
    "x = np.ones((3, 5), dtype=\"float\")\n",
    "x.dtype"
   ]
  },
  {
   "cell_type": "code",
   "execution_count": 22,
   "id": "996146a5-2332-4d9c-99a0-4faea3069af9",
   "metadata": {},
   "outputs": [
    {
     "data": {
      "text/plain": [
       "array([[3.14, 3.14, 3.14, 3.14, 3.14],\n",
       "       [3.14, 3.14, 3.14, 3.14, 3.14],\n",
       "       [3.14, 3.14, 3.14, 3.14, 3.14]])"
      ]
     },
     "execution_count": 22,
     "metadata": {},
     "output_type": "execute_result"
    }
   ],
   "source": [
    "np.full((3, 5), 3.14)"
   ]
  },
  {
   "cell_type": "markdown",
   "id": "b810c014-ce14-4817-a67c-d334c7423c76",
   "metadata": {},
   "source": [
    "**Ejercicio:** Utilizando el sistema de ayuda incorporado de Python y Jupyter, escribe con tus propias palabras qué hacen las siguientes funciones y presenta ejemplos.\n",
    "- `np.eye`\n",
    "- `np.identity`"
   ]
  },
  {
   "cell_type": "code",
   "execution_count": 23,
   "id": "56a02694-9583-4d5a-b00c-f5e22d824fc9",
   "metadata": {},
   "outputs": [
    {
     "data": {
      "text/plain": [
       "\u001b[0;31mSignature:\u001b[0m\n",
       " \u001b[0mnp\u001b[0m\u001b[0;34m.\u001b[0m\u001b[0meye\u001b[0m\u001b[0;34m(\u001b[0m\u001b[0;34m\u001b[0m\n",
       "\u001b[0;34m\u001b[0m    \u001b[0mN\u001b[0m\u001b[0;34m,\u001b[0m\u001b[0;34m\u001b[0m\n",
       "\u001b[0;34m\u001b[0m    \u001b[0mM\u001b[0m\u001b[0;34m=\u001b[0m\u001b[0;32mNone\u001b[0m\u001b[0;34m,\u001b[0m\u001b[0;34m\u001b[0m\n",
       "\u001b[0;34m\u001b[0m    \u001b[0mk\u001b[0m\u001b[0;34m=\u001b[0m\u001b[0;36m0\u001b[0m\u001b[0;34m,\u001b[0m\u001b[0;34m\u001b[0m\n",
       "\u001b[0;34m\u001b[0m    \u001b[0mdtype\u001b[0m\u001b[0;34m=\u001b[0m\u001b[0;34m<\u001b[0m\u001b[0;32mclass\u001b[0m \u001b[0;34m'float'\u001b[0m\u001b[0;34m>\u001b[0m\u001b[0;34m,\u001b[0m\u001b[0;34m\u001b[0m\n",
       "\u001b[0;34m\u001b[0m    \u001b[0morder\u001b[0m\u001b[0;34m=\u001b[0m\u001b[0;34m'C'\u001b[0m\u001b[0;34m,\u001b[0m\u001b[0;34m\u001b[0m\n",
       "\u001b[0;34m\u001b[0m    \u001b[0;34m*\u001b[0m\u001b[0;34m,\u001b[0m\u001b[0;34m\u001b[0m\n",
       "\u001b[0;34m\u001b[0m    \u001b[0mdevice\u001b[0m\u001b[0;34m=\u001b[0m\u001b[0;32mNone\u001b[0m\u001b[0;34m,\u001b[0m\u001b[0;34m\u001b[0m\n",
       "\u001b[0;34m\u001b[0m    \u001b[0mlike\u001b[0m\u001b[0;34m=\u001b[0m\u001b[0;32mNone\u001b[0m\u001b[0;34m,\u001b[0m\u001b[0;34m\u001b[0m\n",
       "\u001b[0;34m\u001b[0m\u001b[0;34m)\u001b[0m\u001b[0;34m\u001b[0m\u001b[0;34m\u001b[0m\u001b[0m\n",
       "\u001b[0;31mDocstring:\u001b[0m\n",
       "Return a 2-D array with ones on the diagonal and zeros elsewhere.\n",
       "\n",
       "Parameters\n",
       "----------\n",
       "N : int\n",
       "  Number of rows in the output.\n",
       "M : int, optional\n",
       "  Number of columns in the output. If None, defaults to `N`.\n",
       "k : int, optional\n",
       "  Index of the diagonal: 0 (the default) refers to the main diagonal,\n",
       "  a positive value refers to an upper diagonal, and a negative value\n",
       "  to a lower diagonal.\n",
       "dtype : data-type, optional\n",
       "  Data-type of the returned array.\n",
       "order : {'C', 'F'}, optional\n",
       "    Whether the output should be stored in row-major (C-style) or\n",
       "    column-major (Fortran-style) order in memory.\n",
       "\n",
       "    .. versionadded:: 1.14.0\n",
       "device : str, optional\n",
       "    The device on which to place the created array. Default: None.\n",
       "    For Array-API interoperability only, so must be ``\"cpu\"`` if passed.\n",
       "\n",
       "    .. versionadded:: 2.0.0\n",
       "like : array_like, optional\n",
       "    Reference object to allow the creation of arrays which are not\n",
       "    NumPy arrays. If an array-like passed in as ``like`` supports\n",
       "    the ``__array_function__`` protocol, the result will be defined\n",
       "    by it. In this case, it ensures the creation of an array object\n",
       "    compatible with that passed in via this argument.\n",
       "\n",
       "    .. versionadded:: 1.20.0\n",
       "\n",
       "Returns\n",
       "-------\n",
       "I : ndarray of shape (N,M)\n",
       "  An array where all elements are equal to zero, except for the `k`-th\n",
       "  diagonal, whose values are equal to one.\n",
       "\n",
       "See Also\n",
       "--------\n",
       "identity : (almost) equivalent function\n",
       "diag : diagonal 2-D array from a 1-D array specified by the user.\n",
       "\n",
       "Examples\n",
       "--------\n",
       ">>> np.eye(2, dtype=int)\n",
       "array([[1, 0],\n",
       "       [0, 1]])\n",
       ">>> np.eye(3, k=1)\n",
       "array([[0.,  1.,  0.],\n",
       "       [0.,  0.,  1.],\n",
       "       [0.,  0.,  0.]])\n",
       "\u001b[0;31mFile:\u001b[0m      /opt/conda/lib/python3.11/site-packages/numpy/lib/_twodim_base_impl.py\n",
       "\u001b[0;31mType:\u001b[0m      function"
      ]
     },
     "metadata": {},
     "output_type": "display_data"
    }
   ],
   "source": [
    "? np.eye"
   ]
  },
  {
   "cell_type": "markdown",
   "id": "a8585959-b1a6-4d7b-8230-f90a1519c736",
   "metadata": {},
   "source": [
    "La función np.eye, es una generalización de una matriz identidad, pro lo que en lugar de devolver matrices cuadradas, podemos proporcionarle un valo m que sea el valor de las columnas, otras propiedades que tiene esta funcion,tambien si definimos un valor k podemos mover la diagonal ya sea para la parte superior, como la inferior, el like aun no lo entiendo."
   ]
  },
  {
   "cell_type": "code",
   "execution_count": 24,
   "id": "731cdd07-a845-4fab-9d0a-1d59be06fff1",
   "metadata": {},
   "outputs": [
    {
     "data": {
      "text/plain": [
       "\u001b[0;31mSignature:\u001b[0m  \u001b[0mnp\u001b[0m\u001b[0;34m.\u001b[0m\u001b[0midentity\u001b[0m\u001b[0;34m(\u001b[0m\u001b[0mn\u001b[0m\u001b[0;34m,\u001b[0m \u001b[0mdtype\u001b[0m\u001b[0;34m=\u001b[0m\u001b[0;32mNone\u001b[0m\u001b[0;34m,\u001b[0m \u001b[0;34m*\u001b[0m\u001b[0;34m,\u001b[0m \u001b[0mlike\u001b[0m\u001b[0;34m=\u001b[0m\u001b[0;32mNone\u001b[0m\u001b[0;34m)\u001b[0m\u001b[0;34m\u001b[0m\u001b[0;34m\u001b[0m\u001b[0m\n",
       "\u001b[0;31mDocstring:\u001b[0m\n",
       "Return the identity array.\n",
       "\n",
       "The identity array is a square array with ones on\n",
       "the main diagonal.\n",
       "\n",
       "Parameters\n",
       "----------\n",
       "n : int\n",
       "    Number of rows (and columns) in `n` x `n` output.\n",
       "dtype : data-type, optional\n",
       "    Data-type of the output.  Defaults to ``float``.\n",
       "like : array_like, optional\n",
       "    Reference object to allow the creation of arrays which are not\n",
       "    NumPy arrays. If an array-like passed in as ``like`` supports\n",
       "    the ``__array_function__`` protocol, the result will be defined\n",
       "    by it. In this case, it ensures the creation of an array object\n",
       "    compatible with that passed in via this argument.\n",
       "\n",
       "    .. versionadded:: 1.20.0\n",
       "\n",
       "Returns\n",
       "-------\n",
       "out : ndarray\n",
       "    `n` x `n` array with its main diagonal set to one,\n",
       "    and all other elements 0.\n",
       "\n",
       "Examples\n",
       "--------\n",
       ">>> np.identity(3)\n",
       "array([[1.,  0.,  0.],\n",
       "       [0.,  1.,  0.],\n",
       "       [0.,  0.,  1.]])\n",
       "\u001b[0;31mFile:\u001b[0m      /opt/conda/lib/python3.11/site-packages/numpy/_core/numeric.py\n",
       "\u001b[0;31mType:\u001b[0m      function"
      ]
     },
     "metadata": {},
     "output_type": "display_data"
    }
   ],
   "source": [
    "? np.identity"
   ]
  },
  {
   "cell_type": "markdown",
   "id": "b5643b7e-4b50-47aa-afbf-46683ac9ba17",
   "metadata": {},
   "source": [
    "Es dar la matriz identidad diciendole la dimensión de la misma."
   ]
  },
  {
   "attachments": {},
   "cell_type": "markdown",
   "id": "23430006-6d19-4bb2-b11b-abcd982d12f7",
   "metadata": {},
   "source": [
    "## Intervalos de valores"
   ]
  },
  {
   "cell_type": "code",
   "execution_count": 25,
   "id": "0fa45cc5-0106-45f6-83bc-dd337abff82c",
   "metadata": {},
   "outputs": [
    {
     "data": {
      "text/plain": [
       "array([0.        , 0.11111111, 0.22222222, 0.33333333, 0.44444444,\n",
       "       0.55555556, 0.66666667, 0.77777778, 0.88888889, 1.        ])"
      ]
     },
     "execution_count": 25,
     "metadata": {},
     "output_type": "execute_result"
    }
   ],
   "source": [
    "np.linspace(0,1,10)"
   ]
  },
  {
   "cell_type": "code",
   "execution_count": 26,
   "id": "23943729-f82c-4328-b9a5-fcb6aefe2d56",
   "metadata": {},
   "outputs": [
    {
     "data": {
      "text/plain": [
       "10"
      ]
     },
     "execution_count": 26,
     "metadata": {},
     "output_type": "execute_result"
    }
   ],
   "source": [
    "x = np.linspace(0,1,10)\n",
    "len(x)"
   ]
  },
  {
   "cell_type": "code",
   "execution_count": 27,
   "id": "963002ca-beb7-4310-b6cc-286d62898669",
   "metadata": {},
   "outputs": [
    {
     "data": {
      "text/plain": [
       "array([ 0, 10, 20, 30, 40, 50, 60, 70, 80, 90])"
      ]
     },
     "execution_count": 27,
     "metadata": {},
     "output_type": "execute_result"
    }
   ],
   "source": [
    "np.arange(0,100,10)"
   ]
  },
  {
   "cell_type": "code",
   "execution_count": null,
   "id": "dc3b39ac-86c9-4755-a6b2-aaebb5ad3b78",
   "metadata": {},
   "outputs": [],
   "source": [
    "x = np.arange(0,100,10)\n",
    "len(x)"
   ]
  },
  {
   "cell_type": "code",
   "execution_count": null,
   "id": "46043d34-ee4b-478e-bb5e-f73c08b3776b",
   "metadata": {},
   "outputs": [],
   "source": [
    "np.arange(0,1,0.1)"
   ]
  },
  {
   "cell_type": "code",
   "execution_count": null,
   "id": "20d06e99-7adc-4b92-a192-1c63fcd6b397",
   "metadata": {},
   "outputs": [],
   "source": [
    "range(0,1,0.1)"
   ]
  },
  {
   "cell_type": "markdown",
   "id": "349deaf9-a40b-4de6-8d51-96c3018aea83",
   "metadata": {},
   "source": [
    "**Ejercicio:** Implementa una función llamada `float_range` que sea como `range` pero que funcione con valores flotantes."
   ]
  },
  {
   "cell_type": "code",
   "execution_count": 46,
   "id": "67c82a45-6b07-423e-ad7e-548664f5b497",
   "metadata": {},
   "outputs": [],
   "source": [
    "def range_float(*args):\n",
    "    if not all(isinstance(arg, (int, float)) for arg in args):\n",
    "        raise ValueError(\"Se esperan datos numéricos.\")\n",
    "        \n",
    "    if len(args) == 1:\n",
    "        n = args[0]\n",
    "        i = 0\n",
    "        while i < n:\n",
    "            yield round(i, 2)\n",
    "            i += 1\n",
    "    elif len(args) == 2:\n",
    "        i,n = args\n",
    "        while i < n:\n",
    "            yield round(i, 2)\n",
    "            i += 1\n",
    "    elif len(args)== 3:\n",
    "        i,n,j = args\n",
    "        if j==0:\n",
    "            raise ValueError(\"El incremento no puede ser 0.\")\n",
    "        elif j>0:\n",
    "            while i < n:\n",
    "                yield round(i, 2)\n",
    "                i += j\n",
    "        else:\n",
    "            while i > n:\n",
    "                yield round(i, 2)\n",
    "                i += j\n",
    "    else:\n",
    "        raise ValueError(\"Se esperan de 1 a 3 argumentos.\")\n",
    "        "
   ]
  },
  {
   "cell_type": "markdown",
   "id": "aa2d1b29-42d5-462f-8b49-b8fbc01638c9",
   "metadata": {},
   "source": [
    "**Ejercicio:** Escribe una función llamdada `linspace_with_arange` que sea como `np.linspace` pero que esté implementada con una única invocación de `np.arange`."
   ]
  },
  {
   "cell_type": "code",
   "execution_count": 40,
   "id": "ec6fe18b-4c15-4013-9ea2-6745e4fb303d",
   "metadata": {},
   "outputs": [],
   "source": [
    "def linspace_with_arange(s,st,n=50):\n",
    "    if n<=0   and not n.isinstance(int):\n",
    "        raise ValueError()\n",
    "    salto = (st-s) / (n-1)\n",
    "    return np.arange(s,st+(salto/2),salto)"
   ]
  },
  {
   "cell_type": "code",
   "execution_count": 49,
   "id": "8e814fcc",
   "metadata": {},
   "outputs": [
    {
     "data": {
      "text/plain": [
       "array([2.        , 2.21428571, 2.42857143, 2.64285714, 2.85714286,\n",
       "       3.07142857, 3.28571429, 3.5       , 3.71428571, 3.92857143,\n",
       "       4.14285714, 4.35714286, 4.57142857, 4.78571429, 5.        ])"
      ]
     },
     "execution_count": 49,
     "metadata": {},
     "output_type": "execute_result"
    }
   ],
   "source": [
    "linspace_with_arange(2,5,15)"
   ]
  },
  {
   "cell_type": "code",
   "execution_count": 44,
   "id": "ed95267b-d3c2-4c19-bd8d-0dcf68a92573",
   "metadata": {},
   "outputs": [
    {
     "name": "stdout",
     "output_type": "stream",
     "text": [
      "[1.  1.1 1.2 1.3 1.4 1.5 1.6 1.7 1.8 1.9]\n",
      "[1.  1.1 1.2 1.3 1.4 1.5 1.6 1.7 1.8 1.9]\n"
     ]
    }
   ],
   "source": [
    "print(np.arange(1, 2, 0.1))\n",
    "print(np.linspace(1, 1.9, 10))"
   ]
  },
  {
   "cell_type": "markdown",
   "id": "19bc431e-e458-4733-9d18-6fff9a5b8059",
   "metadata": {},
   "source": [
    "**Ejercicio:** Escribe una función llamada `arange_with_linspace` que sea como `np.arange` pero que esté implementada con una única invocación de `np.linspace`."
   ]
  },
  {
   "cell_type": "code",
   "execution_count": 46,
   "id": "848f84b5",
   "metadata": {},
   "outputs": [],
   "source": [
    "def arange_with_linspace(s,st,salto):\n",
    "    if salto == 0 and not salto.isinstance((int,float)):\n",
    "        raise ValueError()\n",
    "    num = int((st-s)/salto)\n",
    "    return np.linspace(s,st-salto,num)\n"
   ]
  },
  {
   "cell_type": "code",
   "execution_count": 50,
   "id": "7b5667dc",
   "metadata": {},
   "outputs": [
    {
     "data": {
      "text/plain": [
       "array([2. , 2.3, 2.6, 2.9, 3.2, 3.5, 3.8, 4.1, 4.4, 4.7])"
      ]
     },
     "execution_count": 50,
     "metadata": {},
     "output_type": "execute_result"
    }
   ],
   "source": [
    "np.arange(2,5,.3)"
   ]
  },
  {
   "cell_type": "code",
   "execution_count": 51,
   "id": "b550d1e0",
   "metadata": {},
   "outputs": [
    {
     "data": {
      "text/plain": [
       "array([2. , 2.3, 2.6, 2.9, 3.2, 3.5, 3.8, 4.1, 4.4, 4.7])"
      ]
     },
     "execution_count": 51,
     "metadata": {},
     "output_type": "execute_result"
    }
   ],
   "source": [
    "arange_with_linspace(2,5,.3)"
   ]
  },
  {
   "cell_type": "markdown",
   "id": "da55d6b8-832a-4bf4-a496-25d671738103",
   "metadata": {},
   "source": [
    "## Generación de números aleatorios"
   ]
  },
  {
   "cell_type": "code",
   "execution_count": null,
   "id": "7309d660-6da2-4fa1-a22d-154063e98e9e",
   "metadata": {},
   "outputs": [],
   "source": [
    "np.random.random()"
   ]
  },
  {
   "cell_type": "code",
   "execution_count": null,
   "id": "e0a6ae11-4e00-47e9-b49f-5595953c1a7d",
   "metadata": {},
   "outputs": [],
   "source": [
    "np.random.random()"
   ]
  },
  {
   "cell_type": "code",
   "execution_count": null,
   "id": "ce06dfa1-aaa4-4893-aca6-c769ec3bdede",
   "metadata": {},
   "outputs": [],
   "source": [
    "np.random.random()"
   ]
  },
  {
   "cell_type": "code",
   "execution_count": null,
   "id": "71cc664e-7b9c-4ad5-b7aa-38d8733b46b1",
   "metadata": {},
   "outputs": [],
   "source": [
    "np.random.random(10)"
   ]
  },
  {
   "cell_type": "markdown",
   "id": "40d86bd1-e1ad-49d8-948c-b47cff2816aa",
   "metadata": {},
   "source": [
    "Instala `matplotlib`, lo usaremos un poco pero más adelante discutiremos los detalles."
   ]
  },
  {
   "cell_type": "code",
   "execution_count": null,
   "id": "303f2906-af76-46e3-af83-114ec79f0e07",
   "metadata": {},
   "outputs": [],
   "source": [
    "import matplotlib as mpl\n",
    "import matplotlib.pyplot as plt"
   ]
  },
  {
   "cell_type": "code",
   "execution_count": null,
   "id": "b5764384-4d87-4374-ba18-6e9f83300be6",
   "metadata": {},
   "outputs": [],
   "source": [
    "fig, ax = plt.subplots()\n",
    "x = np.random.random(100)\n",
    "ax.hist(\n",
    "    x,\n",
    "    bins=50,\n",
    ")\n",
    "ax.set(\n",
    "    title=\"Histograma de números aleatorios con `np.random.random`\",\n",
    ");"
   ]
  },
  {
   "cell_type": "code",
   "execution_count": null,
   "id": "f8676b58-0f7d-457e-a066-b3d82d5e269b",
   "metadata": {},
   "outputs": [],
   "source": [
    "fig, ax = plt.subplots()\n",
    "x = np.random.random(1000)\n",
    "ax.hist(\n",
    "    x,\n",
    "    bins=50,\n",
    ")\n",
    "ax.set(\n",
    "    title=\"Histograma de números aleatorios con `np.random.random`\",\n",
    "    xlim=(0,1),\n",
    ");"
   ]
  },
  {
   "cell_type": "code",
   "execution_count": null,
   "id": "48296676-e63f-4c50-a079-25fc56a684af",
   "metadata": {},
   "outputs": [],
   "source": [
    "np.random.random((10, 3))"
   ]
  },
  {
   "cell_type": "code",
   "execution_count": null,
   "id": "268c6115-54fd-4388-a2ae-a254c33d1da7",
   "metadata": {},
   "outputs": [],
   "source": [
    "np.random.random((3,4,5))"
   ]
  },
  {
   "cell_type": "code",
   "execution_count": null,
   "id": "7407996f-0f60-4adc-bfd2-7c1cc609a45d",
   "metadata": {},
   "outputs": [],
   "source": [
    "X = np.random.random((3,3))\n",
    "X"
   ]
  },
  {
   "cell_type": "code",
   "execution_count": null,
   "id": "9cfc36f4-a273-4ac2-8800-1d86990e802d",
   "metadata": {},
   "outputs": [],
   "source": [
    "fig, ax = plt.subplots()\n",
    "x = np.random.random(1000)\n",
    "y = np.random.random(1000)\n",
    "ax.hist2d(\n",
    "    x,\n",
    "    y,\n",
    "    bins=(50,50),\n",
    ");\n",
    "ax.set(\n",
    "    title=\"Histograma de números aleatorios con `np.random.random`\",\n",
    "    xlim=(0,1),\n",
    "    ylim=(0,1),\n",
    ");"
   ]
  },
  {
   "cell_type": "code",
   "execution_count": null,
   "id": "199258d7-d589-4354-a114-cf0b4a2d1783",
   "metadata": {},
   "outputs": [],
   "source": [
    "np.random.normal(0, 1, 10)"
   ]
  },
  {
   "cell_type": "code",
   "execution_count": null,
   "id": "87af6287-68c6-4921-8b67-493128d106f4",
   "metadata": {},
   "outputs": [],
   "source": [
    "fig, ax = plt.subplots()\n",
    "n = 100\n",
    "x = np.random.normal(0, 1, n)\n",
    "ax.hist(\n",
    "    x,\n",
    "    bins=50,\n",
    ")\n",
    "ax.set(\n",
    "    title=\"Histograma de números aleatorios con `np.random.normal`\",\n",
    "    xlim=(-3.5,3.5),\n",
    ");"
   ]
  },
  {
   "cell_type": "code",
   "execution_count": null,
   "id": "0d8fb03d-aee9-490f-b484-62aff1602a67",
   "metadata": {},
   "outputs": [],
   "source": [
    "fig, ax = plt.subplots()\n",
    "n = 100\n",
    "x = np.random.normal(0, 1, n)\n",
    "y = np.random.normal(0, 1, n)\n",
    "ax.hist2d(\n",
    "    x,\n",
    "    y,\n",
    "    bins=(50,50),\n",
    ")\n",
    "ax.set(\n",
    "    title=\"Histograma de números aleatorios con `np.random.normal`\",\n",
    "    xlim=(-3.5,3.5),\n",
    "    ylim=(-3.5,3.5),\n",
    ");"
   ]
  },
  {
   "cell_type": "markdown",
   "id": "21246a5d-c89d-4950-a685-e1a77a84bc9d",
   "metadata": {},
   "source": [
    "## Sobre tipos de datos\n",
    "\n",
    "\n",
    "| **Tipo**   | **Descripción**                                                               |\n",
    "|------------|-------------------------------------------------------------------------------|\n",
    "| bool_      | Booleano (True o False) almacenado como un byte                               |\n",
    "| int_       | Tipo de entero por defecto (normalmente int64 o int32)                        |\n",
    "| intc       | Igual que int en C (normalmente int32 o int64)                                |\n",
    "| intp       | Entero usado para índices (igual que ssize_t en C; normalmente int32 o int64) |\n",
    "| int8       | Byte (–128 al 127)                                                            |\n",
    "| int16      | Entero (–32768 al 32767)                                                      |\n",
    "| int32      | Entero (–2147483648 al 2147483647)                                            |\n",
    "| int64      | Entero (–9223372036854775808 al 9223372036854775807)                          |\n",
    "| uint8      | Entero sin signo (0 al 255)                                                   |\n",
    "| uint16     | Entero sin signo (0 al 65535)                                                 |\n",
    "| uint32     | Entero sin signo (0 al 4294967295)                                            |\n",
    "| uint64     | Entero sin signo (0 al 18446744073709551615)                                  |\n",
    "| float_     | Equivalente a float64                                                         |\n",
    "| float16    | Flotante de precisión media (16 bits)                                         |\n",
    "| float32    | Flotante simple (32 bits)                                                     |\n",
    "| float64    | Flotante doble (64 bits)                                                      |\n",
    "| complex_   | Equivalente a complex128                                                      |\n",
    "| complex64  | Número complejo (dos floats simples)                                          |\n",
    "| complex128 | Número complejo (dos floats dobles)                                           |"
   ]
  }
 ],
 "metadata": {
  "kernelspec": {
   "display_name": "pca",
   "language": "python",
   "name": "python3"
  },
  "language_info": {
   "codemirror_mode": {
    "name": "ipython",
    "version": 3
   },
   "file_extension": ".py",
   "mimetype": "text/x-python",
   "name": "python",
   "nbconvert_exporter": "python",
   "pygments_lexer": "ipython3",
   "version": "3.12.3"
  }
 },
 "nbformat": 4,
 "nbformat_minor": 5
}
