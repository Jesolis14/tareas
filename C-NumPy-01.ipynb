{
 "cells": [
  {
   "cell_type": "markdown",
   "id": "4dbaab8e-39aa-4f8d-822c-6f84eb87f295",
   "metadata": {},
   "source": [
    "# Biblioteca NumPy\n",
    "\n",
    "NumPy es una biblioteca para el lenguaje de programación Python que da soporte para crear vectores y matrices grandes multidimensionales, junto con una gran colección de funciones matemáticas de alto nivel para operar con ellas.\n",
    "\n",
    "Sus características principales son:\n",
    "- **Matrices N-dimensionales potentes:** Rápidas y versátiles, los conceptos de vectorización, indexación y broadcasting de NumPy son los estándares de facto de la informática matricial actual.\n",
    "- **Herramientas de cómputo numérico:** NumPy ofrece funciones matemáticas completas, generadores de números aleatorios, rutinas de álgebra lineal, transformadas de Fourier y más.\n",
    "- **Interoperable:** NumPy es compatible con una amplia gama de plataformas de hardware y computación, y funciona bien con bibliotecas distribuidas, de GPU y de matrices dispersas.\n",
    "- **Alto rendimiento:** El núcleo de NumPy es un código C bien optimizado.\n",
    "- **Fácil de usar:** La sintaxis de alto nivel de NumPy lo hace accesible y productivo para programadores de cualquier nivel de formación o experiencia.\n",
    "\n",
    "Instala la biblioteca `numpy`...\n",
    "\n",
    "Esta libreta consiste principalmente de código. Agrega tus notas y observaciones en celdas con formato Markdown."
   ]
  },
  {
   "cell_type": "code",
   "execution_count": 1,
   "id": "1aaa00f1-3e50-4e6c-bc02-f6ed6af0a757",
   "metadata": {},
   "outputs": [],
   "source": [
    "import numpy as np"
   ]
  },
  {
   "cell_type": "code",
   "execution_count": 2,
   "id": "20d78b57-88b2-4901-806b-69b19321fd31",
   "metadata": {},
   "outputs": [
    {
     "data": {
      "text/plain": [
       "'2.1.1'"
      ]
     },
     "execution_count": 2,
     "metadata": {},
     "output_type": "execute_result"
    }
   ],
   "source": [
    "np.__version__"
   ]
  },
  {
   "cell_type": "markdown",
   "id": "7e130563-79d0-4af8-a4df-c23726fa35ef",
   "metadata": {},
   "source": [
    "## Funciones para crear arreglos"
   ]
  },
  {
   "cell_type": "code",
   "execution_count": 3,
   "id": "26c5f049-139e-418a-8350-a1bb9923e107",
   "metadata": {},
   "outputs": [
    {
     "data": {
      "text/plain": [
       "array([1, 4, 2, 5, 3])"
      ]
     },
     "execution_count": 3,
     "metadata": {},
     "output_type": "execute_result"
    }
   ],
   "source": [
    "np.array([1, 4, 2, 5, 3])"
   ]
  },
  {
   "cell_type": "code",
   "execution_count": 4,
   "id": "8a205030-d166-4d93-a944-6edbdb40f131",
   "metadata": {},
   "outputs": [
    {
     "data": {
      "text/plain": [
       "dtype('int64')"
      ]
     },
     "execution_count": 4,
     "metadata": {},
     "output_type": "execute_result"
    }
   ],
   "source": [
    "x = np.array([1, 4, 2, 5, 3])\n",
    "x.dtype"
   ]
  },
  {
   "cell_type": "code",
   "execution_count": 5,
   "id": "b4351c93-f18a-4f49-ba3a-cd824ad28bf6",
   "metadata": {},
   "outputs": [
    {
     "data": {
      "text/plain": [
       "array([3.14, 4.  , 2.  , 3.  ])"
      ]
     },
     "execution_count": 5,
     "metadata": {},
     "output_type": "execute_result"
    }
   ],
   "source": [
    "np.array([3.14, 4, 2, 3])"
   ]
  },
  {
   "cell_type": "code",
   "execution_count": 6,
   "id": "536c3144-be1f-45e1-b811-20c1d28b50b4",
   "metadata": {},
   "outputs": [
    {
     "data": {
      "text/plain": [
       "dtype('float64')"
      ]
     },
     "execution_count": 6,
     "metadata": {},
     "output_type": "execute_result"
    }
   ],
   "source": [
    "x = np.array([3.14, 4, 2, 3])\n",
    "x.dtype"
   ]
  },
  {
   "cell_type": "code",
   "execution_count": 7,
   "id": "73149a6c-88c1-4611-a3af-5f48ad1786e5",
   "metadata": {},
   "outputs": [
    {
     "data": {
      "text/plain": [
       "array([1., 2., 3., 4.])"
      ]
     },
     "execution_count": 7,
     "metadata": {},
     "output_type": "execute_result"
    }
   ],
   "source": [
    "np.array([1, 2, 3, 4], dtype='float64')"
   ]
  },
  {
   "cell_type": "code",
   "execution_count": 8,
   "id": "b99b569a-36c5-43b0-a3aa-1609d05a7a78",
   "metadata": {},
   "outputs": [
    {
     "data": {
      "text/plain": [
       "array([1, 2, 3, 4])"
      ]
     },
     "execution_count": 8,
     "metadata": {},
     "output_type": "execute_result"
    }
   ],
   "source": [
    "np.array([1.2, 2, 3, 4], dtype='int64')"
   ]
  },
  {
   "cell_type": "code",
   "execution_count": 9,
   "id": "03096203-b143-4014-9df7-6291aae18945",
   "metadata": {},
   "outputs": [
    {
     "ename": "OverflowError",
     "evalue": "Python integer 200 out of bounds for int8",
     "output_type": "error",
     "traceback": [
      "\u001b[0;31m---------------------------------------------------------------------------\u001b[0m",
      "\u001b[0;31mOverflowError\u001b[0m                             Traceback (most recent call last)",
      "Cell \u001b[0;32mIn[9], line 1\u001b[0m\n\u001b[0;32m----> 1\u001b[0m \u001b[43mnp\u001b[49m\u001b[38;5;241;43m.\u001b[39;49m\u001b[43marray\u001b[49m\u001b[43m(\u001b[49m\u001b[43m[\u001b[49m\u001b[38;5;241;43m200\u001b[39;49m\u001b[43m,\u001b[49m\u001b[43m \u001b[49m\u001b[38;5;241;43m300\u001b[39;49m\u001b[43m,\u001b[49m\u001b[43m \u001b[49m\u001b[38;5;241;43m400\u001b[39;49m\u001b[43m,\u001b[49m\u001b[43m \u001b[49m\u001b[38;5;241;43m500\u001b[39;49m\u001b[43m]\u001b[49m\u001b[43m,\u001b[49m\u001b[43m \u001b[49m\u001b[43mdtype\u001b[49m\u001b[38;5;241;43m=\u001b[39;49m\u001b[38;5;124;43m'\u001b[39;49m\u001b[38;5;124;43mint8\u001b[39;49m\u001b[38;5;124;43m'\u001b[39;49m\u001b[43m)\u001b[49m\n",
      "\u001b[0;31mOverflowError\u001b[0m: Python integer 200 out of bounds for int8"
     ]
    }
   ],
   "source": [
    "np.array([200, 300, 400, 500], dtype='int8')"
   ]
  },
  {
   "cell_type": "code",
   "execution_count": 10,
   "id": "f3bf7f18-3ffc-4b23-bd4b-684890e5d924",
   "metadata": {},
   "outputs": [
    {
     "data": {
      "text/plain": [
       "array([[1, 2, 3],\n",
       "       [4, 5, 6],\n",
       "       [7, 8, 9]])"
      ]
     },
     "execution_count": 10,
     "metadata": {},
     "output_type": "execute_result"
    }
   ],
   "source": [
    "np.array([[1, 2, 3],\n",
    "          [4, 5, 6],\n",
    "          [7, 8, 9]])"
   ]
  },
  {
   "cell_type": "code",
   "execution_count": 11,
   "id": "18978729-831c-46d1-a3e3-946888ab0bc9",
   "metadata": {},
   "outputs": [
    {
     "data": {
      "text/plain": [
       "[range(2, 5), range(4, 7), range(6, 9)]"
      ]
     },
     "execution_count": 11,
     "metadata": {},
     "output_type": "execute_result"
    }
   ],
   "source": [
    "[range(i, i + 3) for i in [2, 4, 6]]"
   ]
  },
  {
   "cell_type": "code",
   "execution_count": 12,
   "id": "202da2e2-fff5-4640-b2ed-8ca122ddb4d9",
   "metadata": {},
   "outputs": [
    {
     "data": {
      "text/plain": [
       "array([[2, 3, 4],\n",
       "       [4, 5, 6],\n",
       "       [6, 7, 8]])"
      ]
     },
     "execution_count": 12,
     "metadata": {},
     "output_type": "execute_result"
    }
   ],
   "source": [
    "np.array([range(i, i + 3) for i in [2, 4, 6]])"
   ]
  },
  {
   "cell_type": "code",
   "execution_count": 13,
   "id": "655b0960-bef1-4442-845a-074f9c47db9f",
   "metadata": {},
   "outputs": [
    {
     "data": {
      "text/plain": [
       "array([0, 0, 0, 0, 0, 0, 0, 0, 0, 0])"
      ]
     },
     "execution_count": 13,
     "metadata": {},
     "output_type": "execute_result"
    }
   ],
   "source": [
    "np.zeros(10, dtype=\"int\")"
   ]
  },
  {
   "cell_type": "code",
   "execution_count": 14,
   "id": "4e509937-b960-4b8c-be57-357687c54cfd",
   "metadata": {},
   "outputs": [
    {
     "data": {
      "text/plain": [
       "dtype('int64')"
      ]
     },
     "execution_count": 14,
     "metadata": {},
     "output_type": "execute_result"
    }
   ],
   "source": [
    "x = np.zeros(10, dtype=\"int\")\n",
    "x.dtype"
   ]
  },
  {
   "cell_type": "code",
   "execution_count": 15,
   "id": "6246243f-7128-424e-80c8-42cfe3158cfa",
   "metadata": {},
   "outputs": [
    {
     "data": {
      "text/plain": [
       "array(['', '', '', '', '', '', '', '', '', ''], dtype='<U1')"
      ]
     },
     "execution_count": 15,
     "metadata": {},
     "output_type": "execute_result"
    }
   ],
   "source": [
    "np.zeros(10, dtype=\"str\")"
   ]
  },
  {
   "cell_type": "code",
   "execution_count": 16,
   "id": "60094fcd-211e-4837-97d8-85014ae5267b",
   "metadata": {},
   "outputs": [
    {
     "data": {
      "text/plain": [
       "dtype('<U1')"
      ]
     },
     "execution_count": 16,
     "metadata": {},
     "output_type": "execute_result"
    }
   ],
   "source": [
    "x = np.zeros(10, dtype=\"str\")\n",
    "x.dtype"
   ]
  },
  {
   "cell_type": "code",
   "execution_count": 17,
   "id": "1beb263f-874a-4aa3-91ec-a51e70e7ae0f",
   "metadata": {},
   "outputs": [
    {
     "data": {
      "text/plain": [
       "array([[1., 1., 1., 1., 1.],\n",
       "       [1., 1., 1., 1., 1.],\n",
       "       [1., 1., 1., 1., 1.]])"
      ]
     },
     "execution_count": 17,
     "metadata": {},
     "output_type": "execute_result"
    }
   ],
   "source": [
    "np.ones((3, 5), dtype=\"float\")"
   ]
  },
  {
   "cell_type": "code",
   "execution_count": 18,
   "id": "718e155e-170c-470d-9949-dbf09be7c4fa",
   "metadata": {},
   "outputs": [
    {
     "data": {
      "text/plain": [
       "dtype('float64')"
      ]
     },
     "execution_count": 18,
     "metadata": {},
     "output_type": "execute_result"
    }
   ],
   "source": [
    "x = np.ones((3, 5), dtype=\"float\")\n",
    "x.dtype"
   ]
  },
  {
   "cell_type": "code",
   "execution_count": 19,
   "id": "996146a5-2332-4d9c-99a0-4faea3069af9",
   "metadata": {},
   "outputs": [
    {
     "data": {
      "text/plain": [
       "array([[3.14, 3.14, 3.14, 3.14, 3.14],\n",
       "       [3.14, 3.14, 3.14, 3.14, 3.14],\n",
       "       [3.14, 3.14, 3.14, 3.14, 3.14]])"
      ]
     },
     "execution_count": 19,
     "metadata": {},
     "output_type": "execute_result"
    }
   ],
   "source": [
    "np.full((3, 5), 3.14)"
   ]
  },
  {
   "cell_type": "markdown",
   "id": "b810c014-ce14-4817-a67c-d334c7423c76",
   "metadata": {},
   "source": [
    "**Ejercicio:** Utilizando el sistema de ayuda incorporado de Python y Jupyter, escribe con tus propias palabras qué hacen las siguientes funciones y presenta ejemplos.\n",
    "- `np.eye`\n",
    "- `np.identity`"
   ]
  },
  {
   "cell_type": "code",
   "execution_count": 20,
   "id": "56a02694-9583-4d5a-b00c-f5e22d824fc9",
   "metadata": {},
   "outputs": [
    {
     "name": "stdout",
     "output_type": "stream",
     "text": [
      "\u001b[0;31mSignature:\u001b[0m\n",
      " \u001b[0mnp\u001b[0m\u001b[0;34m.\u001b[0m\u001b[0meye\u001b[0m\u001b[0;34m(\u001b[0m\u001b[0;34m\u001b[0m\n",
      "\u001b[0;34m\u001b[0m    \u001b[0mN\u001b[0m\u001b[0;34m,\u001b[0m\u001b[0;34m\u001b[0m\n",
      "\u001b[0;34m\u001b[0m    \u001b[0mM\u001b[0m\u001b[0;34m=\u001b[0m\u001b[0;32mNone\u001b[0m\u001b[0;34m,\u001b[0m\u001b[0;34m\u001b[0m\n",
      "\u001b[0;34m\u001b[0m    \u001b[0mk\u001b[0m\u001b[0;34m=\u001b[0m\u001b[0;36m0\u001b[0m\u001b[0;34m,\u001b[0m\u001b[0;34m\u001b[0m\n",
      "\u001b[0;34m\u001b[0m    \u001b[0mdtype\u001b[0m\u001b[0;34m=\u001b[0m\u001b[0;34m<\u001b[0m\u001b[0;32mclass\u001b[0m \u001b[0;34m'float'\u001b[0m\u001b[0;34m>\u001b[0m\u001b[0;34m,\u001b[0m\u001b[0;34m\u001b[0m\n",
      "\u001b[0;34m\u001b[0m    \u001b[0morder\u001b[0m\u001b[0;34m=\u001b[0m\u001b[0;34m'C'\u001b[0m\u001b[0;34m,\u001b[0m\u001b[0;34m\u001b[0m\n",
      "\u001b[0;34m\u001b[0m    \u001b[0;34m*\u001b[0m\u001b[0;34m,\u001b[0m\u001b[0;34m\u001b[0m\n",
      "\u001b[0;34m\u001b[0m    \u001b[0mdevice\u001b[0m\u001b[0;34m=\u001b[0m\u001b[0;32mNone\u001b[0m\u001b[0;34m,\u001b[0m\u001b[0;34m\u001b[0m\n",
      "\u001b[0;34m\u001b[0m    \u001b[0mlike\u001b[0m\u001b[0;34m=\u001b[0m\u001b[0;32mNone\u001b[0m\u001b[0;34m,\u001b[0m\u001b[0;34m\u001b[0m\n",
      "\u001b[0;34m\u001b[0m\u001b[0;34m)\u001b[0m\u001b[0;34m\u001b[0m\u001b[0;34m\u001b[0m\u001b[0m\n",
      "\u001b[0;31mDocstring:\u001b[0m\n",
      "Return a 2-D array with ones on the diagonal and zeros elsewhere.\n",
      "\n",
      "Parameters\n",
      "----------\n",
      "N : int\n",
      "  Number of rows in the output.\n",
      "M : int, optional\n",
      "  Number of columns in the output. If None, defaults to `N`.\n",
      "k : int, optional\n",
      "  Index of the diagonal: 0 (the default) refers to the main diagonal,\n",
      "  a positive value refers to an upper diagonal, and a negative value\n",
      "  to a lower diagonal.\n",
      "dtype : data-type, optional\n",
      "  Data-type of the returned array.\n",
      "order : {'C', 'F'}, optional\n",
      "    Whether the output should be stored in row-major (C-style) or\n",
      "    column-major (Fortran-style) order in memory.\n",
      "\n",
      "    .. versionadded:: 1.14.0\n",
      "device : str, optional\n",
      "    The device on which to place the created array. Default: None.\n",
      "    For Array-API interoperability only, so must be ``\"cpu\"`` if passed.\n",
      "\n",
      "    .. versionadded:: 2.0.0\n",
      "like : array_like, optional\n",
      "    Reference object to allow the creation of arrays which are not\n",
      "    NumPy arrays. If an array-like passed in as ``like`` supports\n",
      "    the ``__array_function__`` protocol, the result will be defined\n",
      "    by it. In this case, it ensures the creation of an array object\n",
      "    compatible with that passed in via this argument.\n",
      "\n",
      "    .. versionadded:: 1.20.0\n",
      "\n",
      "Returns\n",
      "-------\n",
      "I : ndarray of shape (N,M)\n",
      "  An array where all elements are equal to zero, except for the `k`-th\n",
      "  diagonal, whose values are equal to one.\n",
      "\n",
      "See Also\n",
      "--------\n",
      "identity : (almost) equivalent function\n",
      "diag : diagonal 2-D array from a 1-D array specified by the user.\n",
      "\n",
      "Examples\n",
      "--------\n",
      ">>> import numpy as np\n",
      ">>> np.eye(2, dtype=int)\n",
      "array([[1, 0],\n",
      "       [0, 1]])\n",
      ">>> np.eye(3, k=1)\n",
      "array([[0.,  1.,  0.],\n",
      "       [0.,  0.,  1.],\n",
      "       [0.,  0.,  0.]])\n",
      "\u001b[0;31mFile:\u001b[0m      ~/Escritorio/PCD/top-imdb/proyecto_imdb/pca/lib/python3.12/site-packages/numpy/lib/_twodim_base_impl.py\n",
      "\u001b[0;31mType:\u001b[0m      function"
     ]
    }
   ],
   "source": [
    "? np.eye"
   ]
  },
  {
   "cell_type": "markdown",
   "id": "a8585959-b1a6-4d7b-8230-f90a1519c736",
   "metadata": {},
   "source": [
    "La función np.eye, es una generalización de una matriz identidad, pro lo que en lugar de devolver matrices cuadradas, podemos proporcionarle un valo m que sea el valor de las columnas, otras propiedades que tiene esta funcion,tambien si definimos un valor k podemos mover la diagonal ya sea para la parte superior, como la inferior, el like aun no lo entiendo."
   ]
  },
  {
   "cell_type": "code",
   "execution_count": 56,
   "id": "a7d3f92d",
   "metadata": {},
   "outputs": [
    {
     "data": {
      "text/plain": [
       "array([[0., 1., 0., 0., 0.],\n",
       "       [0., 0., 1., 0., 0.],\n",
       "       [0., 0., 0., 1., 0.],\n",
       "       [0., 0., 0., 0., 1.]])"
      ]
     },
     "execution_count": 56,
     "metadata": {},
     "output_type": "execute_result"
    }
   ],
   "source": [
    "np.eye(N=4,M=5,k=1)"
   ]
  },
  {
   "cell_type": "code",
   "execution_count": 21,
   "id": "731cdd07-a845-4fab-9d0a-1d59be06fff1",
   "metadata": {},
   "outputs": [
    {
     "name": "stdout",
     "output_type": "stream",
     "text": [
      "\u001b[0;31mSignature:\u001b[0m  \u001b[0mnp\u001b[0m\u001b[0;34m.\u001b[0m\u001b[0midentity\u001b[0m\u001b[0;34m(\u001b[0m\u001b[0mn\u001b[0m\u001b[0;34m,\u001b[0m \u001b[0mdtype\u001b[0m\u001b[0;34m=\u001b[0m\u001b[0;32mNone\u001b[0m\u001b[0;34m,\u001b[0m \u001b[0;34m*\u001b[0m\u001b[0;34m,\u001b[0m \u001b[0mlike\u001b[0m\u001b[0;34m=\u001b[0m\u001b[0;32mNone\u001b[0m\u001b[0;34m)\u001b[0m\u001b[0;34m\u001b[0m\u001b[0;34m\u001b[0m\u001b[0m\n",
      "\u001b[0;31mDocstring:\u001b[0m\n",
      "Return the identity array.\n",
      "\n",
      "The identity array is a square array with ones on\n",
      "the main diagonal.\n",
      "\n",
      "Parameters\n",
      "----------\n",
      "n : int\n",
      "    Number of rows (and columns) in `n` x `n` output.\n",
      "dtype : data-type, optional\n",
      "    Data-type of the output.  Defaults to ``float``.\n",
      "like : array_like, optional\n",
      "    Reference object to allow the creation of arrays which are not\n",
      "    NumPy arrays. If an array-like passed in as ``like`` supports\n",
      "    the ``__array_function__`` protocol, the result will be defined\n",
      "    by it. In this case, it ensures the creation of an array object\n",
      "    compatible with that passed in via this argument.\n",
      "\n",
      "    .. versionadded:: 1.20.0\n",
      "\n",
      "Returns\n",
      "-------\n",
      "out : ndarray\n",
      "    `n` x `n` array with its main diagonal set to one,\n",
      "    and all other elements 0.\n",
      "\n",
      "Examples\n",
      "--------\n",
      ">>> import numpy as np\n",
      ">>> np.identity(3)\n",
      "array([[1.,  0.,  0.],\n",
      "       [0.,  1.,  0.],\n",
      "       [0.,  0.,  1.]])\n",
      "\u001b[0;31mFile:\u001b[0m      ~/Escritorio/PCD/top-imdb/proyecto_imdb/pca/lib/python3.12/site-packages/numpy/_core/numeric.py\n",
      "\u001b[0;31mType:\u001b[0m      function"
     ]
    }
   ],
   "source": [
    "? np.identity"
   ]
  },
  {
   "cell_type": "markdown",
   "id": "b5643b7e-4b50-47aa-afbf-46683ac9ba17",
   "metadata": {},
   "source": [
    "Es dar la matriz identidad diciendole la dimensión de la misma."
   ]
  },
  {
   "cell_type": "code",
   "execution_count": 58,
   "id": "57975876",
   "metadata": {},
   "outputs": [
    {
     "data": {
      "text/plain": [
       "array([[1., 0., 0., 0., 0.],\n",
       "       [0., 1., 0., 0., 0.],\n",
       "       [0., 0., 1., 0., 0.],\n",
       "       [0., 0., 0., 1., 0.],\n",
       "       [0., 0., 0., 0., 1.]])"
      ]
     },
     "execution_count": 58,
     "metadata": {},
     "output_type": "execute_result"
    }
   ],
   "source": [
    "np.identity(n=5)"
   ]
  },
  {
   "attachments": {},
   "cell_type": "markdown",
   "id": "23430006-6d19-4bb2-b11b-abcd982d12f7",
   "metadata": {},
   "source": [
    "## Intervalos de valores"
   ]
  },
  {
   "cell_type": "code",
   "execution_count": 22,
   "id": "0fa45cc5-0106-45f6-83bc-dd337abff82c",
   "metadata": {},
   "outputs": [
    {
     "data": {
      "text/plain": [
       "array([0.        , 0.11111111, 0.22222222, 0.33333333, 0.44444444,\n",
       "       0.55555556, 0.66666667, 0.77777778, 0.88888889, 1.        ])"
      ]
     },
     "execution_count": 22,
     "metadata": {},
     "output_type": "execute_result"
    }
   ],
   "source": [
    "np.linspace(0,1,10)"
   ]
  },
  {
   "cell_type": "code",
   "execution_count": 23,
   "id": "23943729-f82c-4328-b9a5-fcb6aefe2d56",
   "metadata": {},
   "outputs": [
    {
     "data": {
      "text/plain": [
       "10"
      ]
     },
     "execution_count": 23,
     "metadata": {},
     "output_type": "execute_result"
    }
   ],
   "source": [
    "x = np.linspace(0,1,10)\n",
    "len(x)"
   ]
  },
  {
   "cell_type": "code",
   "execution_count": 24,
   "id": "963002ca-beb7-4310-b6cc-286d62898669",
   "metadata": {},
   "outputs": [
    {
     "data": {
      "text/plain": [
       "array([ 0, 10, 20, 30, 40, 50, 60, 70, 80, 90])"
      ]
     },
     "execution_count": 24,
     "metadata": {},
     "output_type": "execute_result"
    }
   ],
   "source": [
    "np.arange(0,100,10)"
   ]
  },
  {
   "cell_type": "code",
   "execution_count": 25,
   "id": "dc3b39ac-86c9-4755-a6b2-aaebb5ad3b78",
   "metadata": {},
   "outputs": [
    {
     "data": {
      "text/plain": [
       "10"
      ]
     },
     "execution_count": 25,
     "metadata": {},
     "output_type": "execute_result"
    }
   ],
   "source": [
    "x = np.arange(0,100,10)\n",
    "len(x)"
   ]
  },
  {
   "cell_type": "code",
   "execution_count": 26,
   "id": "46043d34-ee4b-478e-bb5e-f73c08b3776b",
   "metadata": {},
   "outputs": [
    {
     "data": {
      "text/plain": [
       "array([0. , 0.1, 0.2, 0.3, 0.4, 0.5, 0.6, 0.7, 0.8, 0.9])"
      ]
     },
     "execution_count": 26,
     "metadata": {},
     "output_type": "execute_result"
    }
   ],
   "source": [
    "np.arange(0,1,0.1)"
   ]
  },
  {
   "cell_type": "markdown",
   "id": "349deaf9-a40b-4de6-8d51-96c3018aea83",
   "metadata": {},
   "source": [
    "**Ejercicio:** Implementa una función llamada `float_range` que sea como `range` pero que funcione con valores flotantes."
   ]
  },
  {
   "cell_type": "code",
   "execution_count": 68,
   "id": "67c82a45-6b07-423e-ad7e-548664f5b497",
   "metadata": {},
   "outputs": [],
   "source": [
    "def range_float(*args):\n",
    "    if not all(isinstance(arg, (int, float)) for arg in args):\n",
    "        raise ValueError(\"Se esperan datos numéricos.\")\n",
    "        \n",
    "    if len(args) == 1:\n",
    "        n = args[0]\n",
    "        i = 0\n",
    "        while i < n:\n",
    "            yield round(i, 2)\n",
    "            i += 1\n",
    "    elif len(args) == 2:\n",
    "        i,n = args\n",
    "        if i>n:\n",
    "            raise ValueError('La segunda entrada debe ser mayor que la primera')\n",
    "        while i < n:\n",
    "            yield round(i, 2)\n",
    "            i += 1\n",
    "    elif len(args)== 3:\n",
    "        i,n,j = args\n",
    "        if j==0:\n",
    "            raise ValueError(\"El incremento no puede ser 0.\")\n",
    "        elif j>0:\n",
    "            while i < n:\n",
    "                yield round(i, 2)\n",
    "                i += j\n",
    "        else:\n",
    "            while i > n:\n",
    "                yield round(i, 2)\n",
    "                i += j\n",
    "    else:\n",
    "        raise ValueError(\"Se esperan de 1 a 3 argumentos.\")\n",
    "        "
   ]
  },
  {
   "cell_type": "code",
   "execution_count": 64,
   "id": "2448cf65",
   "metadata": {},
   "outputs": [
    {
     "name": "stdout",
     "output_type": "stream",
     "text": [
      "1.4\n",
      "1.7\n",
      "2.0\n",
      "2.3\n",
      "2.6\n"
     ]
    }
   ],
   "source": [
    "for i in range_float(1.4,2.8,.3):\n",
    "    print(i)"
   ]
  },
  {
   "cell_type": "code",
   "execution_count": 70,
   "id": "192b996b",
   "metadata": {},
   "outputs": [
    {
     "name": "stdout",
     "output_type": "stream",
     "text": [
      "3\n",
      "4\n",
      "5\n",
      "6\n",
      "7\n"
     ]
    }
   ],
   "source": [
    "for i in range_float(3,8):\n",
    "    print(i)"
   ]
  },
  {
   "cell_type": "code",
   "execution_count": 71,
   "id": "baca1ead",
   "metadata": {},
   "outputs": [
    {
     "name": "stdout",
     "output_type": "stream",
     "text": [
      "0\n",
      "1\n",
      "2\n",
      "3\n",
      "4\n",
      "5\n",
      "6\n",
      "7\n",
      "8\n",
      "9\n",
      "10\n",
      "11\n",
      "12\n",
      "13\n",
      "14\n",
      "15\n"
     ]
    }
   ],
   "source": [
    "for i in range_float(15.5):\n",
    "    print(i)"
   ]
  },
  {
   "cell_type": "markdown",
   "id": "aa2d1b29-42d5-462f-8b49-b8fbc01638c9",
   "metadata": {},
   "source": [
    "**Ejercicio:** Escribe una función llamdada `linspace_with_arange` que sea como `np.linspace` pero que esté implementada con una única invocación de `np.arange`."
   ]
  },
  {
   "cell_type": "code",
   "execution_count": 29,
   "id": "ec6fe18b-4c15-4013-9ea2-6745e4fb303d",
   "metadata": {},
   "outputs": [],
   "source": [
    "def linspace_with_arange(s,st,n=50):\n",
    "    if n<=0   and not n.isinstance(int):\n",
    "        raise ValueError()\n",
    "    salto = (st-s) / (n-1)\n",
    "    return np.arange(s,st+(salto/2),salto)"
   ]
  },
  {
   "cell_type": "code",
   "execution_count": 60,
   "id": "7af0a120",
   "metadata": {},
   "outputs": [
    {
     "data": {
      "text/plain": [
       "array([2.        , 2.21428571, 2.42857143, 2.64285714, 2.85714286,\n",
       "       3.07142857, 3.28571429, 3.5       , 3.71428571, 3.92857143,\n",
       "       4.14285714, 4.35714286, 4.57142857, 4.78571429, 5.        ])"
      ]
     },
     "execution_count": 60,
     "metadata": {},
     "output_type": "execute_result"
    }
   ],
   "source": [
    "np.linspace(2,5,15)"
   ]
  },
  {
   "cell_type": "code",
   "execution_count": 59,
   "id": "8e814fcc",
   "metadata": {},
   "outputs": [
    {
     "data": {
      "text/plain": [
       "array([2.        , 2.21428571, 2.42857143, 2.64285714, 2.85714286,\n",
       "       3.07142857, 3.28571429, 3.5       , 3.71428571, 3.92857143,\n",
       "       4.14285714, 4.35714286, 4.57142857, 4.78571429, 5.        ])"
      ]
     },
     "execution_count": 59,
     "metadata": {},
     "output_type": "execute_result"
    }
   ],
   "source": [
    "linspace_with_arange(2,5,15)"
   ]
  },
  {
   "cell_type": "markdown",
   "id": "19bc431e-e458-4733-9d18-6fff9a5b8059",
   "metadata": {},
   "source": [
    "**Ejercicio:** Escribe una función llamada `arange_with_linspace` que sea como `np.arange` pero que esté implementada con una única invocación de `np.linspace`."
   ]
  },
  {
   "cell_type": "code",
   "execution_count": 32,
   "id": "848f84b5",
   "metadata": {},
   "outputs": [],
   "source": [
    "def arange_with_linspace(s,st,salto):\n",
    "    if salto == 0 and not salto.isinstance((int,float)):\n",
    "        raise ValueError()\n",
    "    num = int((st-s)/salto)\n",
    "    return np.linspace(s,st-salto,num)\n"
   ]
  },
  {
   "cell_type": "code",
   "execution_count": 33,
   "id": "7b5667dc",
   "metadata": {},
   "outputs": [
    {
     "data": {
      "text/plain": [
       "array([2. , 2.3, 2.6, 2.9, 3.2, 3.5, 3.8, 4.1, 4.4, 4.7])"
      ]
     },
     "execution_count": 33,
     "metadata": {},
     "output_type": "execute_result"
    }
   ],
   "source": [
    "np.arange(2,5,.3)"
   ]
  },
  {
   "cell_type": "code",
   "execution_count": 34,
   "id": "b550d1e0",
   "metadata": {},
   "outputs": [
    {
     "data": {
      "text/plain": [
       "array([2. , 2.3, 2.6, 2.9, 3.2, 3.5, 3.8, 4.1, 4.4, 4.7])"
      ]
     },
     "execution_count": 34,
     "metadata": {},
     "output_type": "execute_result"
    }
   ],
   "source": [
    "arange_with_linspace(2,5,.3)"
   ]
  },
  {
   "cell_type": "markdown",
   "id": "da55d6b8-832a-4bf4-a496-25d671738103",
   "metadata": {},
   "source": [
    "## Generación de números aleatorios"
   ]
  },
  {
   "cell_type": "code",
   "execution_count": 35,
   "id": "7309d660-6da2-4fa1-a22d-154063e98e9e",
   "metadata": {},
   "outputs": [
    {
     "data": {
      "text/plain": [
       "0.10424569552251983"
      ]
     },
     "execution_count": 35,
     "metadata": {},
     "output_type": "execute_result"
    }
   ],
   "source": [
    "np.random.random()"
   ]
  },
  {
   "cell_type": "code",
   "execution_count": 36,
   "id": "e0a6ae11-4e00-47e9-b49f-5595953c1a7d",
   "metadata": {},
   "outputs": [
    {
     "data": {
      "text/plain": [
       "0.4948047185491854"
      ]
     },
     "execution_count": 36,
     "metadata": {},
     "output_type": "execute_result"
    }
   ],
   "source": [
    "np.random.random()"
   ]
  },
  {
   "cell_type": "code",
   "execution_count": 37,
   "id": "ce06dfa1-aaa4-4893-aca6-c769ec3bdede",
   "metadata": {},
   "outputs": [
    {
     "data": {
      "text/plain": [
       "0.9567420654841187"
      ]
     },
     "execution_count": 37,
     "metadata": {},
     "output_type": "execute_result"
    }
   ],
   "source": [
    "np.random.random()"
   ]
  },
  {
   "cell_type": "code",
   "execution_count": 38,
   "id": "71cc664e-7b9c-4ad5-b7aa-38d8733b46b1",
   "metadata": {},
   "outputs": [
    {
     "data": {
      "text/plain": [
       "array([0.73406161, 0.53156633, 0.82539167, 0.55518485, 0.49713331,\n",
       "       0.07261935, 0.09781625, 0.28603921, 0.39404197, 0.57239099])"
      ]
     },
     "execution_count": 38,
     "metadata": {},
     "output_type": "execute_result"
    }
   ],
   "source": [
    "np.random.random(10)"
   ]
  },
  {
   "cell_type": "markdown",
   "id": "40d86bd1-e1ad-49d8-948c-b47cff2816aa",
   "metadata": {},
   "source": [
    "Instala `matplotlib`, lo usaremos un poco pero más adelante discutiremos los detalles."
   ]
  },
  {
   "cell_type": "code",
   "execution_count": 39,
   "id": "303f2906-af76-46e3-af83-114ec79f0e07",
   "metadata": {},
   "outputs": [],
   "source": [
    "import matplotlib as mpl\n",
    "import matplotlib.pyplot as plt"
   ]
  },
  {
   "cell_type": "code",
   "execution_count": 40,
   "id": "b5764384-4d87-4374-ba18-6e9f83300be6",
   "metadata": {},
   "outputs": [
    {
     "data": {
      "image/png": "[encoded data removed]",
      "text/plain": [
       "<Figure size 640x480 with 1 Axes>"
      ]
     },
     "metadata": {},
     "output_type": "display_data"
    }
   ],
   "source": [
    "fig, ax = plt.subplots()\n",
    "x = np.random.random(100)\n",
    "ax.hist(\n",
    "    x,\n",
    "    bins=50,\n",
    ")\n",
    "ax.set(\n",
    "    title=\"Histograma de números aleatorios con `np.random.random`\",\n",
    ");"
   ]
  },
  {
   "cell_type": "code",
   "execution_count": 41,
   "id": "f8676b58-0f7d-457e-a066-b3d82d5e269b",
   "metadata": {},
   "outputs": [
    {
     "data": {
      "image/png": "[encoded data removed]",
      "text/plain": [
       "<Figure size 640x480 with 1 Axes>"
      ]
     },
     "metadata": {},
     "output_type": "display_data"
    }
   ],
   "source": [
    "fig, ax = plt.subplots()\n",
    "x = np.random.random(1000)\n",
    "ax.hist(\n",
    "    x,\n",
    "    bins=50,\n",
    ")\n",
    "ax.set(\n",
    "    title=\"Histograma de números aleatorios con `np.random.random`\",\n",
    "    xlim=(0,1),\n",
    ");"
   ]
  },
  {
   "cell_type": "code",
   "execution_count": 42,
   "id": "48296676-e63f-4c50-a079-25fc56a684af",
   "metadata": {},
   "outputs": [
    {
     "data": {
      "text/plain": [
       "array([[0.58665197, 0.76770989, 0.31238723],\n",
       "       [0.31160481, 0.73026441, 0.20681613],\n",
       "       [0.43523087, 0.90173112, 0.15694399],\n",
       "       [0.42123122, 0.11272093, 0.82480173],\n",
       "       [0.36097119, 0.03952893, 0.56546437],\n",
       "       [0.64324053, 0.54499552, 0.61534021],\n",
       "       [0.38779987, 0.11065236, 0.54122848],\n",
       "       [0.96214367, 0.29733417, 0.63720303],\n",
       "       [0.86583505, 0.44038603, 0.24589195],\n",
       "       [0.61105603, 0.20168107, 0.00737967]])"
      ]
     },
     "execution_count": 42,
     "metadata": {},
     "output_type": "execute_result"
    }
   ],
   "source": [
    "np.random.random((10, 3))"
   ]
  },
  {
   "cell_type": "code",
   "execution_count": 43,
   "id": "268c6115-54fd-4388-a2ae-a254c33d1da7",
   "metadata": {},
   "outputs": [
    {
     "data": {
      "text/plain": [
       "array([[[0.44267308, 0.51845307, 0.29038626, 0.27969822, 0.38895662],\n",
       "        [0.13960124, 0.84078538, 0.76112262, 0.08042766, 0.85882497],\n",
       "        [0.44175908, 0.13668771, 0.54695285, 0.28554868, 0.01538473],\n",
       "        [0.85657426, 0.31193796, 0.11924699, 0.65797876, 0.84933178]],\n",
       "\n",
       "       [[0.62492959, 0.95181422, 0.88463031, 0.74050814, 0.82537004],\n",
       "        [0.909359  , 0.58345893, 0.33782026, 0.20319137, 0.30898765],\n",
       "        [0.36903193, 0.58483651, 0.60567277, 0.18111493, 0.1243154 ],\n",
       "        [0.40160475, 0.99122696, 0.42695973, 0.6693164 , 0.30845735]],\n",
       "\n",
       "       [[0.93442854, 0.94355533, 0.22166057, 0.3030271 , 0.34776642],\n",
       "        [0.19201327, 0.14855779, 0.47533101, 0.86977121, 0.15705629],\n",
       "        [0.5033718 , 0.63651547, 0.47156748, 0.01214361, 0.89970073],\n",
       "        [0.07690909, 0.57574173, 0.14173891, 0.62964308, 0.2043818 ]]])"
      ]
     },
     "execution_count": 43,
     "metadata": {},
     "output_type": "execute_result"
    }
   ],
   "source": [
    "np.random.random((3,4,5))"
   ]
  },
  {
   "cell_type": "code",
   "execution_count": 44,
   "id": "7407996f-0f60-4adc-bfd2-7c1cc609a45d",
   "metadata": {},
   "outputs": [
    {
     "data": {
      "text/plain": [
       "array([[0.39508043, 0.48987003, 0.95339749],\n",
       "       [0.62209512, 0.03010322, 0.24652625],\n",
       "       [0.5444149 , 0.83276281, 0.24550571]])"
      ]
     },
     "execution_count": 44,
     "metadata": {},
     "output_type": "execute_result"
    }
   ],
   "source": [
    "X = np.random.random((3,3))\n",
    "X"
   ]
  },
  {
   "cell_type": "code",
   "execution_count": 45,
   "id": "9cfc36f4-a273-4ac2-8800-1d86990e802d",
   "metadata": {},
   "outputs": [
    {
     "data": {
      "image/png": "[encoded data removed]",
      "text/plain": [
       "<Figure size 640x480 with 1 Axes>"
      ]
     },
     "metadata": {},
     "output_type": "display_data"
    }
   ],
   "source": [
    "fig, ax = plt.subplots()\n",
    "x = np.random.random(1000)\n",
    "y = np.random.random(1000)\n",
    "ax.hist2d(\n",
    "    x,\n",
    "    y,\n",
    "    bins=(50,50),\n",
    ");\n",
    "ax.set(\n",
    "    title=\"Histograma de números aleatorios con `np.random.random`\",\n",
    "    xlim=(0,1),\n",
    "    ylim=(0,1),\n",
    ");"
   ]
  },
  {
   "cell_type": "code",
   "execution_count": 46,
   "id": "199258d7-d589-4354-a114-cf0b4a2d1783",
   "metadata": {},
   "outputs": [
    {
     "data": {
      "text/plain": [
       "array([-0.43474957,  1.58116195,  0.163324  ,  0.54323108, -2.55332783,\n",
       "       -1.11989704,  1.76156882,  1.13901275, -1.7972097 ,  0.24758852])"
      ]
     },
     "execution_count": 46,
     "metadata": {},
     "output_type": "execute_result"
    }
   ],
   "source": [
    "np.random.normal(0, 1, 10)"
   ]
  },
  {
   "cell_type": "code",
   "execution_count": 54,
   "id": "87af6287-68c6-4921-8b67-493128d106f4",
   "metadata": {},
   "outputs": [
    {
     "data": {
      "image/png": "[encoded data removed]",
      "text/plain": [
       "<Figure size 640x480 with 1 Axes>"
      ]
     },
     "metadata": {},
     "output_type": "display_data"
    }
   ],
   "source": [
    "fig, ax = plt.subplots()\n",
    "n = 1000\n",
    "x = np.random.normal(0, 1, n)\n",
    "ax.hist(\n",
    "    x,\n",
    "    bins=50,\n",
    ")\n",
    "ax.set(\n",
    "    title=\"Histograma de números aleatorios con `np.random.normal`\",\n",
    "    xlim=(-3.5,3.5),\n",
    ");"
   ]
  },
  {
   "cell_type": "code",
   "execution_count": 48,
   "id": "0d8fb03d-aee9-490f-b484-62aff1602a67",
   "metadata": {},
   "outputs": [
    {
     "data": {
      "image/png": "[encoded data removed]",
      "text/plain": [
       "<Figure size 640x480 with 1 Axes>"
      ]
     },
     "metadata": {},
     "output_type": "display_data"
    }
   ],
   "source": [
    "fig, ax = plt.subplots()\n",
    "n = 100\n",
    "x = np.random.normal(0, 1, n)\n",
    "y = np.random.normal(0, 1, n)\n",
    "ax.hist2d(\n",
    "    x,\n",
    "    y,\n",
    "    bins=(50,50),\n",
    ")\n",
    "ax.set(\n",
    "    title=\"Histograma de números aleatorios con `np.random.normal`\",\n",
    "    xlim=(-3.5,3.5),\n",
    "    ylim=(-3.5,3.5),\n",
    ");"
   ]
  },
  {
   "cell_type": "markdown",
   "id": "21246a5d-c89d-4950-a685-e1a77a84bc9d",
   "metadata": {},
   "source": [
    "## Sobre tipos de datos\n",
    "\n",
    "\n",
    "| **Tipo**   | **Descripción**                                                               |\n",
    "|------------|-------------------------------------------------------------------------------|\n",
    "| bool_      | Booleano (True o False) almacenado como un byte                               |\n",
    "| int_       | Tipo de entero por defecto (normalmente int64 o int32)                        |\n",
    "| intc       | Igual que int en C (normalmente int32 o int64)                                |\n",
    "| intp       | Entero usado para índices (igual que ssize_t en C; normalmente int32 o int64) |\n",
    "| int8       | Byte (–128 al 127)                                                            |\n",
    "| int16      | Entero (–32768 al 32767)                                                      |\n",
    "| int32      | Entero (–2147483648 al 2147483647)                                            |\n",
    "| int64      | Entero (–9223372036854775808 al 9223372036854775807)                          |\n",
    "| uint8      | Entero sin signo (0 al 255)                                                   |\n",
    "| uint16     | Entero sin signo (0 al 65535)                                                 |\n",
    "| uint32     | Entero sin signo (0 al 4294967295)                                            |\n",
    "| uint64     | Entero sin signo (0 al 18446744073709551615)                                  |\n",
    "| float_     | Equivalente a float64                                                         |\n",
    "| float16    | Flotante de precisión media (16 bits)                                         |\n",
    "| float32    | Flotante simple (32 bits)                                                     |\n",
    "| float64    | Flotante doble (64 bits)                                                      |\n",
    "| complex_   | Equivalente a complex128                                                      |\n",
    "| complex64  | Número complejo (dos floats simples)                                          |\n",
    "| complex128 | Número complejo (dos floats dobles)                                           |"
   ]
  }
 ],
 "metadata": {
  "kernelspec": {
   "display_name": "pca",
   "language": "python",
   "name": "python3"
  },
  "language_info": {
   "codemirror_mode": {
    "name": "ipython",
    "version": 3
   },
   "file_extension": ".py",
   "mimetype": "text/x-python",
   "name": "python",
   "nbconvert_exporter": "python",
   "pygments_lexer": "ipython3",
   "version": "3.12.3"
  }
 },
 "nbformat": 4,
 "nbformat_minor": 5
}
